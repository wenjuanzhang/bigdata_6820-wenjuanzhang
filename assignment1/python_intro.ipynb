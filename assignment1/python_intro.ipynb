{
  "nbformat": 4,
  "nbformat_minor": 0,
  "metadata": {
    "colab": {
      "name": "python_intro.ipynb",
      "version": "0.3.2",
      "provenance": [],
      "collapsed_sections": [
        "3GYCUIhqvnw3",
        "BYeXKLSmvnxM",
        "Ae-CEuTYvnxg",
        "aYI_xjuTvnx4",
        "QzVVpxbcvnx7",
        "mg8boVffvnyD",
        "VPNNM5sQvnyE",
        "A6_-pYvTvnyK",
        "eKCYGfX6vnyp",
        "-x_zI3hnvnzC"
      ]
    },
    "kernelspec": {
      "display_name": "Python 3",
      "language": "python",
      "name": "python3"
    }
  },
  "cells": [
    {
      "metadata": {
        "id": "view-in-github",
        "colab_type": "text"
      },
      "cell_type": "markdown",
      "source": [
        "<a href=\"https://colab.research.google.com/github/big-data-analytics-physics/assignments/blob/master/python_intro.ipynb\" target=\"_parent\"><img src=\"https://colab.research.google.com/assets/colab-badge.svg\" alt=\"Open In Colab\"/></a>"
      ]
    },
    {
      "metadata": {
        "id": "2dBCV3amvnwP",
        "colab_type": "text"
      },
      "cell_type": "markdown",
      "source": [
        "# Scientific Python Basics"
      ]
    },
    {
      "metadata": {
        "id": "7XOfHxqUvnwR",
        "colab_type": "text"
      },
      "cell_type": "markdown",
      "source": [
        "Prepared by: Cindee Madison, Thomas Kluyver (Any errors are our own)  \n",
        "Thanks to: Justin Kitzes, Matt Davis"
      ]
    },
    {
      "metadata": {
        "id": "YPJ6yX5ovnwS",
        "colab_type": "text"
      },
      "cell_type": "markdown",
      "source": [
        "## 1. Individual things\n",
        "\n",
        "The most basic component of any programming language are \"things\", also called variables or\n",
        "(in special cases) objects.\n",
        "\n",
        "The most common basic \"things\" in Python are integers, floats, strings, booleans, and\n",
        "some special objects of various types. We'll meet many of these as we go through the lesson."
      ]
    },
    {
      "metadata": {
        "id": "VjvB8ctMvnwS",
        "colab_type": "text"
      },
      "cell_type": "markdown",
      "source": [
        "__TIP:__ To run the code in a cell quickly, press Ctrl-Enter."
      ]
    },
    {
      "metadata": {
        "id": "cJdK-1bhvnwV",
        "colab_type": "text"
      },
      "cell_type": "markdown",
      "source": [
        "__TIP:__ To quickly create a new cell below an existing one, type Ctrl-m then b.\n",
        "Other shortcuts for making, deleting, and moving cells are in the menubar at the top of the\n",
        "screen."
      ]
    },
    {
      "metadata": {
        "id": "MWfxXHAjvnwX",
        "colab_type": "code",
        "outputId": "2674d346-2477-4d5d-db0c-24edc501a804",
        "colab": {
          "base_uri": "https://localhost:8080/",
          "height": 35
        }
      },
      "cell_type": "code",
      "source": [
        "# A thing\n",
        "2"
      ],
      "execution_count": 0,
      "outputs": [
        {
          "output_type": "execute_result",
          "data": {
            "text/plain": [
              "2"
            ]
          },
          "metadata": {
            "tags": []
          },
          "execution_count": 1
        }
      ]
    },
    {
      "metadata": {
        "id": "yMdpHlaOvnwZ",
        "colab_type": "code",
        "outputId": "f7055e1a-4f87-420d-d430-3e4d0cf5d8e2",
        "colab": {
          "base_uri": "https://localhost:8080/",
          "height": 54
        }
      },
      "cell_type": "code",
      "source": [
        "# Use print to show multiple things in the same cell\n",
        "# Note that you can use single or double quotes for strings\n",
        "print(2)\n",
        "print('hello')"
      ],
      "execution_count": 0,
      "outputs": [
        {
          "output_type": "stream",
          "text": [
            "2\n",
            "hello\n"
          ],
          "name": "stdout"
        }
      ]
    },
    {
      "metadata": {
        "id": "hHhRZTstvnwc",
        "colab_type": "code",
        "outputId": "0f550789-33a1-4b9a-99b4-db38f5b90858",
        "colab": {
          "base_uri": "https://localhost:8080/",
          "height": 35
        }
      },
      "cell_type": "code",
      "source": [
        "# Things can be stored as variables\n",
        "a = 2\n",
        "b = 'hello'\n",
        "c = True  # This is case sensitive\n",
        "print(a, b, c)"
      ],
      "execution_count": 0,
      "outputs": [
        {
          "output_type": "stream",
          "text": [
            "2 hello True\n"
          ],
          "name": "stdout"
        }
      ]
    },
    {
      "metadata": {
        "id": "mofIQzhVvnwe",
        "colab_type": "code",
        "outputId": "1836bf12-c6d2-4763-da31-c484f195a90a",
        "colab": {
          "base_uri": "https://localhost:8080/",
          "height": 72
        }
      },
      "cell_type": "code",
      "source": [
        "# The type function tells us the type of thing we have\n",
        "print(type(a))\n",
        "print(type(b))\n",
        "print(type(c))"
      ],
      "execution_count": 0,
      "outputs": [
        {
          "output_type": "stream",
          "text": [
            "<class 'int'>\n",
            "<class 'str'>\n",
            "<class 'bool'>\n"
          ],
          "name": "stdout"
        }
      ]
    },
    {
      "metadata": {
        "id": "a2ge-ZVFvnwg",
        "colab_type": "code",
        "outputId": "02bb102d-f2a9-4a3f-c652-53fe0705a1e8",
        "colab": {
          "base_uri": "https://localhost:8080/",
          "height": 35
        }
      },
      "cell_type": "code",
      "source": [
        "# What happens when a new variable point to a previous variable?\n",
        "a = 1\n",
        "b = a\n",
        "a = 2\n",
        "## What is b?\n",
        "print(b)"
      ],
      "execution_count": 0,
      "outputs": [
        {
          "output_type": "stream",
          "text": [
            "1\n"
          ],
          "name": "stdout"
        }
      ]
    },
    {
      "metadata": {
        "id": "8_6FVJ_Pvnwj",
        "colab_type": "text"
      },
      "cell_type": "markdown",
      "source": [
        "## 2. Commands that operate on things\n",
        "\n",
        "Just storing data in variables isn't much use to us. Right away, we'd like to start performing\n",
        "operations and manipulations on data and variables.\n",
        "\n",
        "There are three very common means of performing an operation on a thing."
      ]
    },
    {
      "metadata": {
        "id": "1V-0sH5kvnwl",
        "colab_type": "text"
      },
      "cell_type": "markdown",
      "source": [
        "### 2.1 Use an operator\n",
        "\n",
        "All of the basic math operators work like you think they should for numbers. They can also\n",
        "do some useful operations on other things, like strings. There are also boolean operators that\n",
        "compare quantities and give back a `bool` variable as a result."
      ]
    },
    {
      "metadata": {
        "id": "yFu59XDyvnwl",
        "colab_type": "code",
        "outputId": "354c20c3-f8b5-4fbe-dba6-b834d7228ecb",
        "colab": {
          "base_uri": "https://localhost:8080/",
          "height": 90
        }
      },
      "cell_type": "code",
      "source": [
        "# Standard math operators work as expected on numbers\n",
        "a = 2\n",
        "b = 3\n",
        "print(a + b)\n",
        "print(a * b)\n",
        "print(a ** b)  # a to the power of b (a^b does something completely different!)\n",
        "print(a / b)   # Careful with dividing integers if you use Python 2"
      ],
      "execution_count": 0,
      "outputs": [
        {
          "output_type": "stream",
          "text": [
            "5\n",
            "6\n",
            "8\n",
            "0.6666666666666666\n"
          ],
          "name": "stdout"
        }
      ]
    },
    {
      "metadata": {
        "id": "yhqaU32Evnwq",
        "colab_type": "code",
        "outputId": "3d23f42b-db9d-43dd-c6f6-47918c161c64",
        "colab": {
          "base_uri": "https://localhost:8080/",
          "height": 54
        }
      },
      "cell_type": "code",
      "source": [
        "# There are also operators for strings\n",
        "print('hello' + 'world')\n",
        "print('hello' * 3)\n",
        "#print('hello' / 3)  # You can't do this!"
      ],
      "execution_count": 0,
      "outputs": [
        {
          "output_type": "stream",
          "text": [
            "helloworld\n",
            "hellohellohello\n"
          ],
          "name": "stdout"
        }
      ]
    },
    {
      "metadata": {
        "id": "DKfn3S6Nvnwv",
        "colab_type": "code",
        "outputId": "e95c87b4-6374-4301-de57-d1bd9133d237",
        "colab": {
          "base_uri": "https://localhost:8080/",
          "height": 90
        }
      },
      "cell_type": "code",
      "source": [
        "# Boolean operators compare two things\n",
        "a = (1 > 3)\n",
        "b = (3 == 3)\n",
        "print(a)\n",
        "print(b)\n",
        "print(a or b)\n",
        "print(a and b)"
      ],
      "execution_count": 0,
      "outputs": [
        {
          "output_type": "stream",
          "text": [
            "False\n",
            "True\n",
            "True\n",
            "False\n"
          ],
          "name": "stdout"
        }
      ]
    },
    {
      "metadata": {
        "id": "3GYCUIhqvnw3",
        "colab_type": "text"
      },
      "cell_type": "markdown",
      "source": [
        "### 2.2 Use a function\n",
        "\n",
        "These will be very familiar to anyone who has programmed in any language, and work like you\n",
        "would expect."
      ]
    },
    {
      "metadata": {
        "id": "22a9iaPpvnw4",
        "colab_type": "code",
        "outputId": "49c06f5f-5a31-4ac7-826a-8e9aa317bb7d",
        "colab": {
          "base_uri": "https://localhost:8080/",
          "height": 72
        }
      },
      "cell_type": "code",
      "source": [
        "# There are thousands of functions that operate on things\n",
        "print(type(3))\n",
        "print(len('hello'))\n",
        "print(round(3.3))"
      ],
      "execution_count": 0,
      "outputs": [
        {
          "output_type": "stream",
          "text": [
            "<class 'int'>\n",
            "5\n",
            "3\n"
          ],
          "name": "stdout"
        }
      ]
    },
    {
      "metadata": {
        "id": "BgT_UDo4vnw8",
        "colab_type": "text"
      },
      "cell_type": "markdown",
      "source": [
        "__TIP:__ To find out what a function does, you can type it's name and then a question mark to\n",
        "get a pop up help window. Or, to see what arguments it takes, you can type its name, an open\n",
        "parenthesis, and hit tab."
      ]
    },
    {
      "metadata": {
        "id": "07WTGITUvnw-",
        "colab_type": "code",
        "outputId": "218e48f3-439e-43f5-9f50-27af8b0c0722",
        "colab": {
          "base_uri": "https://localhost:8080/",
          "height": 35
        }
      },
      "cell_type": "code",
      "source": [
        "round?\n",
        "#round(\n",
        "round(3.14159, 2)"
      ],
      "execution_count": 0,
      "outputs": [
        {
          "output_type": "execute_result",
          "data": {
            "text/plain": [
              "3.14"
            ]
          },
          "metadata": {
            "tags": []
          },
          "execution_count": 10
        }
      ]
    },
    {
      "metadata": {
        "id": "MaxWbTlgvnxB",
        "colab_type": "text"
      },
      "cell_type": "markdown",
      "source": [
        "__TIP:__ Many useful functions are not in the Python built in library, but are in external\n",
        "scientific packages. These need to be imported into your Python notebook (or program) before\n",
        "they can be used. Probably the most important of these are numpy and matplotlib."
      ]
    },
    {
      "metadata": {
        "id": "tddJAirxvnxC",
        "colab_type": "code",
        "colab": {}
      },
      "cell_type": "code",
      "source": [
        "# Many useful functions are in external packages\n",
        "# Let's meet numpy\n",
        "import numpy as np"
      ],
      "execution_count": 0,
      "outputs": []
    },
    {
      "metadata": {
        "id": "2WN5puOyvnxG",
        "colab_type": "code",
        "outputId": "474c2627-d223-4e72-f124-99cb586edc94",
        "colab": {
          "base_uri": "https://localhost:8080/",
          "height": 35
        }
      },
      "cell_type": "code",
      "source": [
        "# To see what's in a package, type the name, a period, then hit tab\n",
        "#np?\n",
        "np.array([1,3,4])"
      ],
      "execution_count": 0,
      "outputs": [
        {
          "output_type": "execute_result",
          "data": {
            "text/plain": [
              "array([1, 3, 4])"
            ]
          },
          "metadata": {
            "tags": []
          },
          "execution_count": 121
        }
      ]
    },
    {
      "metadata": {
        "id": "iqAzpqJ2vnxJ",
        "colab_type": "code",
        "outputId": "45924ffa-a721-42c6-9fe9-a15d8a041543",
        "colab": {
          "base_uri": "https://localhost:8080/",
          "height": 72
        }
      },
      "cell_type": "code",
      "source": [
        "# Some examples of numpy functions and \"things\"\n",
        "print(np.sqrt(4))\n",
        "print(np.pi)  # Not a function, just a variable\n",
        "print(np.sin(np.pi))"
      ],
      "execution_count": 0,
      "outputs": [
        {
          "output_type": "stream",
          "text": [
            "2.0\n",
            "3.141592653589793\n",
            "1.2246467991473532e-16\n"
          ],
          "name": "stdout"
        }
      ]
    },
    {
      "metadata": {
        "id": "BYeXKLSmvnxM",
        "colab_type": "text"
      },
      "cell_type": "markdown",
      "source": [
        "### 2.3 Use a method\n",
        "\n",
        "Before we get any farther into the Python language, we have to say a word about \"objects\". We\n",
        "will not be teaching object oriented programming in this workshop, but you will encounter objects\n",
        "throughout Python (in fact, even seemingly simple things like ints and strings are actually\n",
        "objects in Python).\n",
        "\n",
        "In the simplest terms, you can think of an object as a small bundled \"thing\" that contains within\n",
        "itself both data and functions that operate on that data. For example, strings in Python are\n",
        "objects that contain a set of characters and also various functions that operate on the set of\n",
        "characters. When bundled in an object, these functions are called \"methods\".\n",
        "\n",
        "Instead of the \"normal\" `function(arguments)` syntax, methods are called using the\n",
        "syntax `variable.method(arguments)`."
      ]
    },
    {
      "metadata": {
        "id": "vXFfllqSvnxO",
        "colab_type": "code",
        "outputId": "0f3723fe-79f4-4760-84fe-801f902942d3",
        "colab": {
          "base_uri": "https://localhost:8080/",
          "height": 35
        }
      },
      "cell_type": "code",
      "source": [
        "# A string is actually an object\n",
        "a = 'hello, world'\n",
        "print(type(a))"
      ],
      "execution_count": 0,
      "outputs": [
        {
          "output_type": "stream",
          "text": [
            "<class 'str'>\n"
          ],
          "name": "stdout"
        }
      ]
    },
    {
      "metadata": {
        "id": "Ur_4N6YZvnxS",
        "colab_type": "code",
        "outputId": "19d5edff-6d5a-48ea-e146-760cc690d060",
        "colab": {
          "base_uri": "https://localhost:8080/",
          "height": 54
        }
      },
      "cell_type": "code",
      "source": [
        "# Objects have bundled methods\n",
        "#a.\n",
        "print(a.capitalize())\n",
        "print(a.replace('l', 'X'))"
      ],
      "execution_count": 0,
      "outputs": [
        {
          "output_type": "stream",
          "text": [
            "Hello, world\n",
            "heXXo, worXd\n"
          ],
          "name": "stdout"
        }
      ]
    },
    {
      "metadata": {
        "id": "a_2SlNoavnxY",
        "colab_type": "text"
      },
      "cell_type": "markdown",
      "source": [
        "### Exercise 1 - Conversion\n",
        "\n",
        "Throughout this lesson, we will successively build towards a program that will calculate the\n",
        "variance of some measurements,  in this case `Height in Metres`.  The first thing we want to do is convert from an antiquated measurement system.\n",
        "\n",
        "To change inches into metres we use the following equation (conversion factor is rounded)\n",
        "\n",
        "## $metre = \\frac{inches}{39}$\n",
        "\n",
        "1. Create a variable for the conversion factor, called `inches_in_metre`.\n",
        "1. Create a variable (`inches`) for your height in inches, as inaccurately as you want.\n",
        "2. Divide `inches` by `inches_in_metre`, and store the result in a new variable, `metres`.\n",
        "1. Print the result\n",
        "\n",
        "__Bonus__\n",
        "\n",
        "Convert from feet and inches to metres."
      ]
    },
    {
      "metadata": {
        "id": "mze4Uk11vnxa",
        "colab_type": "text"
      },
      "cell_type": "markdown",
      "source": [
        "__TIP:__ A 'gotcha' for all python 2 users (it was changed in python 3) is the result of integer division. To make it work the obvious way, either:\n",
        "\n",
        "1. `inches_in_metre = 39.`  (add the decimal to cast to a float, or use 39.4 to be more accurate)\n",
        "2. `from __future__ import division` -  Put this at the **top** of the code and it will work "
      ]
    },
    {
      "metadata": {
        "id": "zYt8xzoOvnxb",
        "colab_type": "code",
        "outputId": "4ce2d060-6144-4f49-a059-dbdd0715a718",
        "colab": {
          "base_uri": "https://localhost:8080/",
          "height": 54
        }
      },
      "cell_type": "code",
      "source": [
        "inches_in_metre=39.4\n",
        "inches=61\n",
        "metres=inches/inches_in_metre\n",
        "print(metres)\n",
        "\n",
        "#Bonus\n",
        "\n",
        "# buid a dictionary for conversions from foot and inches to meters\n",
        "ft_inches_in_metre={\"foot\":0.3048,\"inches\":0.0254}\n",
        "# construct a height list in units of feet and inches\n",
        "height_lst=[[5,1],[5,2],[5,6],[6,1]]\n",
        "# define a function to convert height in ft-inches to height in unit of meters\n",
        "def ft_inch_in_meter(ft,inch):\n",
        "  return ft*ft_inches_in_metre[\"foot\"]+inch*ft_inches_in_metre[\"inches\"]\n",
        "[ft_inch_in_meter(x,y) for x,y in height_lst]"
      ],
      "execution_count": 0,
      "outputs": [
        {
          "output_type": "stream",
          "text": [
            "1.5482233502538072\n"
          ],
          "name": "stdout"
        },
        {
          "output_type": "execute_result",
          "data": {
            "text/plain": [
              "[1.5494, 1.5748, 1.6764000000000001, 1.8542000000000003]"
            ]
          },
          "metadata": {
            "tags": []
          },
          "execution_count": 5
        }
      ]
    },
    {
      "metadata": {
        "id": "F96m_wNivnxf",
        "colab_type": "text"
      },
      "cell_type": "markdown",
      "source": [
        "## 3. Collections of things\n",
        "\n",
        "While it is interesting to explore your own height, in science we work with larger  slightly more complex datasets. In this example, we are interested in the characteristics and distribution of heights. Python provides us with a number of objects to handle collections of things.\n",
        "\n",
        "Probably 99% of your work in scientific Python will use one of four types of collections:\n",
        "`lists`, `tuples`, `dictionaries`, and `numpy arrays`. We'll look quickly at each of these and what\n",
        "they can do for you."
      ]
    },
    {
      "metadata": {
        "id": "Ae-CEuTYvnxg",
        "colab_type": "text"
      },
      "cell_type": "markdown",
      "source": [
        "### 3.1 Lists\n",
        "\n",
        "Lists are probably the handiest and most flexible type of container. \n",
        "\n",
        "Lists are declared with square brackets []. \n",
        "\n",
        "Individual elements of a list can be selected using the syntax `a[ind]`."
      ]
    },
    {
      "metadata": {
        "id": "YkazF22Hvnxh",
        "colab_type": "code",
        "outputId": "66fb5754-04d0-4fb4-f087-e2487336d997",
        "colab": {
          "base_uri": "https://localhost:8080/",
          "height": 35
        }
      },
      "cell_type": "code",
      "source": [
        "# Lists are created with square bracket syntax\n",
        "a = ['blueberry', 'strawberry', 'pineapple']\n",
        "print(a, type(a))"
      ],
      "execution_count": 0,
      "outputs": [
        {
          "output_type": "stream",
          "text": [
            "['blueberry', 'strawberry', 'pineapple'] <class 'list'>\n"
          ],
          "name": "stdout"
        }
      ]
    },
    {
      "metadata": {
        "id": "WdyKMXYfvnxl",
        "colab_type": "code",
        "outputId": "f6053f1a-a476-420f-d230-43c5f16acccd",
        "colab": {
          "base_uri": "https://localhost:8080/",
          "height": 54
        }
      },
      "cell_type": "code",
      "source": [
        "# Lists (and all collections) are also indexed with square brackets\n",
        "# NOTE: The first index is zero, not one\n",
        "print(a[0])\n",
        "print(a[1])"
      ],
      "execution_count": 0,
      "outputs": [
        {
          "output_type": "stream",
          "text": [
            "blueberry\n",
            "strawberry\n"
          ],
          "name": "stdout"
        }
      ]
    },
    {
      "metadata": {
        "id": "Wqj5ASE6vnxo",
        "colab_type": "code",
        "outputId": "121b3ec3-37ef-4e84-a285-052394cda9a6",
        "colab": {
          "base_uri": "https://localhost:8080/",
          "height": 54
        }
      },
      "cell_type": "code",
      "source": [
        "## You can also count from the end of the list\n",
        "print('last item is:', a[-1])\n",
        "print('second to last item is:', a[-2])"
      ],
      "execution_count": 0,
      "outputs": [
        {
          "output_type": "stream",
          "text": [
            "last item is: pineapple\n",
            "second to last item is: strawberry\n"
          ],
          "name": "stdout"
        }
      ]
    },
    {
      "metadata": {
        "id": "LPzPNV3Gvnxr",
        "colab_type": "code",
        "outputId": "54984d7a-0c7f-4106-b5b8-174c4d7b7e3f",
        "colab": {
          "base_uri": "https://localhost:8080/",
          "height": 54
        }
      },
      "cell_type": "code",
      "source": [
        "# you can access multiple items from a list by slicing, using a colon between indexes\n",
        "# NOTE: The end value is not inclusive\n",
        "print('a =', a)\n",
        "print('get first two:', a[0:2])"
      ],
      "execution_count": 0,
      "outputs": [
        {
          "output_type": "stream",
          "text": [
            "a = ['blueberry', 'strawberry', 'pineapple']\n",
            "get first two: ['blueberry', 'strawberry']\n"
          ],
          "name": "stdout"
        }
      ]
    },
    {
      "metadata": {
        "id": "NxAcBViovnxu",
        "colab_type": "code",
        "outputId": "50ee597c-826e-459d-ed58-f835e3b40fa2",
        "colab": {
          "base_uri": "https://localhost:8080/",
          "height": 90
        }
      },
      "cell_type": "code",
      "source": [
        "# You can leave off the start or end if desired\n",
        "print(a[:2])\n",
        "print(a[2:])\n",
        "print(a[:])\n",
        "print(a[:-1])"
      ],
      "execution_count": 0,
      "outputs": [
        {
          "output_type": "stream",
          "text": [
            "['blueberry', 'strawberry']\n",
            "['pineapple']\n",
            "['blueberry', 'strawberry', 'pineapple']\n",
            "['blueberry', 'strawberry']\n"
          ],
          "name": "stdout"
        }
      ]
    },
    {
      "metadata": {
        "id": "BkDD-QcLvnxx",
        "colab_type": "code",
        "outputId": "50e25e9a-028b-43e0-ddbd-297ba4b70342",
        "colab": {
          "base_uri": "https://localhost:8080/",
          "height": 72
        }
      },
      "cell_type": "code",
      "source": [
        "# Lists are objects, like everything else, and have methods such as append\n",
        "a.append('banana')\n",
        "print(a)\n",
        "\n",
        "a.append([1,2])\n",
        "print(a)\n",
        "\n",
        "a.pop()\n",
        "print(a)"
      ],
      "execution_count": 0,
      "outputs": [
        {
          "output_type": "stream",
          "text": [
            "['blueberry', 'strawberry', 'pineapple', 'banana']\n",
            "['blueberry', 'strawberry', 'pineapple', 'banana', [1, 2]]\n",
            "['blueberry', 'strawberry', 'pineapple', 'banana']\n"
          ],
          "name": "stdout"
        }
      ]
    },
    {
      "metadata": {
        "id": "5bOg5HVovnx0",
        "colab_type": "text"
      },
      "cell_type": "markdown",
      "source": [
        "__TIP:__ A 'gotcha' for some new Python users is that many collections, including lists,\n",
        "actually store pointers to data, not the data itself. \n",
        "\n",
        "Remember when we set `b=a` and then changed `a`?\n",
        "\n",
        "What happens when we do this in a list?\n",
        "\n",
        "__HELP:__ look into the `copy` module\n"
      ]
    },
    {
      "metadata": {
        "id": "EX2u3x7zvnx2",
        "colab_type": "code",
        "colab": {}
      },
      "cell_type": "code",
      "source": [
        "a = 1\n",
        "b = a\n",
        "a = 2\n",
        "## What is b?\n",
        "print('What is b?', b)\n",
        "\n",
        "a = [1, 2, 3]\n",
        "b = a\n",
        "print('original b', b)\n",
        "a[0] = 42\n",
        "print('What is b after we change a ?', b)"
      ],
      "execution_count": 0,
      "outputs": []
    },
    {
      "metadata": {
        "id": "aYI_xjuTvnx4",
        "colab_type": "text"
      },
      "cell_type": "markdown",
      "source": [
        "### EXERCISE 2 - Store a bunch of heights (in metres) in a list\n",
        "\n",
        "1. Ask five people around you for their heights (in metres).\n",
        "2. Store these in a list called `heights`.\n",
        "3. Append your own height, calculated above in the variable *metres*, to the list.\n",
        "4. Get the first height from the list and print it.\n",
        "\n",
        "__Bonus__\n",
        "\n",
        "1. Extract the last value in two different ways: first, by using the index for\n",
        "the last item in the list, and second, presuming that you do not know how long the list is.\n",
        "\n",
        "__HINT:__ **len()** can be used to find the length of a collection"
      ]
    },
    {
      "metadata": {
        "id": "G2rogWZ1vnx5",
        "colab_type": "code",
        "outputId": "23ebdb7c-1fb6-434b-d9f2-6ad6e130ba22",
        "colab": {
          "base_uri": "https://localhost:8080/",
          "height": 72
        }
      },
      "cell_type": "code",
      "source": [
        "heights=[1.80,1.75,1.72,1.56,1.60]\n",
        "heights.append(1.55)\n",
        "print(heights[0])\n",
        "\n",
        "# Bonus\n",
        "print(heights[-1])\n",
        "print(heights[5])\n"
      ],
      "execution_count": 0,
      "outputs": [
        {
          "output_type": "stream",
          "text": [
            "1.8\n",
            "1.55\n",
            "1.55\n"
          ],
          "name": "stdout"
        }
      ]
    },
    {
      "metadata": {
        "id": "QzVVpxbcvnx7",
        "colab_type": "text"
      },
      "cell_type": "markdown",
      "source": [
        "### 3.2 Tuples\n",
        "\n",
        "We won't say a whole lot about tuples except to mention that they basically work just like lists, with\n",
        "two major exceptions:\n",
        "\n",
        "1. You declare tuples using () instead of []\n",
        "1. Once you make a tuple, you can't change what's in it (referred to as immutable)\n",
        "\n",
        "You'll see tuples come up throughout the Python language, and over time you'll develop a feel for when\n",
        "to use them. \n",
        "\n",
        "In general, they're often used instead of lists:\n",
        "\n",
        "1. to group items when the position in the collection is critical, such as coord = (x,y)\n",
        "1. when you want to make prevent accidental modification of the items, e.g. shape = (12,23)"
      ]
    },
    {
      "metadata": {
        "id": "McBq5-aUvnyA",
        "colab_type": "code",
        "outputId": "9c8f1e5a-acf7-4945-afd0-68165d3729bf",
        "colab": {
          "base_uri": "https://localhost:8080/",
          "height": 225
        }
      },
      "cell_type": "code",
      "source": [
        "xy = (23, 45)\n",
        "print(xy[0])\n",
        "xy[0] = \"this won't work with a tuple\""
      ],
      "execution_count": 0,
      "outputs": [
        {
          "output_type": "stream",
          "text": [
            "23\n"
          ],
          "name": "stdout"
        },
        {
          "output_type": "error",
          "ename": "TypeError",
          "evalue": "ignored",
          "traceback": [
            "\u001b[0;31m---------------------------------------------------------------------------\u001b[0m",
            "\u001b[0;31mTypeError\u001b[0m                                 Traceback (most recent call last)",
            "\u001b[0;32m<ipython-input-37-2b1e2849198f>\u001b[0m in \u001b[0;36m<module>\u001b[0;34m()\u001b[0m\n\u001b[1;32m      1\u001b[0m \u001b[0mxy\u001b[0m \u001b[0;34m=\u001b[0m \u001b[0;34m(\u001b[0m\u001b[0;36m23\u001b[0m\u001b[0;34m,\u001b[0m \u001b[0;36m45\u001b[0m\u001b[0;34m)\u001b[0m\u001b[0;34m\u001b[0m\u001b[0;34m\u001b[0m\u001b[0m\n\u001b[1;32m      2\u001b[0m \u001b[0mprint\u001b[0m\u001b[0;34m(\u001b[0m\u001b[0mxy\u001b[0m\u001b[0;34m[\u001b[0m\u001b[0;36m0\u001b[0m\u001b[0;34m]\u001b[0m\u001b[0;34m)\u001b[0m\u001b[0;34m\u001b[0m\u001b[0;34m\u001b[0m\u001b[0m\n\u001b[0;32m----> 3\u001b[0;31m \u001b[0mxy\u001b[0m\u001b[0;34m[\u001b[0m\u001b[0;36m0\u001b[0m\u001b[0;34m]\u001b[0m \u001b[0;34m=\u001b[0m \u001b[0;34m\"this won't work with a tuple\"\u001b[0m\u001b[0;34m\u001b[0m\u001b[0;34m\u001b[0m\u001b[0m\n\u001b[0m",
            "\u001b[0;31mTypeError\u001b[0m: 'tuple' object does not support item assignment"
          ]
        }
      ]
    },
    {
      "metadata": {
        "id": "mg8boVffvnyD",
        "colab_type": "text"
      },
      "cell_type": "markdown",
      "source": [
        "### Anatomy of a traceback error\n",
        "\n",
        "Traceback errors are `raised` when you try to do something with code it isn't meant to do.  It is also meant to be informative, but like many things, it is not always as informative as we would like.\n",
        "\n",
        "Looking at our error:\n",
        "\n",
        "    TypeError                                 Traceback (most recent call last)\n",
        "    <ipython-input-25-4d15943dd557> in <module>()\n",
        "          1 xy = (23, 45)\n",
        "          2 xy[0]\n",
        "    ----> 3 xy[0] = 'this wont work with a tuple'\n",
        "\n",
        "    TypeError: 'tuple' object does not support item assignment\n",
        "    \n",
        "1. The command you tried to run raise a **TypeError**  This suggests you are using a variable in a way that its **Type** doesnt support\n",
        "2. the arrow ----> points to the line where the error occurred, In this case on line 3 of your code form the above line.\n",
        "3. Learning how to **read** a traceback error is an important skill to develop, and helps you know how to ask questions about what has gone wrong in your code.\n",
        "\n",
        "\n"
      ]
    },
    {
      "metadata": {
        "id": "VPNNM5sQvnyE",
        "colab_type": "text"
      },
      "cell_type": "markdown",
      "source": [
        "### 3.3 Dictionaries\n",
        "\n",
        "Dictionaries are the collection to use when you want to store and retrieve things by their names\n",
        "(or some other kind of key) instead of by their position in the collection. A good example is a set\n",
        "of model parameters, each of which has a name and a value. Dictionaries are declared using {}."
      ]
    },
    {
      "metadata": {
        "id": "wAq2gCqpvnyF",
        "colab_type": "code",
        "outputId": "a201cbb3-057e-48df-d37f-f9b9d9a75f4b",
        "colab": {
          "base_uri": "https://localhost:8080/",
          "height": 54
        }
      },
      "cell_type": "code",
      "source": [
        "# Make a dictionary of model parameters\n",
        "convertors = {'inches_in_feet' : 12,\n",
        "              'inches_in_metre' : 39}\n",
        "\n",
        "print(convertors)\n",
        "print(convertors['inches_in_feet'])"
      ],
      "execution_count": 0,
      "outputs": [
        {
          "output_type": "stream",
          "text": [
            "{'inches_in_feet': 12, 'inches_in_metre': 39}\n",
            "12\n"
          ],
          "name": "stdout"
        }
      ]
    },
    {
      "metadata": {
        "id": "MtbgkstkvnyG",
        "colab_type": "code",
        "outputId": "0da34718-ea9b-4e8e-c325-8d1704ba1248",
        "colab": {
          "base_uri": "https://localhost:8080/",
          "height": 35
        }
      },
      "cell_type": "code",
      "source": [
        "## Add a new key:value pair\n",
        "convertors['metres_in_mile'] = 1609.34\n",
        "print(convertors)"
      ],
      "execution_count": 0,
      "outputs": [
        {
          "output_type": "stream",
          "text": [
            "{'inches_in_feet': 12, 'inches_in_metre': 39, 'metres_in_mile': 1609.34}\n"
          ],
          "name": "stdout"
        }
      ]
    },
    {
      "metadata": {
        "id": "OvRAlxw8vnyJ",
        "colab_type": "code",
        "outputId": "07e90f10-55af-440c-ba7a-437975042bd1",
        "colab": {
          "base_uri": "https://localhost:8080/",
          "height": 171
        }
      },
      "cell_type": "code",
      "source": [
        "# Raise a KEY error\n",
        "print(convertors['blueberry'])"
      ],
      "execution_count": 0,
      "outputs": [
        {
          "output_type": "error",
          "ename": "KeyError",
          "evalue": "ignored",
          "traceback": [
            "\u001b[0;31m---------------------------------------------------------------------------\u001b[0m",
            "\u001b[0;31mKeyError\u001b[0m                                  Traceback (most recent call last)",
            "\u001b[0;32m<ipython-input-40-0eba419ed149>\u001b[0m in \u001b[0;36m<module>\u001b[0;34m()\u001b[0m\n\u001b[0;32m----> 1\u001b[0;31m \u001b[0mprint\u001b[0m\u001b[0;34m(\u001b[0m\u001b[0mconvertors\u001b[0m\u001b[0;34m[\u001b[0m\u001b[0;34m'blueberry'\u001b[0m\u001b[0;34m]\u001b[0m\u001b[0;34m)\u001b[0m\u001b[0;34m\u001b[0m\u001b[0;34m\u001b[0m\u001b[0m\n\u001b[0m",
            "\u001b[0;31mKeyError\u001b[0m: 'blueberry'"
          ]
        }
      ]
    },
    {
      "metadata": {
        "id": "A6_-pYvTvnyK",
        "colab_type": "text"
      },
      "cell_type": "markdown",
      "source": [
        "### 3.4 Numpy arrays (ndarrays)\n",
        "\n",
        "Even though numpy arrays (often written as ndarrays, for n-dimensional arrays) are not part of the\n",
        "core Python libraries, they are so useful in scientific Python that we'll include them here in the \n",
        "core lesson. Numpy arrays are collections of things, all of which must be the same type, that work\n",
        "similarly to lists (as we've described them so far). The most important are:\n",
        "\n",
        "1. You can easily perform elementwise operations (and matrix algebra) on arrays\n",
        "1. Arrays can be n-dimensional\n",
        "1. There is no equivalent to append, although arrays can be concatenated\n",
        "\n",
        "Arrays can be created from existing collections such as lists, or instantiated \"from scratch\" in a \n",
        "few useful ways.\n",
        "\n",
        "When getting started with scientific Python, you will probably want to try to use ndarrays whenever\n",
        "possible, saving the other types of collections for those cases when you have a specific reason to use\n",
        "them."
      ]
    },
    {
      "metadata": {
        "id": "7_60F7i1vnyL",
        "colab_type": "code",
        "colab": {}
      },
      "cell_type": "code",
      "source": [
        "# We need to import the numpy library to have access to it \n",
        "# We can also create an alias for a library, this is something you will commonly see with numpy\n",
        "import numpy as np"
      ],
      "execution_count": 0,
      "outputs": []
    },
    {
      "metadata": {
        "id": "ZaThVbHYvnyO",
        "colab_type": "code",
        "outputId": "5158e450-ecec-416c-831c-4187c8df7d91",
        "colab": {
          "base_uri": "https://localhost:8080/",
          "height": 54
        }
      },
      "cell_type": "code",
      "source": [
        "# Make an array from a list\n",
        "alist = [2, 3, 4]\n",
        "blist = [5, 6, 7]\n",
        "a = np.array(alist)\n",
        "b = np.array(blist)\n",
        "print(a, type(a))\n",
        "print(b, type(b))"
      ],
      "execution_count": 0,
      "outputs": [
        {
          "output_type": "stream",
          "text": [
            "[2 3 4] <class 'numpy.ndarray'>\n",
            "[5 6 7] <class 'numpy.ndarray'>\n"
          ],
          "name": "stdout"
        }
      ]
    },
    {
      "metadata": {
        "id": "K11EjuYevnyQ",
        "colab_type": "code",
        "outputId": "a7f1d1e3-11b8-41ad-c985-e2dc3476a596",
        "colab": {
          "base_uri": "https://localhost:8080/",
          "height": 90
        }
      },
      "cell_type": "code",
      "source": [
        "# Do arithmetic on arrays\n",
        "print(a**2)\n",
        "print(np.sin(a))\n",
        "print(a * b)\n",
        "print(a.dot(b), np.dot(a, b))"
      ],
      "execution_count": 0,
      "outputs": [
        {
          "output_type": "stream",
          "text": [
            "[ 4  9 16]\n",
            "[ 0.90929743  0.14112001 -0.7568025 ]\n",
            "[10 18 28]\n",
            "56 56\n"
          ],
          "name": "stdout"
        }
      ]
    },
    {
      "metadata": {
        "id": "lIElkBMmvnyT",
        "colab_type": "code",
        "outputId": "d27a1b66-05ba-415a-e18b-3ed46bf9b9c1",
        "colab": {
          "base_uri": "https://localhost:8080/",
          "height": 108
        }
      },
      "cell_type": "code",
      "source": [
        "# Boolean operators work on arrays too, and they return boolean arrays\n",
        "print(a > 2)\n",
        "print(b == 6)\n",
        "\n",
        "c = a > 2\n",
        "print(c)\n",
        "print(type(c))\n",
        "print(c.dtype)"
      ],
      "execution_count": 0,
      "outputs": [
        {
          "output_type": "stream",
          "text": [
            "[False  True  True]\n",
            "[False  True False]\n",
            "[False  True  True]\n",
            "<class 'numpy.ndarray'>\n",
            "bool\n"
          ],
          "name": "stdout"
        }
      ]
    },
    {
      "metadata": {
        "id": "sFgmyXbHvnyY",
        "colab_type": "code",
        "outputId": "0bd89448-cdfd-4c71-989f-9a6e050c4f35",
        "colab": {
          "base_uri": "https://localhost:8080/",
          "height": 254
        }
      },
      "cell_type": "code",
      "source": [
        "# Indexing arrays\n",
        "print(a[0:2])\n",
        "\n",
        "c = np.random.rand(3,3)\n",
        "print(c)\n",
        "print('\\n')\n",
        "print(c[1:3,0:2])\n",
        "\n",
        "c[0,:] = a\n",
        "print('\\n')\n",
        "print(c)"
      ],
      "execution_count": 0,
      "outputs": [
        {
          "output_type": "stream",
          "text": [
            "[2 3]\n",
            "[[0.82968995 0.87856238 0.68064359]\n",
            " [0.09084195 0.67716276 0.84429323]\n",
            " [0.80053252 0.41961799 0.38570809]]\n",
            "\n",
            "\n",
            "[[0.09084195 0.67716276]\n",
            " [0.80053252 0.41961799]]\n",
            "\n",
            "\n",
            "[[2.         3.         4.        ]\n",
            " [0.09084195 0.67716276 0.84429323]\n",
            " [0.80053252 0.41961799 0.38570809]]\n"
          ],
          "name": "stdout"
        }
      ]
    },
    {
      "metadata": {
        "id": "he17bu2Gvnye",
        "colab_type": "code",
        "outputId": "55bfbeb6-b9a1-4b5c-c040-0fab69c38360",
        "colab": {
          "base_uri": "https://localhost:8080/",
          "height": 126
        }
      },
      "cell_type": "code",
      "source": [
        "# Arrays can also be indexed with other boolean arrays\n",
        "print(a)\n",
        "print(b)\n",
        "print(a > 2)\n",
        "print(a[a > 2])\n",
        "print(b[a > 2])\n",
        "\n",
        "b[a == 3] = 77\n",
        "print(b)"
      ],
      "execution_count": 0,
      "outputs": [
        {
          "output_type": "stream",
          "text": [
            "[2 3 4]\n",
            "[5 6 7]\n",
            "[False  True  True]\n",
            "[3 4]\n",
            "[6 7]\n",
            "[ 5 77  7]\n"
          ],
          "name": "stdout"
        }
      ]
    },
    {
      "metadata": {
        "id": "y3y-oDLqvnyi",
        "colab_type": "code",
        "outputId": "1eb6e695-715f-4d42-f283-67cef2b4d646",
        "colab": {
          "base_uri": "https://localhost:8080/",
          "height": 54
        }
      },
      "cell_type": "code",
      "source": [
        "# ndarrays have attributes in addition to methods\n",
        "#c.\n",
        "print(c.shape)\n",
        "print(c.prod())"
      ],
      "execution_count": 0,
      "outputs": [
        {
          "output_type": "stream",
          "text": [
            "(3, 3)\n",
            "0.16150124411674907\n"
          ],
          "name": "stdout"
        }
      ]
    },
    {
      "metadata": {
        "id": "lMq_7TZBvnyk",
        "colab_type": "code",
        "outputId": "281b3852-ead4-4b40-b93c-4cc8f91afdaf",
        "colab": {
          "base_uri": "https://localhost:8080/",
          "height": 199
        }
      },
      "cell_type": "code",
      "source": [
        "# There are handy ways to make arrays full of ones and zeros\n",
        "print(np.zeros(5), '\\n')\n",
        "print(np.ones(5), '\\n')\n",
        "print(np.identity(5), '\\n')"
      ],
      "execution_count": 0,
      "outputs": [
        {
          "output_type": "stream",
          "text": [
            "[0. 0. 0. 0. 0.] \n",
            "\n",
            "[1. 1. 1. 1. 1.] \n",
            "\n",
            "[[1. 0. 0. 0. 0.]\n",
            " [0. 1. 0. 0. 0.]\n",
            " [0. 0. 1. 0. 0.]\n",
            " [0. 0. 0. 1. 0.]\n",
            " [0. 0. 0. 0. 1.]] \n",
            "\n"
          ],
          "name": "stdout"
        }
      ]
    },
    {
      "metadata": {
        "id": "iHtWM_8ovnyn",
        "colab_type": "code",
        "outputId": "b179c810-0421-4ead-ab05-7fe456d421c0",
        "colab": {
          "base_uri": "https://localhost:8080/",
          "height": 35
        }
      },
      "cell_type": "code",
      "source": [
        "# You can also easily make arrays of number sequences\n",
        "print(np.arange(0, 10, 2))"
      ],
      "execution_count": 0,
      "outputs": [
        {
          "output_type": "stream",
          "text": [
            "[0 2 4 6 8]\n"
          ],
          "name": "stdout"
        }
      ]
    },
    {
      "metadata": {
        "id": "eKCYGfX6vnyp",
        "colab_type": "text"
      },
      "cell_type": "markdown",
      "source": [
        "### EXERCISE 3 - Using Arrays for simple analysis\n",
        "\n",
        "Revisit your list of heights\n",
        "\n",
        "1. turn it into an array\n",
        "2. calculate the mean\n",
        "3. create a mask of all heights greater than a certain value (your choice)\n",
        "4. find the mean of the masked heights\n",
        "\n",
        "__BONUS__\n",
        "\n",
        "1. find the number of heights greater than your threshold\n",
        "2. mean() can take an optional argument called axis, which allows you to calculate the mean across different axes, eg across rows or across columns. Create an array with two dimensions (not equal sized) and calculate the mean across rows and mean across columns. Use 'shape' to understand how the means are calculated.\n"
      ]
    },
    {
      "metadata": {
        "id": "Ium7tQubvnyr",
        "colab_type": "code",
        "outputId": "b21240c5-7e2b-44fd-b824-d7b5af811ab7",
        "colab": {
          "base_uri": "https://localhost:8080/",
          "height": 181
        }
      },
      "cell_type": "code",
      "source": [
        "Heights=np.array(heights)\n",
        "Heights.mean()\n",
        "mask= Heights>1.6\n",
        "print(Heights[mask],Heights[mask].mean())\n",
        "\n",
        "#Bonus 1\n",
        "print(\"Bonus 1: \\n Find the number of heights greater that 1.6: \\n\")\n",
        "print(np.count_nonzero(Heights[mask]))\n",
        "#Bonus 2\n",
        "print(\"Bonus 2:\\n\")\n",
        "test_arr=np.array([[1,2,3,4,5],[3,4,5,6,6]])\n",
        "print(test_arr.mean(axis=0))\n",
        "print(test_arr.mean(axis=1))"
      ],
      "execution_count": 0,
      "outputs": [
        {
          "output_type": "stream",
          "text": [
            "[1.8  1.75 1.72] 1.7566666666666666\n",
            "Bonus 1: \n",
            " Find the number of heights greater that 1.6: \n",
            "\n",
            "3\n",
            "Bonus 2:\n",
            "\n",
            "[2.  3.  4.  5.  5.5]\n",
            "[3.  4.8]\n"
          ],
          "name": "stdout"
        }
      ]
    },
    {
      "metadata": {
        "id": "DPa5n14Yvnyt",
        "colab_type": "text"
      },
      "cell_type": "markdown",
      "source": [
        "## 4. Repeating yourself\n",
        "\n",
        "So far, everything that we've done could, in principle, be done by hand calculation. In this section\n",
        "and the next, we really start to take advantage of the power of programming languages to do things\n",
        "for us automatically.\n",
        "\n",
        "We start here with ways to repeat yourself. The two most common ways of doing this are known as for\n",
        "loops and while loops. For loops in Python are useful when you want to cycle over all of the items\n",
        "in a collection (such as all of the elements of an array), and while loops are useful when you want to\n",
        "cycle for an indefinite amount of time until some condition is met.\n",
        "\n",
        "The basic examples below will work for looping over lists, tuples, and arrays. Looping over dictionaries\n",
        "is a bit different, since there is a key and a value for each item in a dictionary. Have a look at the\n",
        "Python docs for more information."
      ]
    },
    {
      "metadata": {
        "id": "hyF3MndTvnyt",
        "colab_type": "code",
        "outputId": "c008b2ca-93e7-4c43-cb67-d4665a46ef06",
        "colab": {
          "base_uri": "https://localhost:8080/",
          "height": 72
        }
      },
      "cell_type": "code",
      "source": [
        "# A basic for loop - don't forget the white space!\n",
        "wordlist = ['hi', 'hello', 'bye']\n",
        "for word in wordlist:\n",
        "    print(word + '!')"
      ],
      "execution_count": 0,
      "outputs": [
        {
          "output_type": "stream",
          "text": [
            "hi!\n",
            "hello!\n",
            "bye!\n"
          ],
          "name": "stdout"
        }
      ]
    },
    {
      "metadata": {
        "id": "_doXdbBsvnyv",
        "colab_type": "text"
      },
      "cell_type": "markdown",
      "source": [
        "**Note on indentation**: Notice the indentation once we enter the for loop.  Every idented statement after the for loop declaration is part of the for loop.  This rule holds true for while loops, if statements, functions, etc. Required identation is one of the reasons Python is such a beautiful language to read.\n",
        "\n",
        "If you do not have consistent indentation you will get an `IndentationError`.  Fortunately, most code editors will ensure your indentation is correction.\n",
        "\n",
        "__NOTE__ In Python the default is to use four (4) spaces for each indentation, most editros can be configured to follow this guide."
      ]
    },
    {
      "metadata": {
        "id": "cCBLCdVnvnyw",
        "colab_type": "code",
        "outputId": "6115133c-38f4-436b-dcf3-e8811fc1d3fe",
        "colab": {
          "base_uri": "https://localhost:8080/",
          "height": 72
        }
      },
      "cell_type": "code",
      "source": [
        "# Indentation error: Fix it!\n",
        "for word in wordlist:\n",
        "    new_word = word.capitalize()\n",
        "    print(new_word + '!') # Bad indent"
      ],
      "execution_count": 0,
      "outputs": [
        {
          "output_type": "stream",
          "text": [
            "Hi!\n",
            "Hello!\n",
            "Bye!\n"
          ],
          "name": "stdout"
        }
      ]
    },
    {
      "metadata": {
        "id": "Y9lELA2Ovny1",
        "colab_type": "code",
        "outputId": "1de47f44-a317-48a2-ca88-1d342b756456",
        "colab": {
          "base_uri": "https://localhost:8080/",
          "height": 35
        }
      },
      "cell_type": "code",
      "source": [
        "# Sum all of the values in a collection using a for loop\n",
        "numlist = [1, 4, 77, 3]\n",
        "\n",
        "total = 0\n",
        "for num in numlist:\n",
        "    total = total + num\n",
        "    \n",
        "print(\"Sum is\", total)"
      ],
      "execution_count": 0,
      "outputs": [
        {
          "output_type": "stream",
          "text": [
            "Sum is 85\n"
          ],
          "name": "stdout"
        }
      ]
    },
    {
      "metadata": {
        "id": "qdBlUfSHvny5",
        "colab_type": "code",
        "outputId": "b1f21b94-9440-420a-8510-1c07417037f8",
        "colab": {
          "base_uri": "https://localhost:8080/",
          "height": 90
        }
      },
      "cell_type": "code",
      "source": [
        "# Often we want to loop over the indexes of a collection, not just the items\n",
        "print(wordlist)\n",
        "\n",
        "for i, word in enumerate(wordlist):\n",
        "    print(i, word, wordlist[i])"
      ],
      "execution_count": 0,
      "outputs": [
        {
          "output_type": "stream",
          "text": [
            "['hi', 'hello', 'bye']\n",
            "0 hi hi\n",
            "1 hello hello\n",
            "2 bye bye\n"
          ],
          "name": "stdout"
        }
      ]
    },
    {
      "metadata": {
        "id": "F80IZt3wvny9",
        "colab_type": "code",
        "outputId": "a4f0de45-193a-4672-ba0a-c93387091f55",
        "colab": {
          "base_uri": "https://localhost:8080/",
          "height": 163
        }
      },
      "cell_type": "code",
      "source": [
        "# While loops are useful when you don't know how many steps you will need,\n",
        "# and want to stop once a certain condition is met.\n",
        "step = 0\n",
        "prod = 1\n",
        "while prod < 100:\n",
        "    step = step + 1\n",
        "    prod = prod * 2\n",
        "    print(step, prod)\n",
        "    \n",
        "print('Reached a product of', prod, 'at step number', step)"
      ],
      "execution_count": 0,
      "outputs": [
        {
          "output_type": "stream",
          "text": [
            "1 2\n",
            "2 4\n",
            "3 8\n",
            "4 16\n",
            "5 32\n",
            "6 64\n",
            "7 128\n",
            "Reached a product of 128 at step number 7\n"
          ],
          "name": "stdout"
        }
      ]
    },
    {
      "metadata": {
        "id": "rJGawcPvvnzA",
        "colab_type": "text"
      },
      "cell_type": "markdown",
      "source": [
        "__TIP:__ Once we start really generating useful and large collections of data, it becomes unwieldy to\n",
        "inspect our results manually. The code below shows how to make a very simple plot of an array.\n",
        "We'll do much more plotting later on, this is just to get started."
      ]
    },
    {
      "metadata": {
        "id": "8v1EGTj1vnzB",
        "colab_type": "code",
        "outputId": "4d19357d-56a7-4ef5-8f87-50938e400efa",
        "colab": {
          "base_uri": "https://localhost:8080/",
          "height": 284
        }
      },
      "cell_type": "code",
      "source": [
        "# Load up pylab, a useful plotting library\n",
        "%matplotlib inline\n",
        "import matplotlib.pyplot as plt\n",
        "\n",
        "# Make some x and y data and plot it\n",
        "y = np.arange(100)**2\n",
        "plt.plot(y)"
      ],
      "execution_count": 0,
      "outputs": [
        {
          "output_type": "execute_result",
          "data": {
            "text/plain": [
              "[<matplotlib.lines.Line2D at 0x7feb8ebd5828>]"
            ]
          },
          "metadata": {
            "tags": []
          },
          "execution_count": 79
        },
        {
          "output_type": "display_data",
          "data": {
            "image/png": "[encoded data removed]",
            "text/plain": [
              "<matplotlib.figure.Figure at 0x7feb9e675588>"
            ]
          },
          "metadata": {
            "tags": []
          }
        }
      ]
    },
    {
      "metadata": {
        "id": "-x_zI3hnvnzC",
        "colab_type": "text"
      },
      "cell_type": "markdown",
      "source": [
        "### EXERCISE 4 - Variance\n",
        "\n",
        "We can now calculate the variance of the heights we collected before.\n",
        "\n",
        "As a reminder, **sample variance** is the calculated from the sum of squared differences of each observation from the mean:\n",
        "\n",
        "### $variance = \\frac{\\Sigma{(x-mean)^2}}{n-1}$\n",
        "\n",
        "where **mean** is the mean of our observations, **x** is each individual observation, and **n** is the number of observations.\n",
        "\n",
        "First, we need to calculate the mean:\n",
        "\n",
        "1. Create a variable `total` for the sum of the heights.\n",
        "2. Using a `for` loop, add each height to `total`.\n",
        "3. Find the mean by dividing this by the number of measurements, and store it as `mean`.\n",
        "\n",
        "__Note__: To get the number of things in a list, use `len(the_list)`.\n",
        "\n",
        "Now we'll use another loop to calculate the variance:\n",
        "\n",
        "1. Create a variable `sum_diffsq` for the sum of squared differences.\n",
        "2. Make a second `for` loop over `heights`.\n",
        "  - At each step, subtract the height from the mean and call it `diff`. \n",
        "  - Square this and call it `diffsq`.\n",
        "  - Add `diffsq` on to `sum_diffsq`.\n",
        "3. Divide `diffsq` by `n-1` to get the variance.\n",
        "4. Display the variance.\n",
        "\n",
        "__Note__: To square a number in Python, use `**`, eg. `5**2`.\n",
        "\n",
        "__Bonus__\n",
        "\n",
        "1. Test whether `variance` is larger than 0.01, and print out a line that says \"variance more than 0.01: \"\n",
        "followed by the answer (either True or False)."
      ]
    },
    {
      "metadata": {
        "id": "Z2yR6zNIvnzE",
        "colab_type": "code",
        "outputId": "db7574a7-dbb6-449b-a1b5-9325edf915a9",
        "colab": {
          "base_uri": "https://localhost:8080/",
          "height": 90
        }
      },
      "cell_type": "code",
      "source": [
        "total = 0\n",
        "for height in heights:\n",
        "  total += height\n",
        "  \n",
        "mean = total/len(heights)\n",
        "\n",
        "sum_diffsq = 0\n",
        "\n",
        "for height in heights:\n",
        "  diff = height - mean\n",
        "  diffsq = np.square(diff)\n",
        "  sum_diffsq += diffsq\n",
        "\n",
        "sum_diffsq = sum_diffsq/(len(heights)-1)\n",
        "print(sum_diffsq)\n",
        "\n",
        "#Bonus\n",
        "print(\"Bonus: \\n\")\n",
        "var_is_small=sum_diffsq>0.01\n",
        "print(\"variance more than: \" + \"%r\" %var_is_small)"
      ],
      "execution_count": 0,
      "outputs": [
        {
          "output_type": "stream",
          "text": [
            "0.011386666666666661\n",
            "Bonus: \n",
            "\n",
            "variance more than: True\n"
          ],
          "name": "stdout"
        }
      ]
    },
    {
      "metadata": {
        "id": "bx1ER3CIvnzI",
        "colab_type": "text"
      },
      "cell_type": "markdown",
      "source": [
        "## 5. Making choices\n",
        "\n",
        "Often we want to check if a condition is True and take one action if it is, and another action if the\n",
        "condition is False. We can achieve this in Python with an if statement.\n",
        "\n",
        "__TIP:__ You can use any expression that returns a boolean value (True or False) in an if statement.\n",
        "Common boolean operators are ==, !=, <, <=, >, >=. You can also use `is` and `is not` if you want to\n",
        "check if two variables are identical in the sense that they are stored in the same location in memory."
      ]
    },
    {
      "metadata": {
        "id": "Ka4QThHjvnzJ",
        "colab_type": "code",
        "outputId": "31cf8fd3-9575-42a9-f14e-b9a0844bd6c2",
        "colab": {
          "base_uri": "https://localhost:8080/",
          "height": 35
        }
      },
      "cell_type": "code",
      "source": [
        "# A simple if statement\n",
        "x = 3\n",
        "if x > 0:\n",
        "    print('x is positive')\n",
        "elif x < 0:\n",
        "    print('x is negative')\n",
        "else:\n",
        "    print('x is zero')"
      ],
      "execution_count": 0,
      "outputs": [
        {
          "output_type": "stream",
          "text": [
            "x is positive\n"
          ],
          "name": "stdout"
        }
      ]
    },
    {
      "metadata": {
        "id": "KSH9A0wsvnzO",
        "colab_type": "code",
        "outputId": "68e1fc60-63aa-418d-a9fb-7e8971084361",
        "colab": {
          "base_uri": "https://localhost:8080/",
          "height": 54
        }
      },
      "cell_type": "code",
      "source": [
        "# If statements can rely on boolean variables\n",
        "x = -1\n",
        "test = (x > 0)\n",
        "print(type(test)); print(test)\n",
        "\n",
        "if test:\n",
        "    print('Test was true')"
      ],
      "execution_count": 0,
      "outputs": [
        {
          "output_type": "stream",
          "text": [
            "<class 'bool'>\n",
            "False\n"
          ],
          "name": "stdout"
        }
      ]
    },
    {
      "metadata": {
        "id": "JIlKIrIevnzR",
        "colab_type": "text"
      },
      "cell_type": "markdown",
      "source": [
        "## 6. Creating chunks with functions and modules\n",
        "\n",
        "One way to write a program is to simply string together commands, like the ones described above, in a long\n",
        "file, and then to run that file to generate your results. This may work, but it can be cognitively difficult\n",
        "to follow the logic of programs written in this style. Also, it does not allow you to reuse your code\n",
        "easily - for example, what if we wanted to run our logistic growth model for several different choices of\n",
        "initial parameters?\n",
        "\n",
        "The most important ways to \"chunk\" code into more manageable pieces is to create functions and then\n",
        "to gather these functions into modules, and eventually packages. Below we will discuss how to create\n",
        "functions and modules. A third common type of \"chunk\" in Python is classes, but we will not be covering\n",
        "object-oriented programming in this workshop."
      ]
    },
    {
      "metadata": {
        "id": "TLWXoozGvnzR",
        "colab_type": "code",
        "outputId": "f8875d7a-88cf-4588-bb96-d34fdd32306f",
        "colab": {
          "base_uri": "https://localhost:8080/",
          "height": 54
        }
      },
      "cell_type": "code",
      "source": [
        "# We've been using functions all day\n",
        "x = 3.333333\n",
        "print(round(x, 2))\n",
        "print(np.sin(x))"
      ],
      "execution_count": 0,
      "outputs": [
        {
          "output_type": "stream",
          "text": [
            "3.33\n",
            "-0.1905676356508065\n"
          ],
          "name": "stdout"
        }
      ]
    },
    {
      "metadata": {
        "id": "9c0SOODKvnzT",
        "colab_type": "code",
        "colab": {}
      },
      "cell_type": "code",
      "source": [
        "# It's very easy to write your own functions\n",
        "def multiply(x, y):\n",
        "    return x*y"
      ],
      "execution_count": 0,
      "outputs": []
    },
    {
      "metadata": {
        "id": "mGCdZBfFvnzW",
        "colab_type": "code",
        "outputId": "310120de-7bf7-4c89-ada9-d75fb87eb1b5",
        "colab": {
          "base_uri": "https://localhost:8080/",
          "height": 54
        }
      },
      "cell_type": "code",
      "source": [
        "# Once a function is \"run\" and saved in memory, it's available just like any other function\n",
        "print(type(multiply))\n",
        "print(multiply(4, 3))"
      ],
      "execution_count": 0,
      "outputs": [
        {
          "output_type": "stream",
          "text": [
            "<class 'function'>\n",
            "12\n"
          ],
          "name": "stdout"
        }
      ]
    },
    {
      "metadata": {
        "id": "5GmzuyoVvnzZ",
        "colab_type": "code",
        "colab": {}
      },
      "cell_type": "code",
      "source": [
        "# It's useful to include docstrings to describe what your function does\n",
        "def say_hello(time, people):\n",
        "    '''\n",
        "    Function says a greeting. Useful for engendering goodwill\n",
        "    '''\n",
        "    return 'Good ' + time + ', ' + people"
      ],
      "execution_count": 0,
      "outputs": []
    },
    {
      "metadata": {
        "id": "23_FyrQvvnzb",
        "colab_type": "text"
      },
      "cell_type": "markdown",
      "source": [
        "**Docstrings**: A docstring is a special type of comment that tells you what a function does.  You can see them when you ask for help about a function."
      ]
    },
    {
      "metadata": {
        "id": "pHyahFNmvnzc",
        "colab_type": "code",
        "outputId": "45122c01-3fe6-47cb-f46b-9341c27f00a3",
        "colab": {
          "base_uri": "https://localhost:8080/",
          "height": 35
        }
      },
      "cell_type": "code",
      "source": [
        "say_hello('afternoon', 'friends')"
      ],
      "execution_count": 0,
      "outputs": [
        {
          "output_type": "execute_result",
          "data": {
            "text/plain": [
              "'Good afternoon, friends'"
            ]
          },
          "metadata": {
            "tags": []
          },
          "execution_count": 89
        }
      ]
    },
    {
      "metadata": {
        "id": "3MTOyq9dvnzf",
        "colab_type": "code",
        "outputId": "4490e5c5-20e6-4d15-8090-16bf7b105a7a",
        "colab": {
          "base_uri": "https://localhost:8080/",
          "height": 171
        }
      },
      "cell_type": "code",
      "source": [
        "# All arguments must be present, or the function will return an error\n",
        "say_hello('afternoon')"
      ],
      "execution_count": 0,
      "outputs": [
        {
          "output_type": "error",
          "ename": "TypeError",
          "evalue": "ignored",
          "traceback": [
            "\u001b[0;31m---------------------------------------------------------------------------\u001b[0m",
            "\u001b[0;31mTypeError\u001b[0m                                 Traceback (most recent call last)",
            "\u001b[0;32m<ipython-input-90-0f9906bb6bfd>\u001b[0m in \u001b[0;36m<module>\u001b[0;34m()\u001b[0m\n\u001b[0;32m----> 1\u001b[0;31m \u001b[0msay_hello\u001b[0m\u001b[0;34m(\u001b[0m\u001b[0;34m'afternoon'\u001b[0m\u001b[0;34m)\u001b[0m\u001b[0;34m\u001b[0m\u001b[0;34m\u001b[0m\u001b[0m\n\u001b[0m",
            "\u001b[0;31mTypeError\u001b[0m: say_hello() missing 1 required positional argument: 'people'"
          ]
        }
      ]
    },
    {
      "metadata": {
        "id": "lkwuwdTbvnzi",
        "colab_type": "code",
        "colab": {}
      },
      "cell_type": "code",
      "source": [
        "# Keyword arguments can be used to make some arguments optional by giving them a default value\n",
        "# All mandatory arguments must come first, in order\n",
        "def say_hello(time, people='friends'):\n",
        "    return 'Good ' + time + ', ' + people"
      ],
      "execution_count": 0,
      "outputs": []
    },
    {
      "metadata": {
        "id": "uu0JJu3gvnzm",
        "colab_type": "code",
        "outputId": "4da4b7f6-5edc-4c67-f538-73c6a4b4ecf7",
        "colab": {
          "base_uri": "https://localhost:8080/",
          "height": 35
        }
      },
      "cell_type": "code",
      "source": [
        "say_hello('afternoon')"
      ],
      "execution_count": 0,
      "outputs": [
        {
          "output_type": "execute_result",
          "data": {
            "text/plain": [
              "'Good afternoon, friends'"
            ]
          },
          "metadata": {
            "tags": []
          },
          "execution_count": 92
        }
      ]
    },
    {
      "metadata": {
        "id": "TBBThrMtvnzp",
        "colab_type": "code",
        "outputId": "16a636c0-891f-4947-aa20-3a3ad99fe9fc",
        "colab": {
          "base_uri": "https://localhost:8080/",
          "height": 35
        }
      },
      "cell_type": "code",
      "source": [
        "say_hello('afternoon', 'students')"
      ],
      "execution_count": 0,
      "outputs": [
        {
          "output_type": "execute_result",
          "data": {
            "text/plain": [
              "'Good afternoon, students'"
            ]
          },
          "metadata": {
            "tags": []
          },
          "execution_count": 93
        }
      ]
    },
    {
      "metadata": {
        "id": "ik3xHTOMvnzr",
        "colab_type": "text"
      },
      "cell_type": "markdown",
      "source": [
        "### EXERCISE 5 - Creating a variance function\n",
        "\n",
        "Finally, let's turn our variance calculation into a function that we can use over and over again. \n",
        "Copy your code from Exercise 4 into the box below, and do the following:\n",
        "\n",
        "1. Turn your code into a function called `calculate_variance` that takes a list of values and returns their variance.\n",
        "1. Write a nice docstring describing what your function does.\n",
        "1. In a subsequent cell, call your function with different sets of numbers to make sure it works.\n",
        "\n",
        "__Bonus__\n",
        "\n",
        "1. Refactor your function by pulling out the section that calculates the mean into another function, and calling that inside your `calculate_variance` function.\n",
        "2. Make sure it can works properly when all the data are integers as well.\n",
        "3. Give a better error message when it's passed an empty list. Use the web to find out how to raise exceptions in Python."
      ]
    },
    {
      "metadata": {
        "id": "DaDMWqWQvnzr",
        "colab_type": "code",
        "outputId": "477d96ee-7061-40b9-a270-091dfdf1d4be",
        "colab": {
          "base_uri": "https://localhost:8080/",
          "height": 72
        }
      },
      "cell_type": "code",
      "source": [
        "def calculate_variance(lst):\n",
        "  total = 0\n",
        "  for element in lst:\n",
        "    total += element\n",
        "  \n",
        "  mean = total/len(lst)\n",
        "\n",
        "  sum_diffsq = 0\n",
        "\n",
        "  for element in lst:\n",
        "    diff = element - mean\n",
        "    diffsq = np.square(diff)\n",
        "    sum_diffsq += diffsq\n",
        "\n",
        "  sum_diffsq = sum_diffsq/(len(lst)-1)\n",
        "  return sum_diffsq\n",
        "\n",
        "test_list1=[1,4,6,7,3,2,1]\n",
        "test_list2=[6,5,3,7,5,6]\n",
        "test_list3=[1,3,2,6,4,3]\n",
        "\n",
        "print(calculate_variance(test_list1))\n",
        "print(calculate_variance(test_list2))\n",
        "print(calculate_variance(test_list3))\n"
      ],
      "execution_count": 0,
      "outputs": [
        {
          "output_type": "stream",
          "text": [
            "5.6190476190476195\n",
            "1.8666666666666665\n",
            "2.966666666666667\n"
          ],
          "name": "stdout"
        }
      ]
    },
    {
      "metadata": {
        "colab_type": "code",
        "id": "hkH54pv675lI",
        "outputId": "3794c1d0-d76d-4cc5-fafc-0b4de4588bbb",
        "colab": {
          "base_uri": "https://localhost:8080/",
          "height": 72
        }
      },
      "cell_type": "code",
      "source": [
        "# Bonus\n",
        "\n",
        "def calculate_mean(lst):\n",
        "  total=0\n",
        "  for element in lst:\n",
        "    total += element\n",
        "  mean_val=total/len(lst)\n",
        "  return mean_val\n",
        "def calculate_variance(lst):\n",
        "  \n",
        "  mean = calculate_mean(lst)\n",
        "\n",
        "  sum_diffsq = 0\n",
        "\n",
        "  for element in lst:\n",
        "    diff = element - mean\n",
        "    diffsq = np.square(diff)\n",
        "    sum_diffsq += diffsq\n",
        "\n",
        "  sum_diffsq = sum_diffsq/(len(lst)-1)\n",
        "  return sum_diffsq\n",
        "\n",
        "print(calculate_mean(test_list1),calculate_variance(test_list1))\n",
        "print(calculate_mean(test_list2),calculate_variance(test_list2))\n",
        "print(calculate_mean(test_list3),calculate_variance(test_list3))"
      ],
      "execution_count": 0,
      "outputs": [
        {
          "output_type": "stream",
          "text": [
            "3.4285714285714284 5.6190476190476195\n",
            "5.333333333333333 1.8666666666666665\n",
            "3.1666666666666665 2.966666666666667\n"
          ],
          "name": "stdout"
        }
      ]
    },
    {
      "metadata": {
        "id": "ct1q4hmvvnzt",
        "colab_type": "text"
      },
      "cell_type": "markdown",
      "source": [
        "### EXERCISE 6 - Putting the `calculate_mean` and `calculate_variance` function(s) in a module\n",
        "\n",
        "We can make our functions more easily reusable by placing them into modules that we can import, just\n",
        "like we have been doing with `numpy`. It's pretty simple to do this.\n",
        "\n",
        "1. Copy your function(s) into a new text file, in the same directory as this notebook,\n",
        "called `stats.py`.\n",
        "1. In the cell below, type `import stats` to import the module. Type `stats.` and hit tab to see the available\n",
        "functions in the module. Try calculating the variance of a number of samples of heights (or other random numbers) using your imported module."
      ]
    },
    {
      "metadata": {
        "id": "50Svve-lvnzu",
        "colab_type": "code",
        "outputId": "16ed53e2-a98d-485f-8184-571bebf505ef",
        "colab": {
          "base_uri": "https://localhost:8080/",
          "height": 801
        }
      },
      "cell_type": "code",
      "source": [
        "from google.colab import drive\n",
        "drive.mount('/content/gdrive')\n",
        "!ls /content/gdrive/My\\ Drive/Colab\\ Notebooks/*\n",
        "!cat '/content/gdrive/My Drive/Colab Notebooks/stats.py'\n",
        "#import stats as stats\n",
        "#stats.calculate_variance(test_arr1)\n",
        "import numpy as np\n",
        "import sys\n",
        "sys.path.append('/content/gdrive/My Drive/Colab Notebooks/')\n",
        "import stats as st\n",
        "test_arr1 = [1,3,2,5,7,3]\n",
        "print(\"\\n\")\n",
        "print(np.array(test_arr1),type(test_arr1))\n",
        "print(st.calculate_mean(test_arr1))\n",
        "st.calculate_variance(test_arr1)"
      ],
      "execution_count": 0,
      "outputs": [
        {
          "output_type": "stream",
          "text": [
            "Go to this URL in a browser: https://accounts.google.com/o/oauth2/auth?client_id=947318989803-6bn6qk8qdgf4n4g3pfee6491hc0brc4i.apps.googleusercontent.com&redirect_uri=urn%3Aietf%3Awg%3Aoauth%3A2.0%3Aoob&scope=email%20https%3A%2F%2Fwww.googleapis.com%2Fauth%2Fdocs.test%20https%3A%2F%2Fwww.googleapis.com%2Fauth%2Fdrive%20https%3A%2F%2Fwww.googleapis.com%2Fauth%2Fdrive.photos.readonly%20https%3A%2F%2Fwww.googleapis.com%2Fauth%2Fpeopleapi.readonly&response_type=code\n",
            "\n",
            "Enter your authorization code:\n",
            "··········\n",
            "Mounted at /content/gdrive\n",
            "'/content/gdrive/My Drive/Colab Notebooks/1D Tight-Binding_Real Space_Band Structure .ipynb'\n",
            "'/content/gdrive/My Drive/Colab Notebooks/2D Tight-Binding_Real Space_Band Structure .ipynb'\n",
            "'/content/gdrive/My Drive/Colab Notebooks/assignment1.ipynb'\n",
            "'/content/gdrive/My Drive/Colab Notebooks/Learn python by kyungmin lee session 1.ipynb'\n",
            "'/content/gdrive/My Drive/Colab Notebooks/MC of Ising model on square lattice.ipynb'\n",
            "'/content/gdrive/My Drive/Colab Notebooks/MFT of 5d2 superexchange.ipynb'\n",
            "'/content/gdrive/My Drive/Colab Notebooks/python_intro.ipynb'\n",
            "'/content/gdrive/My Drive/Colab Notebooks/stats.py'\n",
            "'/content/gdrive/My Drive/Colab Notebooks/Tight binding of 1T-TaS2.ipynb'\n",
            "'/content/gdrive/My Drive/Colab Notebooks/Untitled0.ipynb'\n",
            "'/content/gdrive/My Drive/Colab Notebooks/Untitled1.ipynb'\n",
            "\n",
            "'/content/gdrive/My Drive/Colab Notebooks/__pycache__':\n",
            "\n",
            "def calculate_mean(lst):\n",
            "  total=0\n",
            "  for element in lst:\n",
            "    total += element\n",
            "  mean_val=total/len(lst)\n",
            "  return mean_val\n",
            "def calculate_variance(lst):\n",
            "  \n",
            "  mean = calculate_mean(lst)\n",
            "\n",
            "  sum_diffsq = 0\n",
            "\n",
            "  for element in lst:\n",
            "    diff = element - mean\n",
            "    diffsq = diff*diff \n",
            "    sum_diffsq += diffsq\n",
            "\n",
            "  sum_diffsq = sum_diffsq/(len(lst)-1)\n",
            "  return sum_diffsq\n",
            "\n",
            "[1 3 2 5 7 3] <class 'list'>\n",
            "3.5\n"
          ],
          "name": "stdout"
        },
        {
          "output_type": "execute_result",
          "data": {
            "text/plain": [
              "4.7"
            ]
          },
          "metadata": {
            "tags": []
          },
          "execution_count": 1
        }
      ]
    },
    {
      "metadata": {
        "id": "FykvuxHXtyH6",
        "colab_type": "code",
        "outputId": "377eb8f6-4bca-4169-d361-e234d9e35ef7",
        "colab": {
          "base_uri": "https://localhost:8080/",
          "height": 35
        }
      },
      "cell_type": "code",
      "source": [
        "st.calculate_variance(test_arr1)"
      ],
      "execution_count": 0,
      "outputs": [
        {
          "output_type": "execute_result",
          "data": {
            "text/plain": [
              "4.7"
            ]
          },
          "metadata": {
            "tags": []
          },
          "execution_count": 2
        }
      ]
    },
    {
      "metadata": {
        "id": "8dn-rurfMywk",
        "colab_type": "code",
        "colab": {}
      },
      "cell_type": "code",
      "source": [
        ""
      ],
      "execution_count": 0,
      "outputs": []
    }
  ]
}