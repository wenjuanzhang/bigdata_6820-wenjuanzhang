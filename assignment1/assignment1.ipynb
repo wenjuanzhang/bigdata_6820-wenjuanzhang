{
  "nbformat": 4,
  "nbformat_minor": 0,
  "metadata": {
    "colab": {
      "name": "assignment1.ipynb",
      "version": "0.3.2",
      "provenance": [],
      "collapsed_sections": []
    },
    "kernelspec": {
      "name": "python3",
      "display_name": "Python 3"
    }
  },
  "cells": [
    {
      "metadata": {
        "id": "view-in-github",
        "colab_type": "text"
      },
      "cell_type": "markdown",
      "source": [
        "<a href=\"https://colab.research.google.com/github/big-data-analytics-physics/handsonml_ch1/blob/master/assignment1.ipynb\" target=\"_parent\"><img src=\"https://colab.research.google.com/assets/colab-badge.svg\" alt=\"Open In Colab\"/></a>"
      ]
    },
    {
      "metadata": {
        "id": "uZLC-qIxAx_D",
        "colab_type": "text"
      },
      "cell_type": "markdown",
      "source": [
        "## Riddler Problem\n",
        "This notebook will be used to get a little practice with python.   The problem we will tackle is a [Riddler](https://fivethirtyeight.com/tag/the-riddler/).   These are a set of puzzles on the 538 website.   \n",
        "\n",
        "The problem we will tackle is \"Competitive Coin Flipping\", described [here](https://fivethirtyeight.com/features/the-new-national-pastime-competitive-coin-flipping/).\n",
        "\n",
        "Here is a snippet describing the problem:"
      ]
    },
    {
      "metadata": {
        "id": "McElDMMBAPki",
        "colab_type": "text"
      },
      "cell_type": "markdown",
      "source": [
        "From the website:  Riddler Nation recently legalized sports betting, and of course everyone is excited to risk some cash on the national pastime: competitive coin flipping.\n",
        "\n",
        "Every coin-flipping match is a faceoff between two teams. Each team selects a sequence of heads and/or tails to look for, and they simultaneously flip their own coin over and over until one team finds its sequence. If both teams find their sequences at the same time, they start over and flip until only team finds it. First to be the only team to have found its sequence wins.\n",
        "\n",
        "You decide to get in on the action and go to one of these events. When you arrive, you see that the Red Team has chosen the sequence “heads-tails,” while the Blue Team has chosen “heads-heads.” You can get even odds on either team. Which team should you put your money on?"
      ]
    },
    {
      "metadata": {
        "id": "ug8bAEhOB1Y5",
        "colab_type": "text"
      },
      "cell_type": "markdown",
      "source": [
        "## Your Task\n",
        "Write a python program to model this problem, and use the results to figure out if one team or the other is better to bet on.\n",
        "\n",
        "To begin this problem, we first need a random number generator, so we can simulate the flipping of a coin.   Go to google and type \"python random number between 0 and 1\".\n",
        "\n",
        "Use the information you find, and write a snippet of code to generate random numbers in a loop.    "
      ]
    },
    {
      "metadata": {
        "id": "P6Tq7f7YCifq",
        "colab_type": "code",
        "colab": {
          "base_uri": "https://localhost:8080/",
          "height": 381
        },
        "outputId": "0e572f24-3cee-48f4-a63e-08a7e2e29533"
      },
      "cell_type": "code",
      "source": [
        "#\n",
        "# Import the appropriate python package\n",
        "import random\n",
        "#\n",
        "# Here is a for loop that runs from 0 to 9 (1 less than the argument of \"range\")\n",
        "for i in range(10):\n",
        "#\n",
        "  print(\"Trial \",i)\n",
        "# ***ADD YOUR CODE HERE***\n",
        "  print(random.uniform(0,1))\n"
      ],
      "execution_count": 1,
      "outputs": [
        {
          "output_type": "stream",
          "text": [
            "Trial  0\n",
            "0.9747261008033627\n",
            "Trial  1\n",
            "0.021438687595519257\n",
            "Trial  2\n",
            "0.3733484905130676\n",
            "Trial  3\n",
            "0.3761191008701721\n",
            "Trial  4\n",
            "0.561452205326098\n",
            "Trial  5\n",
            "0.010001503436862569\n",
            "Trial  6\n",
            "0.38546527918671203\n",
            "Trial  7\n",
            "0.70067975587932\n",
            "Trial  8\n",
            "0.8502171358704761\n",
            "Trial  9\n",
            "0.7539825274498181\n"
          ],
          "name": "stdout"
        }
      ]
    },
    {
      "metadata": {
        "id": "G5wFn6HHCrHQ",
        "colab_type": "text"
      },
      "cell_type": "markdown",
      "source": [
        "We now need to simulate a coin flip.   Lets make a *method* to do just that.   Define heads as a random number greater or equal to 0.5, and tails as a number less than 0.5.   Have the method return a 1 if heads, and a 0 if tails."
      ]
    },
    {
      "metadata": {
        "id": "5DeT6kALDIUz",
        "colab_type": "code",
        "colab": {
          "base_uri": "https://localhost:8080/",
          "height": 35
        },
        "outputId": "8bbe8e37-b96b-4229-d803-8cea46756e10"
      },
      "cell_type": "code",
      "source": [
        "import random\n",
        "def coinFlip():\n",
        "#\n",
        "# Set default return value\n",
        "  flip = 0\n",
        "  val = 0.0\n",
        "#\n",
        "# ***ADD YOUR CODE HERE***\n",
        "#\n",
        "  val = random.uniform(0,1)\n",
        "  if val >= 0.5: \n",
        "    flip = 1\n",
        "  else: flip = 0\n",
        "# Return the result\n",
        "  return flip, val\n",
        "coinFlip()"
      ],
      "execution_count": 14,
      "outputs": [
        {
          "output_type": "execute_result",
          "data": {
            "text/plain": [
              "(0, 0.26732257757511246)"
            ]
          },
          "metadata": {
            "tags": []
          },
          "execution_count": 14
        }
      ]
    },
    {
      "metadata": {
        "id": "mVxIZROQNigC",
        "colab_type": "text"
      },
      "cell_type": "markdown",
      "source": [
        "\n",
        "\n",
        "---\n",
        "\n",
        "Now test the method: use a loop so you can try it many times.   If the random number generator is good, then over a long time you should get as many heads as tails.  Test this!"
      ]
    },
    {
      "metadata": {
        "id": "sn-pAH80DaFr",
        "colab_type": "code",
        "colab": {
          "base_uri": "https://localhost:8080/",
          "height": 35
        },
        "outputId": "bd439562-fe8f-487c-e438-c9cac4964eda"
      },
      "cell_type": "code",
      "source": [
        "num_heads=0\n",
        "num_tails=0\n",
        "num_trials=2000\n",
        "for i in range(num_trials):\n",
        "#\n",
        "\n",
        "# Flip the coin!\n",
        "  flip,val=coinFlip()\n",
        "  if flip==1:\n",
        "    result=\"heads\"\n",
        "    num_heads+=1\n",
        "  else: \n",
        "    result=\"tails\"\n",
        "    num_tails+=1\n",
        "#\n",
        "# Print the result\n",
        "  #print(\"results: %s\" %result)\n",
        "#\n",
        "# How many total heads/tails were there?\n",
        "print(\"Out of %d trials, the number of heads is %d and the number of tails is %d: \" %(num_trials,num_heads,num_tails))"
      ],
      "execution_count": 15,
      "outputs": [
        {
          "output_type": "stream",
          "text": [
            "Out of 2000 trials, number of heads is 1000 and number of tails is 1000: \n"
          ],
          "name": "stdout"
        }
      ]
    },
    {
      "metadata": {
        "id": "gZp1GVw5Ebpq",
        "colab_type": "text"
      },
      "cell_type": "markdown",
      "source": [
        "\n",
        "\n",
        "---\n",
        "\n",
        "\n",
        "\n",
        "---\n",
        "\n",
        "Now lets run the compettitiopn.   The rules are:\n",
        "1) Each team does a flip\n",
        "2) Team HT looks for a sequence of \"Heads, then Tails\".   Team HH looks for a sequence of \"Heads, then Heads\".   If they both get the sequence they want on the same flip, they start over."
      ]
    },
    {
      "metadata": {
        "id": "ka0uq5DlLiUA",
        "colab_type": "text"
      },
      "cell_type": "markdown",
      "source": [
        "\n",
        "\n",
        "---\n",
        "\n",
        "Write a method to run the competition.  You have some starter code below which should help.   Things to remember:\n",
        "\n",
        "*   You need to keep track of the *last* flip of each team, as well as the current flip.\n",
        "*   If both teams get their sequence, you need to start over\n",
        "*   Once a team gets its sequence, the competition ends\n"
      ]
    },
    {
      "metadata": {
        "id": "m9tKlr4NEbI2",
        "colab_type": "code",
        "colab": {
          "base_uri": "https://localhost:8080/",
          "height": 35
        },
        "outputId": "61b842d5-2686-4513-f1ee-27399000a515"
      },
      "cell_type": "code",
      "source": [
        "def runCompetition():\n",
        "  goodFlips = 0\n",
        "  winner = -1\n",
        "  last_ht_flip = -1\n",
        "  last_hh_flip = -1\n",
        "#\n",
        "# Could do this with a \"while\" loop, or just use a reall large number of trials\n",
        "  for trial in range(100):\n",
        "    ht_flip,ht_val = coinFlip()\n",
        "    hh_flip,hh_val = coinFlip()\n",
        "    #print(\"Trial \",trial,#\"; flipNumber: \",flipNumber,\n",
        "    #      \"; HT:\",ht_flip,\"; HH: \",hh_flip)\n",
        "  #\n",
        "  # Only check if flipNumber>0 (that is, we had at least 2 flips since last reset)\n",
        "    ht_good = 0     # set this to 1 below if team HT gets their sequence of HEADS-TAILS\n",
        "    hh_good = 0     # set this to 1 below if team HH gets their sequence of HEADS-HEADS\n",
        "  #  if goodFlips>0:\n",
        "  #    print(\"flips\",goodFlips)\n",
        "#\n",
        "# Check team HTs current flip AND its last flip\n",
        "#      *** ADD CODE HERE ***\n",
        "    if last_ht_flip == 1 and ht_flip == 0:\n",
        "       ht_good = 1\n",
        "#\n",
        "# Check team HHs current flip AND its last flip\n",
        "    if last_hh_flip == 1 and hh_flip == 1:\n",
        "       hh_good = 1\n",
        "  \n",
        "#\n",
        "# Now check results of both teams:\n",
        "# ==> if both are good, reset goodFlips to zero\n",
        "# ==> elif one is good, set that one as the winner\n",
        "# ==> elif other is good, set that one as the winner\n",
        "    if ht_good == 1 and hh_good == 1:\n",
        "       goodFlips = 0\n",
        "    elif ht_good == 1: \n",
        "       winner = 1\n",
        "    elif hh_good == 1:\n",
        "       winner = 2\n",
        "    else: winner = -1\n",
        "#\n",
        "# If we got a winner, then leave loop\n",
        "    if winner>=0:\n",
        "      break\n",
        "#\n",
        "# NOW increment flipNumber and set last flips\n",
        "    goodFlips += 1\n",
        "    last_ht_flip = ht_flip\n",
        "    last_hh_flip = hh_flip\n",
        "#\n",
        "# We get here when we break out of the loop\n",
        "  return winner\n",
        "runCompetition()"
      ],
      "execution_count": 51,
      "outputs": [
        {
          "output_type": "execute_result",
          "data": {
            "text/plain": [
              "2"
            ]
          },
          "metadata": {
            "tags": []
          },
          "execution_count": 51
        }
      ]
    },
    {
      "metadata": {
        "id": "48tiDQALMG0a",
        "colab_type": "text"
      },
      "cell_type": "markdown",
      "source": [
        "\n",
        "\n",
        "---\n",
        "\n",
        "\n",
        "\n",
        "---\n",
        "\n",
        "Now what we want to figure out is: which team is more likely to win?   That is, of we are given *even* odds, which team would we pick to win.   To determoine this, we simple need to call our competition method many times (say 1000), and count how often one team wins vs the other.   if there is no advantage to either team, then both should win about 500 times."
      ]
    },
    {
      "metadata": {
        "id": "QxWCnqyeKeeZ",
        "colab_type": "code",
        "colab": {
          "base_uri": "https://localhost:8080/",
          "height": 54
        },
        "outputId": "81d234a3-5eac-4883-8171-8d16268ebee6"
      },
      "cell_type": "code",
      "source": [
        "\n",
        "winsHT = 0\n",
        "winsHH = 0\n",
        "num_ties = 0\n",
        "num_trials = 50000\n",
        "\n",
        "for trials in range(num_trials):\n",
        "#\n",
        "# ***ADD code here***\n",
        "  winindex = runCompetition()\n",
        "  \n",
        "  if winindex == 1: \n",
        "    winsHT += 1\n",
        "    name_team=\"HT\"\n",
        "  elif winindex == 2: \n",
        "    winsHH += 1\n",
        "    name_team=\"HH\"\n",
        "  else: num_ties += 1\n",
        "#  print(\"trial \",trials, \": %s team wins\" % name_team)\n",
        "#\n",
        "# Print results\n",
        "print(\"Out of %d trials, there are %d times HT team wins and %d times HH team wins.\" % (num_trials,winsHT,winsHH))\n",
        "print(\"Hence the possibility for HT team to win is %f and possibility for HH team to win is %f\" %(winsHT/num_trials,winsHH/num_trials))"
      ],
      "execution_count": 53,
      "outputs": [
        {
          "output_type": "stream",
          "text": [
            "Out of 50000 trials, there are 29269 times HT team wins and 20731 times HH team wins.\n",
            "Hence the possibility for HT team to win is 0.585380 and possibility for HH team to win is 0.414620\n"
          ],
          "name": "stdout"
        }
      ]
    }
  ]
}