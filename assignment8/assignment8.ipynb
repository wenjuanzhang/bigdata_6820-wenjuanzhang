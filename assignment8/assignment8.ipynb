{
  "nbformat": 4,
  "nbformat_minor": 0,
  "metadata": {
    "colab": {
      "name": "assignment8.ipynb",
      "version": "0.3.2",
      "provenance": [],
      "collapsed_sections": []
    },
    "kernelspec": {
      "name": "python3",
      "display_name": "Python 3"
    }
  },
  "cells": [
    {
      "metadata": {
        "id": "5a0b-JeEKoiV",
        "colab_type": "text"
      },
      "cell_type": "markdown",
      "source": [
        "# Assignment 8: Exploration of our neural network in MNIST\n",
        "In this assignment, I would like you to add some features to our neural network , and then use this to optimize its performance.\n",
        "\n",
        "Tasks:\n",
        "1.  During training, as one cycles over the epochs, it is helpful to keep track of the test set performance.   At the end of each epoch,  calculate the training and test set accuracy.   Plot these to see how the performance changes vs epoch.   You could try to come up with a way to automatically stop the training.\n",
        "2.  Add the confusion matrix calculation to the summary performance information that is calculated when training is done.\n",
        "3.  Optimize this network for the number of hidden nodes.   Do this the correct way!\n",
        "\n",
        "Extra:\n",
        "1.  Did you notice that there is structure in the cost function plot?   What is the source of this structure?   Can you remove it?\n",
        "2.  This is more involved: add another hidden layer to the network.   You will have to modify the forward pass as well as the backpropagation methods.\n"
      ]
    },
    {
      "metadata": {
        "id": "d78i4wiJKnqi",
        "colab_type": "code",
        "colab": {}
      },
      "cell_type": "code",
      "source": [
        ""
      ],
      "execution_count": 0,
      "outputs": []
    }
  ]
}