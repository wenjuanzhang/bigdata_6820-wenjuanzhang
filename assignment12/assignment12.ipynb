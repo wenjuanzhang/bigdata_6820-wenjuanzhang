{
 "cells": [
  {
   "cell_type": "markdown",
   "metadata": {},
   "source": [
    "# Assignment 12\n",
    "Our goal is to see if we can use an autoencoder to remove noise.\n",
    "1. Copy the add_noise.ipynb code and the network part of the ae_emnist_simple.ipynb (the fully connected not the CNN) code to this workbook.\n",
    "2. Train the autoencoder just as in class, and after training, send the **noisy** test digits through the autoencoder.  Does the autoencoder reconstruct them properly?  (**NOTE**: you could just load the pretrained model that we previously saved, rather than defining/compiling/fitting the model all over from scratch.)\n",
    "    * Look at the **mse** for the **noisy** decoded images relative to the non-noisy version of the nopisy images you sent through the network.  Meaning: send the x_test_noisy images through the network and get the decoded images from these.  Then when making the mse, use the decoded images and the **non-noisy** version of the images to compare.   Remember that the goal of denoising is to remove the noise - so the decoded image should look like the non-noisy version of the original image!\n",
    "    * Do the \"eye-test\" for 10 samples from the noisy dataset.\n",
    "3. Now do the following: modify the **fit** part of the autoencoder:\n",
    "    * Use the **noisy** training data x_train_noisy as your **input**\n",
    "    * Use the **original** training data x_train as your **target**\n",
    "    \n",
    "    Train this new autoencoder.   Again, after training, send the **noisy** test digits through the autoencoder.  Does the autoencoder reconstruct them properly?\n",
    "    * Again look at the **mse** for the **noisy** decoded images relative to the non-noisy version of the nopisy images you sent through the network.  Is this better than step 2?  It should be!\n",
    "    * Do the \"eye-test\" for 10 samples from the noisy dataset.\n",
    "    \n",
    "**Extra**: Create another **stacked** autoencoder/classifier.   In this case, train on the letters dataset, but apply it to the digits just as in cnn_stacked_ae.   You will simply need to copy and modify the ae_cnn_emnist.py file so that it uses the letters (df_test['label']>9).  Save the new models with an \"_letter\" tag so that you don't overwrite the models trained using the digits."
   ]
  },
  {
   "cell_type": "code",
   "execution_count": null,
   "metadata": {},
   "outputs": [],
   "source": []
  }
 ],
 "metadata": {
  "kernelspec": {
   "display_name": "Python 3.6 (Conda 5.2) [python/3.6-conda5.2]",
   "language": "python",
   "name": "sys_python36conda"
  },
  "language_info": {
   "codemirror_mode": {
    "name": "ipython",
    "version": 3
   },
   "file_extension": ".py",
   "mimetype": "text/x-python",
   "name": "python",
   "nbconvert_exporter": "python",
   "pygments_lexer": "ipython3",
   "version": "3.6.6"
  }
 },
 "nbformat": 4,
 "nbformat_minor": 2
}
