{
  "nbformat": 4,
  "nbformat_minor": 0,
  "metadata": {
    "colab": {
      "name": "assignment2.ipynb",
      "version": "0.3.2",
      "provenance": [],
      "collapsed_sections": [],
      "toc_visible": true
    },
    "kernelspec": {
      "name": "python3",
      "display_name": "Python 3"
    }
  },
  "cells": [
    {
      "metadata": {
        "id": "i2J3CjuhP4FD",
        "colab_type": "text"
      },
      "cell_type": "markdown",
      "source": [
        "#Assignment: Explore a dataset\n",
        "For this assignment, we will explore another dataset, with the goal of understand the features within that dataset.   I have download a few datsets, which you can find on the course data github: [https://github.com/big-data-analytics-physics/data](https://github.com/big-data-analytics-physics/data):\n",
        "\n",
        "\n",
        "*   Wine quality (for two types of wine)   Do this first!\n",
        "*   Student performace (for two subjects)    Look at this file if you complete everything else and have extra time.   Warning: I have not looked at this file, so it might have... features.\n",
        "\n",
        "To load the file directly from the repo, you need to navigate to the csv file you want, then click on that, then click on \"Raw\".   The link in the navigation bar is what you want.   For example, the white wine quality csv file is at this link:\n",
        "\n",
        "\n",
        "> https://raw.githubusercontent.com/big-data-analytics-physics/data/master/wine/winequality-white.csv\n",
        "\n",
        "Below is an example of opening this file in pandas:\n",
        "\n"
      ]
    },
    {
      "metadata": {
        "id": "lD-kiu49UX5Q",
        "colab_type": "code",
        "colab": {}
      },
      "cell_type": "code",
      "source": [
        "import pandas as pd\n",
        "url = \"https://raw.githubusercontent.com/big-data-analytics-physics/data/master/wine/winequality-white.csv\"\n",
        "data=pd.read_csv(url)"
      ],
      "execution_count": 0,
      "outputs": []
    },
    {
      "metadata": {
        "id": "x5ARrMCiWGzl",
        "colab_type": "text"
      },
      "cell_type": "markdown",
      "source": [
        "\n",
        "# Tasks\n",
        "\n",
        "Do the following for the white wine sample:\n",
        "\n",
        "\n",
        "1.   Get the mean of each column.\n",
        "2.   Noting that the column names in the two files are the same, write a loop and print out: the column name, the mean and std deviation of file one, the mean and std deviation of file two.  (There is an easy way to get the column names of a data frame!) \n",
        "3.   Make a heat map of the correlation matrix.   The variable that we will want to compare everythin to is \"quality\".\n",
        "4.   Make a scatter plot of the variable (or feature) most correlated with quality.   It will look not so good!   Try using box plots (where the x-axis is quality - so there is a box for quality=3, a box for quality=4, etc)\n",
        "5.    Do the same (box plot only) for the **least** correlated feature.\n",
        "6.    Split the sample based on the mean of the quality.   The plot a histogram of the most correlated feature for wines below the mean, and wines above the mean.   Put these on the same plot!\n",
        "7.    Finally, do some of the same things that you just did, but now for the red wine sample.    Is the feature that was most correlated with quality the same?\n",
        "\n",
        "# Formatting your assignment\n",
        "It is **very important** that your assignment is readable... both by you and those who will later look at it (like me!).   You need to use markdown to format your workbook.   I have a simple outline below which you can use for a starting point."
      ]
    },
    {
      "metadata": {
        "id": "qI7jXQGlki-e",
        "colab_type": "text"
      },
      "cell_type": "markdown",
      "source": [
        "# Assignment Header\n",
        "Some description about what we are trying to do"
      ]
    },
    {
      "metadata": {
        "id": "N9uL7-1-kscg",
        "colab_type": "text"
      },
      "cell_type": "markdown",
      "source": [
        "## Getting the data\n",
        "We use the following code to get the data"
      ]
    },
    {
      "metadata": {
        "id": "tw7uvFe4kyRT",
        "colab_type": "code",
        "colab": {}
      },
      "cell_type": "code",
      "source": [
        "# Here is some code"
      ],
      "execution_count": 0,
      "outputs": []
    },
    {
      "metadata": {
        "id": "TNJQ4Giok676",
        "colab_type": "text"
      },
      "cell_type": "markdown",
      "source": [
        "## Simple column info\n",
        "\n",
        "---\n",
        "\n",
        "Now loop over the column names, and get the mean and std deviation of each column"
      ]
    },
    {
      "metadata": {
        "id": "zoLYL-2kkiAv",
        "colab_type": "code",
        "colab": {}
      },
      "cell_type": "code",
      "source": [
        "# some more code"
      ],
      "execution_count": 0,
      "outputs": []
    },
    {
      "metadata": {
        "id": "TxPBFubok9xT",
        "colab_type": "text"
      },
      "cell_type": "markdown",
      "source": [
        "## The correlation matrix\n",
        "Pandas has a nice feature for graphically displaying the correlation matrix of a pandas dataframe:"
      ]
    },
    {
      "metadata": {
        "id": "Ecmt2MKKlJ1u",
        "colab_type": "text"
      },
      "cell_type": "markdown",
      "source": [
        "## Plotting\n",
        "Before plotting in plotly, we need to remember to put in the enable plotly method!"
      ]
    },
    {
      "metadata": {
        "id": "KqF3WaiflLx1",
        "colab_type": "code",
        "colab": {}
      },
      "cell_type": "code",
      "source": [
        "def enable_plotly_in_cell():\n",
        "  import IPython\n",
        "  from plotly.offline import init_notebook_mode\n",
        "  display(IPython.core.display.HTML('''\n",
        "        <script src=\"/static/components/requirejs/require.js\"></script>\n",
        "  '''))\n",
        "  init_notebook_mode(connected=False)"
      ],
      "execution_count": 0,
      "outputs": []
    },
    {
      "metadata": {
        "id": "uhZG08USlOnl",
        "colab_type": "text"
      },
      "cell_type": "markdown",
      "source": [
        "## Simple Scatter plot\n",
        "Before we make **histograms**, lets look see if we can get a feel for the correlation matrix above by making some scatter plots: one of a very correlated variable first:"
      ]
    },
    {
      "metadata": {
        "id": "_YxMYjeWlc_Y",
        "colab_type": "code",
        "colab": {}
      },
      "cell_type": "code",
      "source": [
        "# code"
      ],
      "execution_count": 0,
      "outputs": []
    },
    {
      "metadata": {
        "id": "bh4PY3yIleKh",
        "colab_type": "text"
      },
      "cell_type": "markdown",
      "source": [
        "## Boxplots\n",
        "Hmm.   Not so useful!    Have you heard of a \"boxplot\"?   This might be a good way to reprensent a scatter plot when one of the variables is categorical."
      ]
    },
    {
      "metadata": {
        "id": "K3-X4pqQlfdp",
        "colab_type": "code",
        "colab": {}
      },
      "cell_type": "code",
      "source": [
        "# code"
      ],
      "execution_count": 0,
      "outputs": []
    },
    {
      "metadata": {
        "id": "x1KxmPkbln55",
        "colab_type": "text"
      },
      "cell_type": "markdown",
      "source": [
        "## Overlaying histograms\n",
        "\n",
        "\n",
        "---\n",
        "\n",
        "Now lets make a simple overlaid histogram.  We will make two dataframes: one for wines with quality above the mean, and one for wines with quality below the mean.    Then we can easily plot any feature from those two dataframes on the same figure.   Let's do \"xxxxx\" first:"
      ]
    },
    {
      "metadata": {
        "id": "lwMs8MWHlvds",
        "colab_type": "code",
        "colab": {}
      },
      "cell_type": "code",
      "source": [
        "# code"
      ],
      "execution_count": 0,
      "outputs": []
    },
    {
      "metadata": {
        "id": "WSBsn_vwlwrT",
        "colab_type": "text"
      },
      "cell_type": "markdown",
      "source": [
        "# Red wine\n",
        "Now Lets do red wine!\n",
        "\n",
        "## Correlation matrix\n",
        "etc"
      ]
    }
  ]
}