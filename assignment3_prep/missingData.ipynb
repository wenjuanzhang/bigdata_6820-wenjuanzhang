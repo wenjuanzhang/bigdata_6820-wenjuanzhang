{
  "nbformat": 4,
  "nbformat_minor": 0,
  "metadata": {
    "colab": {
      "name": "missingData.ipynb",
      "version": "0.3.2",
      "provenance": [],
      "collapsed_sections": [],
      "toc_visible": true
    },
    "kernelspec": {
      "name": "python3",
      "display_name": "Python 3"
    }
  },
  "cells": [
    {
      "metadata": {
        "id": "Y0QS7cLxBsv1",
        "colab_type": "text"
      },
      "cell_type": "markdown",
      "source": [
        "# The Airport dataset\n",
        "For some simple data cleaning and preparation studies we will use an airport dataset from this [website](https://github.com/ismayc/pnwflights14): \n",
        "It contains information about all flights that departed from the two major airports of the Pacific Northwest (PNW), SEA in Seattle and PDX in Portland, in 2014: 162,049 flights in total."
      ]
    },
    {
      "metadata": {
        "id": "Lmxc9N3CCcCo",
        "colab_type": "code",
        "colab": {}
      },
      "cell_type": "code",
      "source": [
        "import pandas as pd\n",
        "\n",
        "flights = pd.read_csv(\"https://raw.githubusercontent.com/big-data-analytics-physics/data/master/flights/flights.csv\")\n",
        "print(flights.head())"
      ],
      "execution_count": 0,
      "outputs": []
    },
    {
      "metadata": {
        "id": "Z6Jb88WWA9rO",
        "colab_type": "text"
      },
      "cell_type": "markdown",
      "source": [
        "# Dealing with missing data\n",
        "Sometimes you have datasets in which there are subsets of the data which are missing some features. \n",
        "\n",
        "How do we find these rows?  If the data is truly missing (meaning there is nothing in the place where it should be)  we can use a tool in pandas to find it: Let's use google: pandas dataframe find rows with nan\n",
        "\n",
        "The answer looks something like this: df1 = df[df.isnull().any(axis=1)]\n",
        "\n",
        "So let's try it with our flights dataframe:"
      ]
    },
    {
      "metadata": {
        "id": "NErc1CHdDRdf",
        "colab_type": "code",
        "colab": {}
      },
      "cell_type": "code",
      "source": [
        "flights_nulls = flights[flights.isnull().any(axis=1)]\n",
        "print(flights_nulls.head(20))"
      ],
      "execution_count": 0,
      "outputs": []
    },
    {
      "metadata": {
        "id": "hDjgvfXXDfC1",
        "colab_type": "text"
      },
      "cell_type": "markdown",
      "source": [
        "Notice the first column printed out above - the one with 408, then 409, etc.   This is the pandas dataframe **index**.  If you watched the video I pointed the class to, this should be familiar.\n",
        "\n",
        "We can print out some of these same rows from the **original** dataframe by using this index.   We can do this using \"**loc**\" or \"**iloc**\".   The difference being:\n",
        "1.  loc gets rows (or columns) with particular labels from the index. \n",
        "2.  iloc gets rows (or columns) at particular positions in the index (so it only takes integers)\n",
        "\n",
        "In our original dataframe (flights) the *label* is the same as the *position*.   This is **not** true for the derived dataframe flights_nulls.    \n",
        " \n",
        " Here is a specific row from the original dataframe:"
      ]
    },
    {
      "metadata": {
        "id": "02ND_ipBDhkj",
        "colab_type": "code",
        "colab": {}
      },
      "cell_type": "code",
      "source": [
        "print(flights.loc[408,:])\n",
        "print(flights.iloc[408][:])"
      ],
      "execution_count": 0,
      "outputs": []
    },
    {
      "metadata": {
        "id": "9pUe5avefDiR",
        "colab_type": "text"
      },
      "cell_type": "markdown",
      "source": [
        "Here are rows from the derived dataframe:"
      ]
    },
    {
      "metadata": {
        "id": "zqQKVYsPfCgd",
        "colab_type": "code",
        "colab": {}
      },
      "cell_type": "code",
      "source": [
        "print(flights_nulls.loc[408,:])    ## this uses the index label\n",
        "print(flights_nulls.iloc[0][:])    ## this uses the position - the zeroth row"
      ],
      "execution_count": 0,
      "outputs": []
    },
    {
      "metadata": {
        "id": "L4heuJBhEWGB",
        "colab_type": "text"
      },
      "cell_type": "markdown",
      "source": [
        "Back to dealing with missing data!\n",
        "\n",
        "Here are some options:\n",
        "\n",
        "1.  Simply remove rows with missing data.\n",
        "2.  Replace the missing data with the mean of that column.\n",
        "3.  Replace the missing data with the mean of columns that are similar to that row. For exmple, we could choose rows that are geographically similar.\n",
        "\n",
        "It is important to think carefully about the data when choosing which option to use.  It might not make sense to replace missing values with the means of the respective columns.    On the other hand removing every row which has a missing value might remove too much data."
      ]
    },
    {
      "metadata": {
        "id": "OItR2E0-b6kA",
        "colab_type": "text"
      },
      "cell_type": "markdown",
      "source": [
        "Here is how you would remove rows with missing data:"
      ]
    },
    {
      "metadata": {
        "id": "F5IBuuEPb5KN",
        "colab_type": "code",
        "colab": {}
      },
      "cell_type": "code",
      "source": [
        "flights_nonulls = flights.dropna()\n",
        "print(\"Length of flights DF:\",len(flights))\n",
        "print(\"Length of flights with no nulls DF:\",len(flights_nonulls))\n",
        "print(\"Length of flights with nulls DF:\",len(flights_nulls))\n",
        "\n",
        "\n"
      ],
      "execution_count": 0,
      "outputs": []
    },
    {
      "metadata": {
        "id": "OqtzYTflcmlW",
        "colab_type": "text"
      },
      "cell_type": "markdown",
      "source": [
        "Removing rows with no nulls only affects 0.8% of the data, so it is probably the easiest approach.\n",
        "\n",
        "Just for completeness, lets also look at how to replace null data with the mean: \n",
        "\n",
        "**NOTE** This will take some time!"
      ]
    },
    {
      "metadata": {
        "id": "IMnOpDExc4TJ",
        "colab_type": "code",
        "colab": {}
      },
      "cell_type": "code",
      "source": [
        "flights.fillna(flights.mean(),inplace=True)\n",
        "print(flights.loc[408,:])"
      ],
      "execution_count": 0,
      "outputs": []
    },
    {
      "metadata": {
        "id": "GSoQ_ZdYdd_G",
        "colab_type": "text"
      },
      "cell_type": "markdown",
      "source": [
        "We see that the row we looked at previously (rownum=408) has missing values filled in with the means from those rows (this will take some time as well!):"
      ]
    },
    {
      "metadata": {
        "id": "dkZyCIZNfw7F",
        "colab_type": "code",
        "colab": {}
      },
      "cell_type": "code",
      "source": [
        "print(\"Column means\\n\",flights.mean())"
      ],
      "execution_count": 0,
      "outputs": []
    }
  ]
}