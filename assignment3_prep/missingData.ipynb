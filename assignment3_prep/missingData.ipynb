{
  "nbformat": 4,
  "nbformat_minor": 0,
  "metadata": {
    "colab": {
      "name": "missingData.ipynb",
      "version": "0.3.2",
      "provenance": [],
      "collapsed_sections": [],
      "toc_visible": true
    },
    "kernelspec": {
      "name": "python3",
      "display_name": "Python 3"
    }
  },
  "cells": [
    {
      "metadata": {
        "id": "Y0QS7cLxBsv1",
        "colab_type": "text"
      },
      "cell_type": "markdown",
      "source": [
        "# The Airport dataset\n",
        "For some simple data cleaning and preparation studies we will use an airport dataset from this [website](https://github.com/ismayc/pnwflights14): \n",
        "It contains information about all flights that departed from the two major airports of the Pacific Northwest (PNW), SEA in Seattle and PDX in Portland, in 2014: 162,049 flights in total."
      ]
    },
    {
      "metadata": {
        "id": "Lmxc9N3CCcCo",
        "colab_type": "code",
        "colab": {
          "base_uri": "https://localhost:8080/",
          "height": 254
        },
        "outputId": "55f082af-6fc5-4065-c64c-6906a3574774"
      },
      "cell_type": "code",
      "source": [
        "import pandas as pd\n",
        "\n",
        "flights = pd.read_csv(\"https://raw.githubusercontent.com/big-data-analytics-physics/data/master/flights/flights.csv\")\n",
        "print(flights.head())"
      ],
      "execution_count": 1,
      "outputs": [
        {
          "output_type": "stream",
          "text": [
            "   year  month  day  dep_time  dep_delay  arr_time  arr_delay carrier tailnum  \\\n",
            "0  2014      1    1       1.0       96.0     235.0       70.0      AS  N508AS   \n",
            "1  2014      1    1       4.0       -6.0     738.0      -23.0      US  N195UW   \n",
            "2  2014      1    1       8.0       13.0     548.0       -4.0      UA  N37422   \n",
            "3  2014      1    1      28.0       -2.0     800.0      -23.0      US  N547UW   \n",
            "4  2014      1    1      34.0       44.0     325.0       43.0      AS  N762AS   \n",
            "\n",
            "   flight origin dest  air_time  distance  hour  minute  \n",
            "0     145    PDX  ANC     194.0      1542   0.0     1.0  \n",
            "1    1830    SEA  CLT     252.0      2279   0.0     4.0  \n",
            "2    1609    PDX  IAH     201.0      1825   0.0     8.0  \n",
            "3     466    PDX  CLT     251.0      2282   0.0    28.0  \n",
            "4     121    SEA  ANC     201.0      1448   0.0    34.0  \n"
          ],
          "name": "stdout"
        }
      ]
    },
    {
      "metadata": {
        "id": "Z6Jb88WWA9rO",
        "colab_type": "text"
      },
      "cell_type": "markdown",
      "source": [
        "# Dealing with missing data\n",
        "Sometimes you have datasets in which there are subsets of the data which are missing some features. \n",
        "\n",
        "How do we find these rows?  If the data is truly missing (meaning there is nothing in the place where it should be)  we can use a tool in pandas to find it: Let's use google: pandas dataframe find rows with nan\n",
        "\n",
        "The answer looks something like this: df1 = df[df.isnull().any(axis=1)]\n",
        "\n",
        "So let's try it with our flights dataframe:"
      ]
    },
    {
      "metadata": {
        "id": "NErc1CHdDRdf",
        "colab_type": "code",
        "colab": {
          "base_uri": "https://localhost:8080/",
          "height": 799
        },
        "outputId": "f7869f43-17ed-4d71-f022-f25b562b3466"
      },
      "cell_type": "code",
      "source": [
        "flights_nulls = flights[flights.isnull().any(axis=1)]\n",
        "print(flights_nulls.head(20))"
      ],
      "execution_count": 2,
      "outputs": [
        {
          "output_type": "stream",
          "text": [
            "     year  month  day  dep_time  dep_delay  arr_time  arr_delay carrier  \\\n",
            "408  2014      1    1       NaN        NaN       NaN        NaN      AS   \n",
            "409  2014      1    1       NaN        NaN       NaN        NaN      OO   \n",
            "410  2014      1    1       NaN        NaN       NaN        NaN      OO   \n",
            "411  2014      1    1       NaN        NaN       NaN        NaN      OO   \n",
            "412  2014      1    1       NaN        NaN       NaN        NaN      OO   \n",
            "413  2014      1    1       NaN        NaN       NaN        NaN      OO   \n",
            "414  2014      1    1       NaN        NaN       NaN        NaN      OO   \n",
            "415  2014      1    1       NaN        NaN       NaN        NaN      OO   \n",
            "416  2014      1    1       NaN        NaN       NaN        NaN      UA   \n",
            "417  2014      1    1       NaN        NaN       NaN        NaN      UA   \n",
            "418  2014      1    1       NaN        NaN       NaN        NaN      UA   \n",
            "421  2014      1    2      14.0       84.0    1356.0        NaN      DL   \n",
            "428  2014      1    2      55.0      116.0       NaN        NaN      DL   \n",
            "431  2014      1    2     158.0      180.0    1257.0        NaN      B6   \n",
            "519  2014      1    2     741.0       41.0    1551.0        NaN      AA   \n",
            "824  2014      1    2    2035.0      -10.0       NaN        NaN      AS   \n",
            "831  2014      1    2    2100.0       -5.0       NaN        NaN      AS   \n",
            "855  2014      1    2    2307.0      110.0    1213.0        NaN      B6   \n",
            "866  2014      1    2       NaN        NaN       NaN        NaN      AS   \n",
            "867  2014      1    2       NaN        NaN       NaN        NaN      AS   \n",
            "\n",
            "    tailnum  flight origin dest  air_time  distance  hour  minute  \n",
            "408  N763AS      61    SEA  JNU       NaN       909   NaN     NaN  \n",
            "409  N237SW    5428    PDX  SEA       NaN       129   NaN     NaN  \n",
            "410  N237SW    5325    SEA  PDX       NaN       129   NaN     NaN  \n",
            "411  N585SW    5353    PDX  EUG       NaN       106   NaN     NaN  \n",
            "412  N295SW    5438    SEA  PDX       NaN       129   NaN     NaN  \n",
            "413  N295SW    5379    PDX  SEA       NaN       129   NaN     NaN  \n",
            "414  N295SW    5403    PDX  EUG       NaN       106   NaN     NaN  \n",
            "415  N918SW    5639    SEA  SFO       NaN       679   NaN     NaN  \n",
            "416     NaN    1142    SEA  EWR       NaN      2402   NaN     NaN  \n",
            "417     NaN    1195    SEA  DEN       NaN      1024   NaN     NaN  \n",
            "418     NaN    1647    PDX  ORD       NaN      1739   NaN     NaN  \n",
            "421  N379DA    2022    PDX  JFK       NaN      2454   0.0    14.0  \n",
            "428  N705TW    1542    SEA  JFK       NaN      2422   0.0    55.0  \n",
            "431  N630JB     264    SEA  JFK       NaN      2422   1.0    58.0  \n",
            "519  N3KXAA    2218    PDX  ORD       NaN      1739   7.0    41.0  \n",
            "824  N560AS     574    PDX  SAN       NaN       933  20.0    35.0  \n",
            "831  N537AS     488    SEA  SAN       NaN      1050  21.0     0.0  \n",
            "855  N635JB    1206    PDX  JFK       NaN      2454  23.0     7.0  \n",
            "866  N403AS      14    SEA  EWR       NaN      2402   NaN     NaN  \n",
            "867  N549AS      24    SEA  BOS       NaN      2496   NaN     NaN  \n"
          ],
          "name": "stdout"
        }
      ]
    },
    {
      "metadata": {
        "id": "hDjgvfXXDfC1",
        "colab_type": "text"
      },
      "cell_type": "markdown",
      "source": [
        "Notice the first column printed out above - the one with 408, then 409, etc.   This is the pandas dataframe **index**.  If you watched the video I pointed the class to, this should be familiar.\n",
        "\n",
        "We can print out some of these same rows from the **original** dataframe by using this index.   We can do this using \"**loc**\" or \"**iloc**\".   The difference being:\n",
        "1.  loc gets rows (or columns) with particular labels from the index. \n",
        "2.  iloc gets rows (or columns) at particular positions in the index (so it only takes integers)\n",
        "\n",
        "In our original dataframe (flights) the *label* is the same as the *position*.   This is **not** true for the derived dataframe flights_nulls.    \n",
        " \n",
        " Here is a specific row from the original dataframe:"
      ]
    },
    {
      "metadata": {
        "id": "02ND_ipBDhkj",
        "colab_type": "code",
        "colab": {
          "base_uri": "https://localhost:8080/",
          "height": 635
        },
        "outputId": "7dbb9bb7-940d-4dde-883c-f88031996bd8"
      },
      "cell_type": "code",
      "source": [
        "print(flights.loc[408,:])\n",
        "print(flights.iloc[408][:])"
      ],
      "execution_count": 3,
      "outputs": [
        {
          "output_type": "stream",
          "text": [
            "year           2014\n",
            "month             1\n",
            "day               1\n",
            "dep_time        NaN\n",
            "dep_delay       NaN\n",
            "arr_time        NaN\n",
            "arr_delay       NaN\n",
            "carrier          AS\n",
            "tailnum      N763AS\n",
            "flight           61\n",
            "origin          SEA\n",
            "dest            JNU\n",
            "air_time        NaN\n",
            "distance        909\n",
            "hour            NaN\n",
            "minute          NaN\n",
            "Name: 408, dtype: object\n",
            "year           2014\n",
            "month             1\n",
            "day               1\n",
            "dep_time        NaN\n",
            "dep_delay       NaN\n",
            "arr_time        NaN\n",
            "arr_delay       NaN\n",
            "carrier          AS\n",
            "tailnum      N763AS\n",
            "flight           61\n",
            "origin          SEA\n",
            "dest            JNU\n",
            "air_time        NaN\n",
            "distance        909\n",
            "hour            NaN\n",
            "minute          NaN\n",
            "Name: 408, dtype: object\n"
          ],
          "name": "stdout"
        }
      ]
    },
    {
      "metadata": {
        "id": "9pUe5avefDiR",
        "colab_type": "text"
      },
      "cell_type": "markdown",
      "source": [
        "Here are rows from the derived dataframe:"
      ]
    },
    {
      "metadata": {
        "id": "zqQKVYsPfCgd",
        "colab_type": "code",
        "colab": {
          "base_uri": "https://localhost:8080/",
          "height": 635
        },
        "outputId": "43a982b2-9f18-4c93-b9b2-79af2afc0ff0"
      },
      "cell_type": "code",
      "source": [
        "print(flights_nulls.loc[408,:])    ## this uses the index label\n",
        "print(flights_nulls.iloc[0][:])    ## this uses the position - the zeroth row"
      ],
      "execution_count": 6,
      "outputs": [
        {
          "output_type": "stream",
          "text": [
            "year           2014\n",
            "month             1\n",
            "day               1\n",
            "dep_time        NaN\n",
            "dep_delay       NaN\n",
            "arr_time        NaN\n",
            "arr_delay       NaN\n",
            "carrier          AS\n",
            "tailnum      N763AS\n",
            "flight           61\n",
            "origin          SEA\n",
            "dest            JNU\n",
            "air_time        NaN\n",
            "distance        909\n",
            "hour            NaN\n",
            "minute          NaN\n",
            "Name: 408, dtype: object\n",
            "year           2014\n",
            "month             1\n",
            "day               1\n",
            "dep_time        NaN\n",
            "dep_delay       NaN\n",
            "arr_time        NaN\n",
            "arr_delay       NaN\n",
            "carrier          AS\n",
            "tailnum      N763AS\n",
            "flight           61\n",
            "origin          SEA\n",
            "dest            JNU\n",
            "air_time        NaN\n",
            "distance        909\n",
            "hour            NaN\n",
            "minute          NaN\n",
            "Name: 408, dtype: object\n"
          ],
          "name": "stdout"
        }
      ]
    },
    {
      "metadata": {
        "id": "L4heuJBhEWGB",
        "colab_type": "text"
      },
      "cell_type": "markdown",
      "source": [
        "Back to dealing with missing data!\n",
        "\n",
        "Here are some options:\n",
        "\n",
        "1.  Simply remove rows with missing data.\n",
        "2.  Replace the missing data with the mean of that column.\n",
        "3.  Replace the missing data with the mean of columns that are similar to that row. For exmple, we could choose rows that are geographically similar.\n",
        "\n",
        "It is important to think carefully about the data when choosing which option to use.  It might not make sense to replace missing values with the means of the respective columns.    On the other hand removing every row which has a missing value might remove too much data."
      ]
    },
    {
      "metadata": {
        "id": "OItR2E0-b6kA",
        "colab_type": "text"
      },
      "cell_type": "markdown",
      "source": [
        "Here is how you would remove rows with missing data:"
      ]
    },
    {
      "metadata": {
        "id": "F5IBuuEPb5KN",
        "colab_type": "code",
        "colab": {
          "base_uri": "https://localhost:8080/",
          "height": 72
        },
        "outputId": "239134b6-d8d3-4f96-8672-eea6f9b33d57"
      },
      "cell_type": "code",
      "source": [
        "flights_nonulls = flights.dropna()\n",
        "print(\"Length of flights DF:\",len(flights))\n",
        "print(\"Length of flights with no nulls DF:\",len(flights_nonulls))\n",
        "print(\"Length of flights with nulls DF:\",len(flights_nulls))\n",
        "\n",
        "\n"
      ],
      "execution_count": 7,
      "outputs": [
        {
          "output_type": "stream",
          "text": [
            "Length of flights DF: 162049\n",
            "Length of flights with no nulls DF: 160748\n",
            "Length of flights with nulls DF: 1301\n"
          ],
          "name": "stdout"
        }
      ]
    },
    {
      "metadata": {
        "id": "OqtzYTflcmlW",
        "colab_type": "text"
      },
      "cell_type": "markdown",
      "source": [
        "Removing rows with no nulls only affects 0.8% of the data, so it is probably the easiest approach.\n",
        "\n",
        "Just for completeness, lets also look at how to replace null data with the mean: \n",
        "\n",
        "**NOTE** This will take some time!"
      ]
    },
    {
      "metadata": {
        "id": "IMnOpDExc4TJ",
        "colab_type": "code",
        "colab": {
          "base_uri": "https://localhost:8080/",
          "height": 326
        },
        "outputId": "86d5a689-5c7d-4649-b5eb-b790c02b9368"
      },
      "cell_type": "code",
      "source": [
        "flights.fillna(flights.mean(),inplace=True)\n",
        "print(flights.loc[408,:])"
      ],
      "execution_count": 8,
      "outputs": [
        {
          "output_type": "stream",
          "text": [
            "year            2014\n",
            "month              1\n",
            "day                1\n",
            "dep_time     1278.28\n",
            "dep_delay    6.13386\n",
            "arr_time      1482.5\n",
            "arr_delay    2.24087\n",
            "carrier           AS\n",
            "tailnum       N763AS\n",
            "flight            61\n",
            "origin           SEA\n",
            "dest             JNU\n",
            "air_time     152.589\n",
            "distance         909\n",
            "hour         12.4795\n",
            "minute       30.3322\n",
            "Name: 408, dtype: object\n"
          ],
          "name": "stdout"
        }
      ]
    },
    {
      "metadata": {
        "id": "GSoQ_ZdYdd_G",
        "colab_type": "text"
      },
      "cell_type": "markdown",
      "source": [
        "We see that the row we looked at previously (rownum=408) has missing values filled in with the means from those rows (this will take some time as well!):"
      ]
    },
    {
      "metadata": {
        "id": "dkZyCIZNfw7F",
        "colab_type": "code",
        "colab": {
          "base_uri": "https://localhost:8080/",
          "height": 272
        },
        "outputId": "2ede73b8-cf97-434c-eb42-1cea462c922d"
      },
      "cell_type": "code",
      "source": [
        "print(\"Column means\\n\",flights.mean())"
      ],
      "execution_count": 9,
      "outputs": [
        {
          "output_type": "stream",
          "text": [
            "Column means\n",
            " year         2014.000000\n",
            "month           6.605027\n",
            "day            15.749890\n",
            "dep_time     1278.283755\n",
            "dep_delay       6.133859\n",
            "arr_time     1482.501282\n",
            "arr_delay       2.240868\n",
            "flight       1357.356725\n",
            "air_time      152.588511\n",
            "distance     1204.514634\n",
            "hour           12.479515\n",
            "minute         30.332244\n",
            "dtype: float64\n"
          ],
          "name": "stdout"
        }
      ]
    }
  ]
}