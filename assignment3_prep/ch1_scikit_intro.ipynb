{
  "nbformat": 4,
  "nbformat_minor": 0,
  "metadata": {
    "colab": {
      "name": "ch1_scikit_intro.ipynb",
      "version": "0.3.2",
      "provenance": [],
      "collapsed_sections": [],
      "toc_visible": true
    },
    "kernelspec": {
      "display_name": "Python 3",
      "language": "python",
      "name": "python3"
    }
  },
  "cells": [
    {
      "metadata": {
        "id": "view-in-github",
        "colab_type": "text"
      },
      "cell_type": "markdown",
      "source": [
        "<a href=\"https://colab.research.google.com/github/big-data-analytics-physics/handsonml_ch1/blob/master/ch1_scikit_intro.ipynb\" target=\"_parent\"><img src=\"https://colab.research.google.com/assets/colab-badge.svg\" alt=\"Open In Colab\"/></a>"
      ]
    },
    {
      "metadata": {
        "id": "Hai-dz06qI_p",
        "colab_type": "text"
      },
      "cell_type": "markdown",
      "source": [
        "# Simple fitting using scikit-learn\n",
        "What is scikit-learn?  To wikipedia: Scikit-learn (formerly scikits.learn) is a free software machine learning library for the Python programming language.[3] It features various classification, regression and clustering algorithms including support vector machines, random forests, gradient boosting, k-means and DBSCAN, and is designed to interoperate with the Python numerical and scientific libraries NumPy and SciPy.\n",
        "\n",
        "The best way to see its usefulness it to... use it!   So let's follow the book and use scikit to perform a simple linear regression.   We will try to use 'GDP' from our dataset to predict 'Life satisfaction'.   Even though we have already read this data and plotted it, we will do it all over again and cover the steps one by one."
      ]
    },
    {
      "metadata": {
        "id": "8eISYe7OqI_q",
        "colab_type": "text"
      },
      "cell_type": "markdown",
      "source": [
        "First pull in all of the packages we need.   I prefer to do all of my imports at the top of my python modules, but that is not necessary."
      ]
    },
    {
      "metadata": {
        "id": "ZrgHqvgWqI_q",
        "colab_type": "code",
        "colab": {}
      },
      "cell_type": "code",
      "source": [
        "import matplotlib\n",
        "import matplotlib.pyplot as plt\n",
        "import numpy as np\n",
        "import pandas as pd\n",
        "import sklearn.linear_model\n",
        "import plotly.offline as py\n",
        "from plotly.offline import download_plotlyjs, init_notebook_mode, plot, iplot\n",
        "import plotly.graph_objs as go\n"
      ],
      "execution_count": 0,
      "outputs": []
    },
    {
      "metadata": {
        "id": "FlhKI5_Mirn2",
        "colab_type": "text"
      },
      "cell_type": "markdown",
      "source": [
        "\n",
        "\n",
        "---\n",
        "\n",
        "Define the method for enabling ploty as we did before"
      ]
    },
    {
      "metadata": {
        "id": "svuBfWidizoM",
        "colab_type": "code",
        "colab": {}
      },
      "cell_type": "code",
      "source": [
        "def enable_plotly_in_cell():\n",
        "  import IPython\n",
        "  from plotly.offline import init_notebook_mode\n",
        "  display(IPython.core.display.HTML('''\n",
        "        <script src=\"/static/components/requirejs/require.js\"></script>\n",
        "  '''))\n",
        "  init_notebook_mode(connected=False)"
      ],
      "execution_count": 0,
      "outputs": []
    },
    {
      "metadata": {
        "id": "YiyBP6-MqI_s",
        "colab_type": "text"
      },
      "cell_type": "markdown",
      "source": [
        "Load the data"
      ]
    },
    {
      "metadata": {
        "id": "jBiAodbPqI_t",
        "colab_type": "code",
        "colab": {}
      },
      "cell_type": "code",
      "source": [
        "# Load the data\n",
        "url = \"https://raw.githubusercontent.com/big-data-analytics-physics/data/master/ch1/gdp_oecd_data_byCountry.csv\"\n",
        "gdp_data=pd.read_csv(url)\n",
        "#\n",
        "# Add the info column again\n",
        "gdp_data['Info'] = \"Country:\"+gdp_data['Country']+\"<br>GDP:\"+gdp_data['GDP'].astype(str)+\"<br>Employment rate:\"+gdp_data['Employment rate'].astype(str)+\"<br> Homicide rate:\"+gdp_data['Homicide rate'].astype(str)\n",
        "\n",
        "#\n",
        "# Some printing\n",
        "for i in range(len(gdp_data)):\n",
        "    print(\"Country: \",gdp_data.iloc[i]['Country'],\"; GDP: \",round(gdp_data.iloc[i]['GDP'],2), \"; Life satisfaction: \",gdp_data.iloc[i]['Life satisfaction'])"
      ],
      "execution_count": 0,
      "outputs": []
    },
    {
      "metadata": {
        "id": "CfdHqrfOqI_v",
        "colab_type": "text"
      },
      "cell_type": "markdown",
      "source": [
        "## Sorting a dataframe\n",
        "Note that there is no obvious order to the data above.  For some of the results below, it will be helpful to have our dataframe *sorted* by GDP.   How do we find out how to do this?   Google!   Type \"pandas dataframe sort by column\" into google.   The first result:\n",
        "[https://pandas.pydata.org/pandas-docs/stable/generated/pandas.DataFrame.sort_values.html](https://pandas.pydata.org/pandas-docs/stable/generated/pandas.DataFrame.sort_values.html) "
      ]
    },
    {
      "metadata": {
        "id": "d2C8crvPqI_x",
        "colab_type": "code",
        "colab": {}
      },
      "cell_type": "code",
      "source": [
        "gdp_data.sort_values(by=['GDP'],inplace=True)   # inplace means we don't have to put the results into a new dataframe"
      ],
      "execution_count": 0,
      "outputs": []
    },
    {
      "metadata": {
        "id": "7Y_aBwSHqI_2",
        "colab_type": "text"
      },
      "cell_type": "markdown",
      "source": [
        "Loop over each element and print out again.   Is it sorted?"
      ]
    },
    {
      "metadata": {
        "id": "shbo4lVMqI_3",
        "colab_type": "code",
        "colab": {}
      },
      "cell_type": "code",
      "source": [
        "for i in range(len(gdp_data)):\n",
        "    print(\"Country: \",gdp_data.iloc[i]['Country'],\"; GDP: \",round(gdp_data.iloc[i]['GDP'],2), \"; Life satisfaction: \",gdp_data.iloc[i]['Life satisfaction'])"
      ],
      "execution_count": 0,
      "outputs": []
    },
    {
      "metadata": {
        "id": "umRpj_prqI_5",
        "colab_type": "text"
      },
      "cell_type": "markdown",
      "source": [
        "Now let's do a simple plot."
      ]
    },
    {
      "metadata": {
        "id": "P7rec3mLqI_7",
        "colab_type": "code",
        "colab": {}
      },
      "cell_type": "code",
      "source": [
        "enable_plotly_in_cell()\n",
        "\n",
        "data1 = go.Scatter(\n",
        "    x=gdp_data['GDP'],\n",
        "    y=gdp_data['Life satisfaction'],\n",
        "    mode='markers',\n",
        "    text=gdp_data['Info']\n",
        ")\n",
        "layout = go.Layout(\n",
        "    yaxis=dict(\n",
        "        range=[0, 10]\n",
        "    )\n",
        ")\n",
        "\n",
        "iplot(dict(data=[data1],layout=layout))\n"
      ],
      "execution_count": 0,
      "outputs": []
    },
    {
      "metadata": {
        "id": "FbNLh1spqI_-",
        "colab_type": "text"
      },
      "cell_type": "markdown",
      "source": [
        "## Removing data from the training sample\n",
        "If we compare this plot to the one in the book, we see that there are some points in our plot, which are not in the book's plot: Czech Republic, Chile, Mexic, and Brazil.   Lets remove these:"
      ]
    },
    {
      "metadata": {
        "id": "mzvC5ZWkqI__",
        "colab_type": "code",
        "colab": {}
      },
      "cell_type": "code",
      "source": [
        "enable_plotly_in_cell()\n",
        "gdp_data_subset = gdp_data[~gdp_data['Country'].isin(['Czech Republic','Chile','Mexico', 'Brazil'])]\n",
        "gdp_data_notfit = gdp_data[gdp_data['Country'].isin(['Czech Republic','Chile','Mexico', 'Brazil'])]\n",
        "\n",
        "data1 = go.Scatter(\n",
        "    x=gdp_data_subset['GDP'],\n",
        "    y=gdp_data_subset['Life satisfaction'],\n",
        "    mode='markers',\n",
        "    text=gdp_data_subset['Info']\n",
        ")\n",
        "layout = go.Layout(\n",
        "    yaxis=dict(\n",
        "        range=[0, 10]\n",
        "    )\n",
        ")\n",
        "\n",
        "iplot(dict(data=[data1],layout=layout))\n"
      ],
      "execution_count": 0,
      "outputs": []
    },
    {
      "metadata": {
        "id": "MvaM4F8DR1pO",
        "colab_type": "text"
      },
      "cell_type": "markdown",
      "source": [
        "We can also display the data we removed on the same plot, by adding another \"data\" object to the plot:"
      ]
    },
    {
      "metadata": {
        "id": "aQN2GxVmSB0p",
        "colab_type": "code",
        "colab": {}
      },
      "cell_type": "code",
      "source": [
        "enable_plotly_in_cell()\n",
        "gdp_data_subset = gdp_data[~gdp_data['Country'].isin(['Czech Republic','Chile','Mexico', 'Brazil'])]\n",
        "gdp_data_notfit = gdp_data[gdp_data['Country'].isin(['Czech Republic','Chile','Mexico', 'Brazil'])]\n",
        "\n",
        "data1 = go.Scatter(\n",
        "    x=gdp_data_subset['GDP'],\n",
        "    y=gdp_data_subset['Life satisfaction'],\n",
        "    mode='markers',\n",
        "    name=\"Data to fit\",\n",
        "    text=gdp_data_subset['Info']\n",
        ")\n",
        "\n",
        "data2 = go.Scatter(\n",
        "    x=gdp_data_notfit['GDP'],\n",
        "    y=gdp_data_notfit['Life satisfaction'],\n",
        "    mode='markers',\n",
        "    name=\"Data not fit\",\n",
        "    text=gdp_data_notfit['Info']\n",
        ")\n",
        "\n",
        "layout = go.Layout(\n",
        "    yaxis=dict(\n",
        "        range=[0, 10]\n",
        "    )\n",
        ")\n",
        "\n",
        "iplot(dict(data=[data1,data2],layout=layout))\n"
      ],
      "execution_count": 0,
      "outputs": []
    },
    {
      "metadata": {
        "id": "Xrx2CUGLqJAC",
        "colab_type": "text"
      },
      "cell_type": "markdown",
      "source": [
        "## Choosing the model to fit our data\n",
        "Now let's fit the data to a straight line.   The appropriate model for this is called LinearRegression.   To see how this works, check out: [Scikit-learn Linear Regression] (https://scikit-learn.org/stable/modules/generated/sklearn.linear_model.LinearRegression.html)\n",
        "\n",
        "First we need to get the model:"
      ]
    },
    {
      "metadata": {
        "id": "vVbP3j6yqJAD",
        "colab_type": "code",
        "colab": {}
      },
      "cell_type": "code",
      "source": [
        "model = sklearn.linear_model.LinearRegression()"
      ],
      "execution_count": 0,
      "outputs": []
    },
    {
      "metadata": {
        "id": "O1Ck9bCFqJAE",
        "colab_type": "text"
      },
      "cell_type": "markdown",
      "source": [
        "New we need to call the fit method.   The fit method takes the input variable (in this case GDP) and the expected output variable (in this case 'Life satisfaction').   We will train it with our gdp_data_subset data.   We can then test this by looking at how well it predicts *unseen* data - this is simply data for which we know the result, but the model was not trained on.\n",
        "\n",
        "The arguments of fit look like this:  model.fit(X,y), where X and y are earch *numpy* arrays.   To convert a column of a pandas dataframe to a number array is pretty easy, just add \".values\" to a single pandas column, like this:"
      ]
    },
    {
      "metadata": {
        "id": "cFyNIsr0qJAF",
        "colab_type": "code",
        "colab": {}
      },
      "cell_type": "code",
      "source": [
        "X = gdp_data_subset['GDP'].values\n",
        "print(\"The GDP column as pandas:\\n\",gdp_data_subset['GDP'])\n",
        "print(\"The GDP column as a numpy array:\\n\",type(X),X.shape,X)\n",
        "y = gdp_data_subset['Life satisfaction'].values\n",
        "print(\"y\",type(y),y.shape,y)"
      ],
      "execution_count": 0,
      "outputs": []
    },
    {
      "metadata": {
        "id": "5aTF_Od8mGaS",
        "colab_type": "text"
      },
      "cell_type": "markdown",
      "source": [
        "NOTE: The next line will fail!"
      ]
    },
    {
      "metadata": {
        "id": "UUKoGgc5qJAH",
        "colab_type": "code",
        "colab": {}
      },
      "cell_type": "code",
      "source": [
        "model.fit(X,y)"
      ],
      "execution_count": 0,
      "outputs": []
    },
    {
      "metadata": {
        "id": "5p3bcAsiqJAN",
        "colab_type": "text"
      },
      "cell_type": "markdown",
      "source": [
        "The above failed because the sklearn fit method was expecting that both X amd y be shape(32,1) but instead they are of shape (32,).   To fix this, we simply reshape:"
      ]
    },
    {
      "metadata": {
        "id": "9EKY8TEoqJAO",
        "colab_type": "code",
        "colab": {}
      },
      "cell_type": "code",
      "source": [
        "X = X.reshape(len(X), 1)\n",
        "y = y.reshape(len(y), 1)"
      ],
      "execution_count": 0,
      "outputs": []
    },
    {
      "metadata": {
        "id": "GFz2JzE2qJAS",
        "colab_type": "code",
        "colab": {}
      },
      "cell_type": "code",
      "source": [
        "model.fit(X,y)"
      ],
      "execution_count": 0,
      "outputs": []
    },
    {
      "metadata": {
        "id": "MuVcrINJouo-",
        "colab_type": "text"
      },
      "cell_type": "markdown",
      "source": [
        "As an aside, we could get around the **reshape** problem we had above with a little trick.  Instead of passing the numpy **single dimension** arrays X and y, we pass it a true data frame (which is basically a 2D array) by using double brackets [[...] ] like this:\n",
        "\n",
        "model.fit(gdp_data_subset[['GDP']],gdp_data_subset[['Life satisfaction']])\n",
        "\n",
        "Try this yourself."
      ]
    },
    {
      "metadata": {
        "id": "u7LOPWnAqJAU",
        "colab_type": "text"
      },
      "cell_type": "markdown",
      "source": [
        "## Get the results of the fit, and using the fit to predict new results\n",
        "The *attributes* of the LinearRegression model are coef_ and intercept_, which are just the slope and intercept of the fitted line:"
      ]
    },
    {
      "metadata": {
        "id": "LbGZwQ_BqJAU",
        "colab_type": "code",
        "colab": {}
      },
      "cell_type": "code",
      "source": [
        "print(\"Fit results: slope=\",model.coef_,\" and intercept=\",model.intercept_)"
      ],
      "execution_count": 0,
      "outputs": []
    },
    {
      "metadata": {
        "id": "qr5K03EsqJAb",
        "colab_type": "text"
      },
      "cell_type": "markdown",
      "source": [
        "We would like to be able to draw a fit curve on top of our data.   To do this, we use the predict method:"
      ]
    },
    {
      "metadata": {
        "id": "U2Cbv24nqJAd",
        "colab_type": "code",
        "colab": {}
      },
      "cell_type": "code",
      "source": [
        "ypred = model.predict(X)   # This puts an array of predictions for each X in ypred\n",
        "print(\"Type returned from predict:\",type(ypred),\"; shape: \",ypred.shape)\n",
        "ypred = ypred.reshape(32)\n",
        "print(\"Predictions\",ypred,gdp_data_subset.GDP.values)\n",
        "#\n",
        "#  Look up how zip works if it is not clear to you!\n",
        "for xval,yobs,yp in zip(X,y,ypred):\n",
        "    print(\"X\",xval,\"; y observed=\",yobs,\"; y predicted\",yp)"
      ],
      "execution_count": 0,
      "outputs": []
    },
    {
      "metadata": {
        "id": "-paozY3qnPm7",
        "colab_type": "text"
      },
      "cell_type": "markdown",
      "source": [
        "Let's plot: \n",
        "\n",
        "*   Our data we used to train the model (gdp_data_subset)\n",
        "*   The additional data points we did not include in the fit (gdp_data_nofit)\n",
        "*   The predicted results.   We will connect all of these so they make a straight line.\n",
        "\n"
      ]
    },
    {
      "metadata": {
        "id": "mDLwq51JqJAf",
        "colab_type": "code",
        "colab": {}
      },
      "cell_type": "code",
      "source": [
        "enable_plotly_in_cell()\n",
        "print(ypred)\n",
        "dataSubset = go.Scatter(\n",
        "    x=gdp_data_subset['GDP'],\n",
        "    y=gdp_data_subset['Life satisfaction'],\n",
        "    mode='markers',\n",
        "    name=\"fitted data\",\n",
        "    text=gdp_data_subset['Info']\n",
        ")\n",
        "\n",
        "dataNotfit = go.Scatter(\n",
        "    x=gdp_data_notfit['GDP'],\n",
        "    y=gdp_data_notfit['Life satisfaction'],\n",
        "    mode='markers',\n",
        "    name=\"not fit data\",\n",
        "    text=gdp_data_notfit['Info']\n",
        ")\n",
        "\n",
        "dataPred = go.Scatter(\n",
        "    x=gdp_data_subset['GDP'],\n",
        "    y=ypred,\n",
        "    mode='lines',\n",
        "    name=\"prediction\",\n",
        "    text=gdp_data['Info']\n",
        ")\n",
        "\n",
        "layout = go.Layout(\n",
        "    yaxis=dict(\n",
        "        range=[0, 10]\n",
        "    )\n",
        ")\n",
        "\n",
        "iplot(dict(data=[dataSubset,dataNotfit,dataPred],layout=layout))"
      ],
      "execution_count": 0,
      "outputs": []
    }
  ]
}