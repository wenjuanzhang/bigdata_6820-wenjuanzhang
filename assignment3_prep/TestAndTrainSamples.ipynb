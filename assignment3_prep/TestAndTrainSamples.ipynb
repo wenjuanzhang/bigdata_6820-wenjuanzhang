{
  "nbformat": 4,
  "nbformat_minor": 0,
  "metadata": {
    "colab": {
      "name": "TestAndTrainSamples.ipynb",
      "version": "0.3.2",
      "provenance": [],
      "collapsed_sections": [],
      "toc_visible": true
    },
    "kernelspec": {
      "name": "python3",
      "display_name": "Python 3"
    }
  },
  "cells": [
    {
      "metadata": {
        "id": "HyJZAd_fd9I-",
        "colab_type": "text"
      },
      "cell_type": "markdown",
      "source": [
        "# Creating test and training samples\n",
        "Out goal might be to design an algorithm to predict flight delayes. To test our model, we will want to split our data into two parts:\n",
        "\n",
        "1.  Training sample: This is the sample we will train our model on.\n",
        "2.  Testing sample: This is the unseen data that we will test our trained model on. Good performance on this sample -with a previously traineed model using only the training data - will ensure that our model generalizes well.\n",
        "\n",
        "A common split is 80% train and 20% test. We could just **randomly split** our data (this is quite typical), but in our case we will do some a bit more sophisticated.\n",
        "\n",
        "We might guess from our own experience that the **carrier** (American Airlines, Southwest Delta, etc) has a big impact on flight delays. So when we split our data we would like to know for sure that our test sample is close in distribution for the carriers as our training sample. Will this be true if we just randomly split the data?"
      ]
    },
    {
      "metadata": {
        "id": "Gx2ybC4rgKg_",
        "colab_type": "text"
      },
      "cell_type": "markdown",
      "source": [
        "Let's first read in our flight data sample as before (the data is again in the */data* folder in github, in a subfolder named *flights*):"
      ]
    },
    {
      "metadata": {
        "id": "oY6Y386WeKvI",
        "colab_type": "code",
        "colab": {}
      },
      "cell_type": "code",
      "source": [
        "import pandas as pd\n",
        "\n",
        "# Now let's print some data to the screem\n",
        "flights = pd.read_csv(\"https://raw.githubusercontent.com/big-data-analytics-physics/data/master/flights/flights.csv\")\n",
        "print(flights.head())"
      ],
      "execution_count": 0,
      "outputs": []
    },
    {
      "metadata": {
        "id": "3GyO389hgdzb",
        "colab_type": "text"
      },
      "cell_type": "markdown",
      "source": [
        "What does the carrier disctribution look like for our full sample?   Let's plot it."
      ]
    },
    {
      "metadata": {
        "id": "hdcJnGjmgoFS",
        "colab_type": "code",
        "colab": {}
      },
      "cell_type": "code",
      "source": [
        "# \n",
        "# Need this code fragment for plotting\n",
        "import matplotlib\n",
        "import matplotlib.pyplot as plt\n",
        "import numpy as np\n",
        "import pandas as pd\n",
        "import sklearn.linear_model\n",
        "import plotly.offline as py\n",
        "from plotly.offline import download_plotlyjs, init_notebook_mode, plot, iplot\n",
        "import plotly.graph_objs as go\n",
        "\n",
        "def enable_plotly_in_cell():\n",
        "  import IPython\n",
        "  from plotly.offline import init_notebook_mode\n",
        "  display(IPython.core.display.HTML('''\n",
        "        <script src=\"/static/components/requirejs/require.js\"></script>\n",
        "  '''))\n",
        "  init_notebook_mode(connected=False)"
      ],
      "execution_count": 0,
      "outputs": []
    },
    {
      "metadata": {
        "id": "04ZUMEs9gwiU",
        "colab_type": "text"
      },
      "cell_type": "markdown",
      "source": [
        "The code below plots the carrier distribution.  One new feature: **histnorm=\"probability\"**.   This will plot fractions rather than counts in the histogram, which will be helpfull when we want to compare the **shape** of histograms with different total counts."
      ]
    },
    {
      "metadata": {
        "id": "4Rh9oKAPgcaE",
        "colab_type": "code",
        "colab": {}
      },
      "cell_type": "code",
      "source": [
        "import plotly.plotly as py\n",
        "import numpy as np\n",
        "from plotly.offline import iplot\n",
        "import plotly.graph_objs as go\n",
        "\n",
        "enable_plotly_in_cell()\n",
        "trace1 = go.Histogram(\n",
        "    x=flights['carrier'],\n",
        "    opacity=0.75,\n",
        "    name=\"Income Category\",\n",
        "    histnorm='probability'\n",
        ")\n",
        "\n",
        "data = [trace1]\n",
        "layout = go.Layout(barmode='overlay')\n",
        "fig = go.Figure(data=data, layout=layout)\n",
        "\n",
        "iplot(fig, filename='overlaid histogram')"
      ],
      "execution_count": 0,
      "outputs": []
    },
    {
      "metadata": {
        "id": "-zXpgilJxzQA",
        "colab_type": "code",
        "colab": {}
      },
      "cell_type": "code",
      "source": [
        ""
      ],
      "execution_count": 0,
      "outputs": []
    },
    {
      "metadata": {
        "id": "XH7cU4mlelaK",
        "colab_type": "text"
      },
      "cell_type": "markdown",
      "source": [
        "# Random split\n",
        "To split our data sample we will use a utility from from the sklearn (or scikit-learn) package which is designed just for this purpose.   It takes a dataframe as input, the desired test sample size (the remainder going to the training sample), and a random number seed (an interger)."
      ]
    },
    {
      "metadata": {
        "id": "6sUGJwXCe55D",
        "colab_type": "code",
        "colab": {}
      },
      "cell_type": "code",
      "source": [
        "from sklearn.model_selection import train_test_split\n",
        "train_flights,test_flights = train_test_split(flights, test_size=0.2, random_state=42)"
      ],
      "execution_count": 0,
      "outputs": []
    },
    {
      "metadata": {
        "id": "KGtPxu8nhhdj",
        "colab_type": "text"
      },
      "cell_type": "markdown",
      "source": [
        "Now lets plot the two samples on the sample histogram, using the histnorm feature we just introduced:"
      ]
    },
    {
      "metadata": {
        "id": "v4Iq4MZdeDTR",
        "colab_type": "code",
        "colab": {}
      },
      "cell_type": "code",
      "source": [
        "\n",
        "enable_plotly_in_cell()\n",
        "trace1 = go.Histogram(\n",
        "    x=train_flights['carrier'],\n",
        "    opacity=0.75,\n",
        "    name=\"Training sample\",\n",
        "    histnorm='probability'\n",
        ")\n",
        "trace2 = go.Histogram(\n",
        "    x=test_flights['carrier'],\n",
        "    opacity=0.75,\n",
        "    name=\"Testing sample\",\n",
        "    histnorm='probability'\n",
        ")\n",
        "\n",
        "data = [trace1, trace2]\n",
        "layout = go.Layout(bargap=0.2,\n",
        "    bargroupgap=0.1)\n",
        "fig = go.Figure(data=data, layout=layout)\n",
        "\n",
        "iplot(fig, filename='overlaid histogram')"
      ],
      "execution_count": 0,
      "outputs": []
    },
    {
      "metadata": {
        "id": "Ak5Rs1SyiGy-",
        "colab_type": "text"
      },
      "cell_type": "markdown",
      "source": [
        "# Stratified Sampling\n",
        "The above split looks really good (mostly because the input sample is huge - 162k rows!), but we can do even better using **stratified sampling**.     This allows us to match the fractions for each of the carriers to much higher precision.   We use the same method from sklearn, but give it an argument that tells it which column in our data sample to use for the stratification.  Note that it is important that this column be a **categorical** variable - one in which the members of that column fall into distinct categories (in our case the categories are the codes for a small set of airlines)."
      ]
    },
    {
      "metadata": {
        "id": "er3NEu9FfMml",
        "colab_type": "code",
        "colab": {}
      },
      "cell_type": "code",
      "source": [
        "from sklearn.model_selection import train_test_split\n",
        "train_flights,test_flights = train_test_split(flights, test_size=0.2, random_state=42,stratify=flights['carrier'])\n",
        "\n",
        "enable_plotly_in_cell()\n",
        "trace1 = go.Histogram(\n",
        "    x=train_flights['carrier'],\n",
        "    opacity=0.75,\n",
        "    name=\"Training sample\",\n",
        "    histnorm='probability'\n",
        ")\n",
        "trace2 = go.Histogram(\n",
        "    x=test_flights['carrier'],\n",
        "    opacity=0.75,\n",
        "    name=\"Testing sample\",\n",
        "    histnorm='probability'\n",
        ")\n",
        "\n",
        "data = [trace1, trace2]\n",
        "layout = go.Layout(bargap=0.2,\n",
        "    bargroupgap=0.1)\n",
        "fig = go.Figure(data=data, layout=layout)\n",
        "\n",
        "iplot(fig, filename='overlaid histogram')"
      ],
      "execution_count": 0,
      "outputs": []
    }
  ]
}