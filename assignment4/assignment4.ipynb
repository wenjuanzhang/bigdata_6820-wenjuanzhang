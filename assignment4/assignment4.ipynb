{
  "nbformat": 4,
  "nbformat_minor": 0,
  "metadata": {
    "colab": {
      "name": "assignment4.ipynb",
      "version": "0.3.2",
      "provenance": [],
      "collapsed_sections": [],
      "toc_visible": true
    },
    "kernelspec": {
      "name": "python3",
      "display_name": "Python 3"
    }
  },
  "cells": [
    {
      "metadata": {
        "id": "H-XII8KKiNzp",
        "colab_type": "text"
      },
      "cell_type": "markdown",
      "source": [
        "# Assignment 4\n",
        "In the previous workbook, we had a classifier which was designed to picks between two specific digits, one that we called **signal** and the other we called **background**.   \n",
        "\n",
        "In this assignment, we will want to read in all of the digits, and design a classifier which finds a specific digit (our **signal** again), but **all** of the other 9 digits will serve as the background.   Our background will naturally be 9 times bigger than our signal (unless we limit it).\n",
        "\n"
      ]
    },
    {
      "metadata": {
        "id": "lvhYHv5X2K_p",
        "colab_type": "text"
      },
      "cell_type": "markdown",
      "source": [
        "# Some useful methods\n",
        "These two methods will be useful for the code blocks we will write.\n",
        "\n",
        "The \"autovivify\" function is very useful for making two dimensional counter (actually nested dictionaries).   A sample use follows.\n"
      ]
    },
    {
      "metadata": {
        "id": "2qH7R-6S2OVm",
        "colab_type": "code",
        "colab": {}
      },
      "cell_type": "code",
      "source": [
        "#\n",
        "# This allows multidimensional counters (and other more complicated strucutres!)\n",
        "from collections import defaultdict\n",
        "def autovivify(levels=1, final=dict):\n",
        "    return (defaultdict(final) if levels < 2 else\n",
        "            defaultdict(lambda: autovivify(levels-1, final)))\n",
        "  \n",
        "def enable_plotly_in_cell():\n",
        "  import IPython\n",
        "  from plotly.offline import init_notebook_mode\n",
        "  display(IPython.core.display.HTML('''\n",
        "        <script src=\"/static/components/requirejs/require.js\"></script>\n",
        "  '''))\n",
        "  init_notebook_mode(connected=False)"
      ],
      "execution_count": 0,
      "outputs": []
    },
    {
      "metadata": {
        "id": "HVViuD5c55rQ",
        "colab_type": "text"
      },
      "cell_type": "markdown",
      "source": [
        "# Test of autovivify"
      ]
    },
    {
      "metadata": {
        "id": "kfwZY1qQyB0a",
        "colab_type": "code",
        "colab": {}
      },
      "cell_type": "code",
      "source": [
        "import random as rd\n",
        "#\n",
        "# Define our multi-dimensional counter\n",
        "digitFoundCounter = autovivify(2,int)\n",
        "#\n",
        "# Here is a for loop that runs from 0 to 9 (1 less than the argument of \"range\")\n",
        "for i in range(1000):\n",
        "#\n",
        "# Generate a random digit\n",
        "  digit = rd.randint(0, 9)\n",
        "  digitFoundCounter[digit]['generated'] += 1\n",
        "#\n",
        "# For that digit, call it \"found\" if another random number is <0.8 (so ~80% efficient)\n",
        "  if rd.random() < 0.8:\n",
        "    digitFoundCounter[digit]['found'] += 1\n",
        "    \n",
        "#\n",
        "# Now print results\n",
        "for digit in range(10):\n",
        "  print(\"Digit \",digit,\"; generated \",digitFoundCounter[digit]['generated'],\"; found \",digitFoundCounter[digit]['found'])"
      ],
      "execution_count": 0,
      "outputs": []
    },
    {
      "metadata": {
        "id": "NvfjJRFB0yRQ",
        "colab_type": "text"
      },
      "cell_type": "markdown",
      "source": [
        "# Getting the data:\n",
        "As usual the data is on github.   If you uncomment the line with **short = \"short_\"**, the code will run faster.  Once it is working you should use the full sample."
      ]
    },
    {
      "metadata": {
        "id": "luIJ0Dguwewg",
        "colab_type": "code",
        "colab": {}
      },
      "cell_type": "code",
      "source": [
        "import pandas as pd\n",
        "#\n",
        "short = \"\"\n",
        "#short = \"short_\"\n",
        "\n",
        "#\n",
        "# Read in all of the other digits\n",
        "dfAll = pd.DataFrame()\n",
        "for digit in range(10):\n",
        "    print(\"Processing digit \",digit)\n",
        "    fname = 'https://raw.githubusercontent.com/big-data-analytics-physics/data/master/ch3/digit_' + short + str(digit) + '.csv'\n",
        "    df = pd.read_csv(fname,header=None)\n",
        "    df['digit'] = digit\n",
        "    dfAll = pd.concat([dfAll, df])\n"
      ],
      "execution_count": 0,
      "outputs": []
    },
    {
      "metadata": {
        "id": "h0m8yoxK0ef1",
        "colab_type": "text"
      },
      "cell_type": "markdown",
      "source": [
        "# Defining Signal\n",
        "At the top of this block we define which of the 10 digits we want to use for our **signal**."
      ]
    },
    {
      "metadata": {
        "id": "vrahohxi0d-A",
        "colab_type": "code",
        "colab": {}
      },
      "cell_type": "code",
      "source": [
        ""
      ],
      "execution_count": 0,
      "outputs": []
    },
    {
      "metadata": {
        "id": "cZVQuKLBTV3T",
        "colab_type": "code",
        "colab": {}
      },
      "cell_type": "code",
      "source": [
        "#\n",
        "# Define our \"signal\" digit\n",
        "digitSignal = 5\n",
        "\n",
        "dfA = dfAll[dfAll['digit']==digitSignal]\n",
        "dfB = dfAll[dfAll['digit']!=digitSignal]\n",
        "\n",
        "\n",
        "dfA['signal'] = 1\n",
        "dfB['signal'] = 0\n",
        "\n",
        "print(\"Length of signal sample:     \",len(dfA))\n",
        "print(\"Length of background sample: \",len(dfB))\n"
      ],
      "execution_count": 0,
      "outputs": []
    },
    {
      "metadata": {
        "id": "l7XCcD7Zxzzp",
        "colab_type": "text"
      },
      "cell_type": "markdown",
      "source": [
        "# Task1: Shuffle background\n",
        "You will need to **shuffle** or randomize the rows of the background data.  We already read the digits in, but they were in batches of the the same digit.   So we need to shuffle them to mix the digits up.  To igure out how to do this, google **sklearn shuffle pandas**.   Note that the \"shuffle\" method from sklearn creates copies of the orginal dataframe."
      ]
    },
    {
      "metadata": {
        "id": "TydTfq902ypY",
        "colab_type": "code",
        "colab": {}
      },
      "cell_type": "code",
      "source": [
        "# Shuffle the data here\n"
      ],
      "execution_count": 0,
      "outputs": []
    },
    {
      "metadata": {
        "id": "kpeG7BJ92sGE",
        "colab_type": "text"
      },
      "cell_type": "markdown",
      "source": [
        "# Tasks 2: Limit background\n",
        "Come up with a method to limit the rows of the background data that you use, so that it is the **same length** (in rows) as the signal dataframe.   You will want some easy way to turn this on and off.   Run first with the background limited to the **same** length as the signal.   Later you can come back and use all of the background data.\n"
      ]
    },
    {
      "metadata": {
        "id": "E5r19e7UKZ1I",
        "colab_type": "code",
        "colab": {}
      },
      "cell_type": "code",
      "source": [
        "# Your code goes here\n",
        "#\n"
      ],
      "execution_count": 0,
      "outputs": []
    },
    {
      "metadata": {
        "id": "jY8MMt_YKeP3",
        "colab_type": "text"
      },
      "cell_type": "markdown",
      "source": [
        "# Task 3: Combining data\n",
        "After steps 1 and 2 , you will have a signal dataframe, and a randomized background dataframe.   You will need to combine these two into a single dataframe.  We have done this before, but you can look at **pandas concat** function.   Use the name **dfCombined** for the combined dataframe.\n"
      ]
    },
    {
      "metadata": {
        "id": "rQToio4HysmK",
        "colab_type": "code",
        "colab": {}
      },
      "cell_type": "code",
      "source": [
        "# Your code goes here\n",
        "\n"
      ],
      "execution_count": 0,
      "outputs": []
    },
    {
      "metadata": {
        "id": "eIhQBrAXz3V8",
        "colab_type": "text"
      },
      "cell_type": "markdown",
      "source": [
        "#  Task 4: runFitter Method\n",
        "Next you will want to apply an estimator to this dataset. I want you to make a function that does both the test/train split, and then calls the estimator. The function should look like the following \"skeleton\".   I show the expected inputs and the expected return values.   Note we did all of this in the example workbook."
      ]
    },
    {
      "metadata": {
        "id": "PrB1nvOxz5gq",
        "colab_type": "code",
        "colab": {}
      },
      "cell_type": "code",
      "source": [
        "#\n",
        "# Here is the skeleton of the method\n",
        "from sklearn.model_selection import train_test_split\n",
        "#\n",
        "# The inputs are:\n",
        "#     dfCombined: the input dataframe\n",
        "#     estimator:  this should be an sklearn classifier (only LinearSVC or SGDClassifier are expected to be used)\n",
        "def runFitter(dfCombined,estimator):\n",
        "#\n",
        "# First do a test/train split\n",
        "\n",
        "\n",
        "#\n",
        "# Now fit to our training set\n",
        "\n",
        "\n",
        "#\n",
        "# Now predict the classes and get the score for our traing set\n",
        "\n",
        "\n",
        "#\n",
        "# Now predict the classes and get the score for our test set\n",
        "\n",
        "\n",
        "#\n",
        "  return y_train,y_train_pred,y_train_score,y_train_truedigit,y_test,y_test_pred,y_test_score,y_test_truedigit\n",
        "\n"
      ],
      "execution_count": 0,
      "outputs": []
    },
    {
      "metadata": {
        "id": "nFBJwh-X0L0J",
        "colab_type": "text"
      },
      "cell_type": "markdown",
      "source": [
        "# Task 5: Run the fitter\n",
        "Now we can use the function we defined above.   We have to define our estimate (which we get from sklearn) outside of the method, and pass it as an argument to our defined function.   We do it this way because later on we will want to call the method with a different estimator"
      ]
    },
    {
      "metadata": {
        "id": "L-zEJBYF0NW_",
        "colab_type": "code",
        "colab": {}
      },
      "cell_type": "code",
      "source": [
        "# Your code goes here\n",
        "from sklearn.svm import LinearSVC\n",
        "\n",
        "estimator = LinearSVC(random_state=42) # use dual=False when  n_samples > n_features which is what we have\n",
        "#estimator = LinearSVC(random_state=42,dual=False,max_iter=5000)    # use dual=False when  n_samples > n_features which is what we have\n",
        "\n",
        "y_train,y_train_pred,y_train_score,y_train_truedigit,y_test,y_test_pred,y_test_score,y_test_truedigit = runFitter(dfCombined,estimator)"
      ],
      "execution_count": 0,
      "outputs": []
    },
    {
      "metadata": {
        "id": "a-j8Wd0b0akR",
        "colab_type": "text"
      },
      "cell_type": "markdown",
      "source": [
        "# Task 5: Implement Performance Method\n",
        "Next, you need to get the performance of the estimator on **both** the training and testing data.   To do this, I want you to make a function to calulate various performance metrics, and return the result.   "
      ]
    },
    {
      "metadata": {
        "id": "7ALFWAtg0csD",
        "colab_type": "code",
        "colab": {}
      },
      "cell_type": "code",
      "source": [
        "#\n",
        "# Determine the performance\n",
        "#\n",
        "# The inputs:\n",
        "#    y = array of true labels\n",
        "#    y_pred = array of predicted labels from the **predict** method of the LinearSVC estimator\n",
        "#    y_score = array of scores from the **decision_function** method of the LinearSVC estimator\n",
        "#\n",
        "# The return values:\n",
        "#    precision,recall,auc are the calculated values of these metrics\n",
        "#    fpr, tpr, thresholds are lists containing the  \"false positive rate\", \"true positve rate\", and \"threshold\"\n",
        "#\n",
        "def binaryPerformance(y,y_pred,y_score):\n",
        "#\n",
        "# Assuming a binary classifier with 1=signal, 0=background\n",
        "  confusionMatrix = autovivify(2,int)\n",
        "#\n",
        "# Get entries in confusion matrix, then calculate precision and recall\n",
        "# The two dimensions of \"confusionMatrix\" will be confusionMatrix[trueClass][predClass]\n",
        "  \n",
        "#\n",
        "# Get the ROC curve.  We will use the sklearn function to do this\n",
        "  from sklearn import metrics\n",
        "  fpr, tpr, thresholds = metrics.roc_curve(y, y_score, pos_label=1)\n",
        "\n",
        "#\n",
        "# Get the auc:   \n",
        "  auc = metrics.roc_auc_score(y, y_score)\n",
        "  \n",
        "  return precision,recall,auc,fpr, tpr, thresholds"
      ],
      "execution_count": 0,
      "outputs": []
    },
    {
      "metadata": {
        "id": "M4lHvlzF4RsT",
        "colab_type": "text"
      },
      "cell_type": "markdown",
      "source": [
        "# Task 6: Call performance method\n",
        "Call the \"binaryPerformance\" method for both the training and testing results for your estimator. How do they compare? Look at precision, recall, AUC, and the ROC curve."
      ]
    },
    {
      "metadata": {
        "id": "2Jt3lSPr7ZrV",
        "colab_type": "code",
        "colab": {}
      },
      "cell_type": "code",
      "source": [
        "#\n",
        "# Now get the performaance by calling your binaryPerformance method\n",
        "#   ===> do this separately for test and train data!\n",
        "# Here is how you do this for the test sample:\n",
        "precision_test,recall_test,auc_test,fpr_test, tpr_test, thresholds_test = binaryPerformance(y_test,y_test_pred,y_test_score,debug=False)\n",
        "\n",
        "#\n",
        "# Now print\n",
        "print(\"AUC training data: \",auc_train)\n",
        "print(\"AUC testing data:  \",auc_test)\n"
      ],
      "execution_count": 0,
      "outputs": []
    },
    {
      "metadata": {
        "id": "QbSIhu_94xNw",
        "colab_type": "text"
      },
      "cell_type": "markdown",
      "source": [
        "# Plot the ROC!"
      ]
    },
    {
      "metadata": {
        "id": "DGId2jgZ8trd",
        "colab_type": "code",
        "colab": {}
      },
      "cell_type": "code",
      "source": [
        "#import plotly.plotly as py\n",
        "import numpy as np\n",
        "from plotly.offline import iplot\n",
        "import plotly.graph_objs as go\n",
        "\n",
        "enable_plotly_in_cell()\n",
        "\n",
        "trace0 = go.Scatter(\n",
        "    x=fpr_train,\n",
        "    y=tpr_train,\n",
        "    text=thresholds_train,\n",
        "    mode='line',\n",
        "    name='Trainig set'\n",
        ")\n",
        "\n",
        "trace1 = go.Scatter(\n",
        "    x=fpr_test,\n",
        "    y=tpr_test,\n",
        "    text=thresholds_test,\n",
        "    mode='line',\n",
        "    name='Testing set'\n",
        ")\n",
        "\n",
        "layout = dict(\n",
        "    title='ROC Curve',\n",
        "    xaxis=dict(title='FPR'),\n",
        "    yaxis=dict(title='TPR')\n",
        ")\n",
        "\n",
        "data = [trace0,trace1]      #   this is a list because you might want to plot many data sets\n",
        "iplot(dict(data=data))#,layout=layout))"
      ],
      "execution_count": 0,
      "outputs": []
    },
    {
      "metadata": {
        "id": "M7UeI_rEMEV4",
        "colab_type": "text"
      },
      "cell_type": "markdown",
      "source": [
        "# Task 7: A different Classifier\n",
        "Run with a different classifier (and the large background statistics): the SGDClassifier. Compare your results to the LinearSVC classifier."
      ]
    },
    {
      "metadata": {
        "id": "9k3g50UJMOdc",
        "colab_type": "code",
        "colab": {}
      },
      "cell_type": "code",
      "source": [
        "# Your code goes here\n",
        "\n",
        "# Get the new estimator\n",
        "from sklearn.linear_model import SGDClassifier\n",
        "estimatorSGD = SGDClassifier(random_state=42) \n",
        "#estimatorSGD = SGDClassifier(random_state=42,class_weight=\"balanced\") \n",
        "#\n",
        "# Call runFitter\n",
        "\n",
        "\n",
        "\n",
        "#\n",
        "# Now get the performance by calling binaryPerformance\n",
        "\n",
        "\n",
        "print(\"AUC training data: \",auc_train)\n",
        "print(\"AUC testing data:  \",auc_test)\n",
        "print(\"AUC SGD training data: \",auc_sgd_train)\n",
        "print(\"AUC SGD testing data:  \",auc_sgd_test)\n"
      ],
      "execution_count": 0,
      "outputs": []
    },
    {
      "metadata": {
        "id": "vxjlDFiO5Qrn",
        "colab_type": "text"
      },
      "cell_type": "markdown",
      "source": [
        "# Plot all 4 ROCs!\n",
        "There are 2 from the original estimator, and 2 from the new estimator"
      ]
    },
    {
      "metadata": {
        "id": "ka-IYMyxNN1U",
        "colab_type": "code",
        "colab": {}
      },
      "cell_type": "code",
      "source": [
        "# Plot all 4 results\n",
        "import plotly.plotly as py\n",
        "import numpy as np\n",
        "from plotly.offline import iplot\n",
        "import plotly.graph_objs as go\n",
        "\n",
        "enable_plotly_in_cell()\n"
      ],
      "execution_count": 0,
      "outputs": []
    },
    {
      "metadata": {
        "id": "WV9ykc2Vqci1",
        "colab_type": "text"
      },
      "cell_type": "markdown",
      "source": [
        "# Additional tasks:\n",
        "1.   For a given signal digit, is the accuracy with which background is rejected, dependent upon what the background digit is?   For example, imagine that our signal digit is 4.   Is th accuracy that a 0 is identifed as background the same as the accuracy that a 9 is identified as background?\n",
        "2.   Limit the signal to 1/10 of its amximum, and the backgorund to the same number.   What is the perfromance of the estimator?   Use LinearSVC for this."
      ]
    }
  ]
}