{
 "cells": [
  {
   "cell_type": "markdown",
   "metadata": {},
   "source": [
    "# Assignment 9\n",
    "For this assignment, we will examine our keras MNIST network, and try to optimize it.\n",
    "\n",
    "Tasks:\n",
    "1.   Add k-fold validation to your network testing.  It would be best if you put this in a callable module - a skeleton of such code will be given below.\n",
    "2.   Optimize the network for the number of hidden nodes in the hidden layer: test the following choices: 100,200,400,600,800,1000.   Use validation loss to pick the best choise.\n",
    "3.   Test the performance of your fully-trained network (after k-fold validation) on the separate test sample.  You will need to retrain on the full sample using the best hiden node choice.   Note that you can put the **test** sample in as the **validation** sample in re-fitting the full network. \n",
    "    *  Get the overall performance\n",
    "    *  Plot the loss and accuracy of the train and test sample versus epoch.\n",
    "    *  Calculate the confusion matrix on the test sample.\n",
    "\n",
    "Extra:\n",
    "How confident is the network when it gets the prediction correct?  How about when it gets the prediction incorrect?   Make a plot which compares these two cases. "
   ]
  },
  {
   "cell_type": "markdown",
   "metadata": {},
   "source": [
    "## Get the data and prepare it"
   ]
  },
  {
   "cell_type": "code",
   "execution_count": null,
   "metadata": {},
   "outputs": [],
   "source": [
    "from keras.datasets import mnist\n",
    "(train_images, train_labels), (test_images, test_labels) = mnist.load_data()\n",
    "\n",
    "short = False\n",
    "if short:\n",
    "    train_images = train_images[:7000,:]\n",
    "    train_labels = train_labels[:7000]\n",
    "    test_images = test_images[:3000,:]\n",
    "    test_labels = test_labels[:3000]\n",
    "#\n",
    "print(\"Train info\",train_images.shape, train_labels.shape)\n",
    "print(\"Test info\",test_images.shape, test_labels.shape)\n",
    "\n",
    "train_images = train_images.reshape((train_images.shape[0],28*28))\n",
    "train_images = train_images.astype('float32')/255\n",
    "\n",
    "test_images = test_images.reshape((test_images.shape[0],28*28))\n",
    "test_images = test_images.astype('float32')/255\n",
    "\n",
    "from keras.utils import to_categorical\n",
    "\n",
    "train_labels_cat = to_categorical(train_labels)\n",
    "test_labels_cat = to_categorical(test_labels)\n"
   ]
  },
  {
   "cell_type": "markdown",
   "metadata": {},
   "source": [
    "## Task 1: add k-fold validation using a method"
   ]
  },
  {
   "cell_type": "code",
   "execution_count": null,
   "metadata": {},
   "outputs": [],
   "source": [
    "from keras import models\n",
    "from keras import layers\n",
    "from keras import models\n",
    "from keras import layers\n",
    "from keras.callbacks import EarlyStopping, ModelCheckpoint\n",
    "from keras.utils import to_categorical\n",
    "from sklearn.model_selection import StratifiedKFold\n",
    "import numpy as np\n",
    "\n",
    "def kfold_network(hidden_nodes,activation='tanh',optimizer='adam'):\n",
    "\n",
    "    network = models.Sequential()\n",
    "    network.add(layers.Dense(hidden_nodes,activation=activation,input_shape=(28*28,)))\n",
    "    network.add(layers.Dense(10,activation='softmax'))\n",
    "\n",
    "    network.compile(optimizer=optimizer,loss='categorical_crossentropy',metrics=['accuracy'])\n",
    "#\n",
    "# If we reload this right before fitting the model, the model will start from scratch\n",
    "    network.save_weights('model_init.h5')\n",
    "#\n",
    "# Early stopping\n",
    "    patienceCount = 10\n",
    "    callbacks = [EarlyStopping(monitor='val_loss', patience=patienceCount),\n",
    "                 ModelCheckpoint(filepath='best_model.h5', monitor='val_loss', save_best_only=True)]\n",
    "#\n",
    "# Add loop over k-folds here\n",
    "\n",
    "#\n",
    "# Return the average accuracy and loss (on the validation sample!)\n",
    "    return avg_acc,avg_loss"
   ]
  },
  {
   "cell_type": "markdown",
   "metadata": {},
   "source": [
    "## Task 2: Loop over hidden nodes and store results"
   ]
  },
  {
   "cell_type": "code",
   "execution_count": null,
   "metadata": {},
   "outputs": [],
   "source": [
    "#\n",
    "# Determine best number of hidden nodes\n",
    "for nodes in [100,200,400,600,800,1000]:\n",
    "    avg_acc,avg_loss = kfold_network(nodes)\n"
   ]
  },
  {
   "cell_type": "markdown",
   "metadata": {},
   "source": [
    "## Task 3: Pick the best model and retrain the network with the full data\n",
    "Things to keep in mind here:\n",
    "*  Stop training at the average epoch for the best node choice (don't use early stopping)\n",
    "*  Use the full training sample\n",
    "*  Don't include a validation set\n",
    "*  Remember to save your network"
   ]
  },
  {
   "cell_type": "code",
   "execution_count": null,
   "metadata": {},
   "outputs": [],
   "source": []
  }
 ],
 "metadata": {
  "kernelspec": {
   "display_name": "Python 3",
   "language": "python",
   "name": "python3"
  },
  "language_info": {
   "codemirror_mode": {
    "name": "ipython",
    "version": 3
   },
   "file_extension": ".py",
   "mimetype": "text/x-python",
   "name": "python",
   "nbconvert_exporter": "python",
   "pygments_lexer": "ipython3",
   "version": "3.6.6"
  }
 },
 "nbformat": 4,
 "nbformat_minor": 2
}
