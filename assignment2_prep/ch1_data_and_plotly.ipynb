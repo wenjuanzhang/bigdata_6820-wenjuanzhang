{
  "nbformat": 4,
  "nbformat_minor": 0,
  "metadata": {
    "colab": {
      "name": "ch1_data_and_plotly.ipynb",
      "version": "0.3.2",
      "provenance": [],
      "collapsed_sections": [],
      "toc_visible": true
    },
    "kernelspec": {
      "display_name": "Python 3",
      "language": "python",
      "name": "python3"
    }
  },
  "cells": [
    {
      "metadata": {
        "id": "view-in-github",
        "colab_type": "text"
      },
      "cell_type": "markdown",
      "source": [
        "<a href=\"https://colab.research.google.com/github/big-data-analytics-physics/handsonml_ch1/blob/master/ch1_data_and_plotly.ipynb\" target=\"_parent\"><img src=\"https://colab.research.google.com/assets/colab-badge.svg\" alt=\"Open In Colab\"/></a>"
      ]
    },
    {
      "metadata": {
        "id": "7tIqJEDXqI-C",
        "colab_type": "text"
      },
      "cell_type": "markdown",
      "source": [
        "# Chapter 1: Introduction\n",
        "## Opening a data file\n",
        "The data we want to explore is in a \"csv\" or \"comma-separated-value\" file.   We will want to open this file and read it into memory, so we can explore it.   \"Exploring\" a data file could mean a number of things:\n",
        "1.  Counting the number of lines\n",
        "2.  Calculating statistics on the data in the file - averages, standard deviations, etc.\n",
        "3.  Making plots of the data in the file\n",
        "\n",
        "With python, we have a number of different options for reading a csv file into memory.   We will use \"pandas\" to do this.   To learn more, you can of course type into google: \n",
        "\n",
        "             python pandas read csv\n",
        "\n",
        "When you do this, one of the top links which comes up is this one:  \n",
        "      https://www.datacamp.com/community/tutorials/pandas-read-csv\n",
        "\n",
        "Take a look at this to get a sense of how to read in files."
      ]
    },
    {
      "metadata": {
        "id": "u_Y2aAecqI-D",
        "colab_type": "text"
      },
      "cell_type": "markdown",
      "source": [
        "First we need to import the apprproiate python package: in this cases it is called \"pandas\""
      ]
    },
    {
      "metadata": {
        "id": "8BlmitMBqI-E",
        "colab_type": "code",
        "colab": {}
      },
      "cell_type": "code",
      "source": [
        "import pandas as pd"
      ],
      "execution_count": 0,
      "outputs": []
    },
    {
      "metadata": {
        "id": "Mdlg-M03UnIK",
        "colab_type": "text"
      },
      "cell_type": "markdown",
      "source": [
        "Note that we have introduced a new package called \"pandas\" into the mix.  As you go through the examples below, you might begin to see that it seems similar in many ways to \"numpy\".   This is not surprising since it is built upon numpy!   In my practice, I generally only use pandas (specifically pandas dataframes, which we will get into below), and only rarely use numpy arrays.   However, many packages require their inputs to be in the form of a numpy array, so you will have to be able to convert into that format.\n",
        "\n",
        "Here  is a gentle intorduction to pandas, although you can find lots more on the web:\n",
        "      https://medium.com/@harrypotter0/an-introduction-to-data-analysis-with-pandas-27ecbce2853\n",
        "      "
      ]
    },
    {
      "metadata": {
        "id": "8jiB_UcaxPTS",
        "colab_type": "text"
      },
      "cell_type": "markdown",
      "source": [
        "Back to opening and reading files!   Next we have to get our data to a place where colab can see it.   There are a couple of different ways of doing this:\n",
        "\n",
        "\n",
        "1.   Copy the file from wherever it is and put it on your google drive. You will then want to put it in the 'My Drive/Colab Notebooks' folder.    You the have to *mount* your google drive so that you can access the data.   You would use code like this (executed in a code cell):\n",
        "\n",
        "from google.colab import drive\n",
        "\n",
        "drive.mount('/content/drive')\n",
        "\n",
        "After executing this you will be prompted to click on a link, where you will get an authorization code and enter into a form in colab.   The drive will remain mounted throughout your colab session until you log off.   To access the data you would do something like:\n",
        "\n",
        "datapath = 'drive/My Drive/Colab Notebooks/data/'\n",
        "\n",
        "gdp_data = pd.read_csv(datapath+\"gdp_oecd_data_byCountry.csv\")\n",
        "\n",
        "2.   Another option - and the one we will do - is to have the data file in a git repo (which means the data file can't be much bigger than about 50mB).   You need the url to the *raw* file.   Our class uses a public epo (so anyone can see it) with some of our test data files.  The variable *url* below contains the pointer to this file.   Once we have the pointer, it is easy to read the file in using *pandas*:\n",
        "\n",
        "\n",
        "\n"
      ]
    },
    {
      "metadata": {
        "id": "eKzaVD6XqI-I",
        "colab_type": "code",
        "colab": {}
      },
      "cell_type": "code",
      "source": [
        "\n",
        "url = \"https://raw.githubusercontent.com/big-data-analytics-physics/data/master/ch1/gdp_oecd_data_byCountry.csv\"\n",
        "gdp_data=pd.read_csv(url)"
      ],
      "execution_count": 0,
      "outputs": []
    },
    {
      "metadata": {
        "id": "ztj43CJSqI-K",
        "colab_type": "text"
      },
      "cell_type": "markdown",
      "source": [
        "## Simple Exploration of a data set using pandas\n",
        "Now the we have the data in pandas, what can we do with it?   To find out the full capbabilities of pandas, go to [this link](http://pandas.pydata.org/pandas-docs/stable/10min.html).\n",
        "\n",
        "For now, we will do a few very simple things:\n",
        "1.  Look at a few *rows* of the dataset:  use gdp_data.head().   With no argument it prints out the first 5 rows.  With an argument of \"10\" it prints out the first 10 rows.   Tere is a similar function called \"tail\" which prints out the last *n* rows of the data frame.\n",
        "2.  Get some info about the names and types of the columns in the dataframe, the number of rows, and how much memory the dataframe takes up: using gdp_data.info()\n",
        "3.  Get some basic statistical info about the dataframe (mean, std, etc): use gdp_data.describe()\n",
        "4.  Get correlations among all of the columns: use gdp_data.corr()\n"
      ]
    },
    {
      "metadata": {
        "id": "6q9kUcg5qI-L",
        "colab_type": "code",
        "colab": {}
      },
      "cell_type": "code",
      "source": [
        "print(gdp_data.head())"
      ],
      "execution_count": 0,
      "outputs": []
    },
    {
      "metadata": {
        "id": "2FhQGYsYqI-Q",
        "colab_type": "code",
        "colab": {}
      },
      "cell_type": "code",
      "source": [
        "print(gdp_data.info())"
      ],
      "execution_count": 0,
      "outputs": []
    },
    {
      "metadata": {
        "id": "_0QhvSvIqI-T",
        "colab_type": "code",
        "colab": {}
      },
      "cell_type": "code",
      "source": [
        "print(gdp_data.describe())"
      ],
      "execution_count": 0,
      "outputs": []
    },
    {
      "metadata": {
        "id": "jR04SRvHqI-W",
        "colab_type": "code",
        "colab": {}
      },
      "cell_type": "code",
      "source": [
        "print(gdp_data.corr())"
      ],
      "execution_count": 0,
      "outputs": []
    },
    {
      "metadata": {
        "id": "6gjR-LPYqI-Z",
        "colab_type": "text"
      },
      "cell_type": "markdown",
      "source": [
        "## More Cool things with pandas dataframes\n",
        "You can do many interesting things with a dataframe, such as:\n",
        "1.  Select a subset of rows and/or columns\n",
        "2.  Select a subset of the full dataframe based on a requirement of a single column\n",
        "3.  Add a column based on other columns"
      ]
    },
    {
      "metadata": {
        "id": "tZPPnrGxqI-a",
        "colab_type": "code",
        "colab": {}
      },
      "cell_type": "code",
      "source": [
        "selected_columns = ['Life expectancy','Employment rate']\n",
        "gdp_data_subset = gdp_data.loc[:,selected_columns]      # the \":\" means select all rows\n",
        "print(gdp_data_subset.head(10))                           # remember head by default yields 5 rows"
      ],
      "execution_count": 0,
      "outputs": []
    },
    {
      "metadata": {
        "id": "2ue1uTzxqI-e",
        "colab_type": "code",
        "colab": {}
      },
      "cell_type": "code",
      "source": [
        "selected_columns = ['Life expectancy','Employment rate']\n",
        "gdp_data_subset = gdp_data.loc[10:13,selected_columns]      # the \"10:13\" means select rows 10,11,12,13\n",
        "print(gdp_data_subset)"
      ],
      "execution_count": 0,
      "outputs": []
    },
    {
      "metadata": {
        "id": "WpNgDvV3qI-i",
        "colab_type": "code",
        "colab": {}
      },
      "cell_type": "code",
      "source": [
        "gdp_data_subset = gdp_data.loc[10:13,:]      # the \":\" means select all columns\n",
        "print(gdp_data_subset)\n",
        "gdp_data_subset = gdp_data.loc[10:13]      # you don't actually need to specificy the column names\n",
        "print(gdp_data_subset)"
      ],
      "execution_count": 0,
      "outputs": []
    },
    {
      "metadata": {
        "id": "RAlp5BznqI-l",
        "colab_type": "code",
        "colab": {}
      },
      "cell_type": "code",
      "source": [
        "gdp_data[\"Personal earnings (thousands)\"]= gdp_data[\"Personal earnings\"]/1000.0   \n",
        "print(gdp_data.head())"
      ],
      "execution_count": 0,
      "outputs": []
    },
    {
      "metadata": {
        "id": "y9a2L8BqqI-o",
        "colab_type": "text"
      },
      "cell_type": "markdown",
      "source": [
        "## Making a descriptive column\n",
        "This can be useful for some of the plotting that we will do later.   What we are doing here is combining data from various columns and concatenating them together as a long string.   When we do this, we need to convert columns which are numerical (like 'GDP') to a string, using the *astype(str)* modifier."
      ]
    },
    {
      "metadata": {
        "id": "n6PjpfA7qI-o",
        "colab_type": "code",
        "colab": {}
      },
      "cell_type": "code",
      "source": [
        "gdp_data['Info'] = \"Country:\"+gdp_data['Country']+\"<br>GDP:\"+gdp_data['GDP'].astype(str)+\"<br>Employment rate:\"+gdp_data['Employment rate'].astype(str)+\"<br> Homicide rate:\"+gdp_data['Homicide rate'].astype(str)\n",
        "print(gdp_data.head())"
      ],
      "execution_count": 0,
      "outputs": []
    },
    {
      "metadata": {
        "id": "86j0az-5qI-t",
        "colab_type": "text"
      },
      "cell_type": "markdown",
      "source": [
        "## Selecting a subset of a dataframe based on the value of a row\n",
        "Here we want to select just those countries which have a GDP above or below the median of our dataset:"
      ]
    },
    {
      "metadata": {
        "id": "kD5RNZVBqI-t",
        "colab_type": "code",
        "colab": {}
      },
      "cell_type": "code",
      "source": [
        "gdp_above_median = gdp_data.loc[(gdp_data['GDP'] >gdp_data['GDP'].median())]\n",
        "print(\"Above median:\")\n",
        "print(gdp_above_median.head(5))\n",
        "gdp_below_median = gdp_data.loc[~(gdp_data['GDP'] >gdp_data['GDP'].median())]\n",
        "print(\"Below median:\")\n",
        "print(gdp_below_median.head(5))"
      ],
      "execution_count": 0,
      "outputs": []
    },
    {
      "metadata": {
        "id": "ihVuCkWVqI-z",
        "colab_type": "text"
      },
      "cell_type": "markdown",
      "source": [
        "# Plotting!\n",
        "## Simplest: just use matplotlib\n",
        "To plot in Jupyter, we need to use a \"magic\".    We will first use \"matplotlib\" to do our plotting.   To do this, we need to execute the following line:\n",
        "\n",
        "%matplotlib inline    \n",
        "\n",
        "Notice the leading \"%\" .   Now it appears that we don't actually need this in the jupyter environment in colab, but if you ever install jupyter locally on your own machine, you will need to do something like that."
      ]
    },
    {
      "metadata": {
        "id": "zgamW7PQqI-4",
        "colab_type": "text"
      },
      "cell_type": "markdown",
      "source": [
        "Next we need to import the appropriate python packages:"
      ]
    },
    {
      "metadata": {
        "id": "xHe7Md8VqI-4",
        "colab_type": "code",
        "colab": {}
      },
      "cell_type": "code",
      "source": [
        "import matplotlib\n"
      ],
      "execution_count": 0,
      "outputs": []
    },
    {
      "metadata": {
        "id": "nzwEhs4LVzEF",
        "colab_type": "text"
      },
      "cell_type": "markdown",
      "source": [
        "## The correlation matrix\n",
        "A nice way to summarize relationships among several features in a dataset is through the correlation matrix.   A good discussion of correlation can be found here: https://www.datascience.com/blog/introduction-to-correlation-learn-data-science-tutorials.\n",
        "\n",
        "## \"Plotting\" the correlation matrix.\n",
        "We used a feature of pandas to print out the correlation matrix, but it was fairly hard to read.   There is a nice built in feature that allows us to make a **heat map** of the correlation matrix:"
      ]
    },
    {
      "metadata": {
        "id": "XdFxwKsKWMWU",
        "colab_type": "code",
        "colab": {}
      },
      "cell_type": "code",
      "source": [
        "corr = gdp_data.corr()\n",
        "corr.style.background_gradient().set_precision(3)"
      ],
      "execution_count": 0,
      "outputs": []
    },
    {
      "metadata": {
        "id": "cBeZNsPCXPts",
        "colab_type": "text"
      },
      "cell_type": "markdown",
      "source": [
        "That is nice, but since I am interested in the GDP, and how other things influence that, I would love GDP to be in the first row.   We can do that!   To the google machine:   google **pandas move column to front**"
      ]
    },
    {
      "metadata": {
        "id": "Phvk-vksXfP4",
        "colab_type": "code",
        "colab": {}
      },
      "cell_type": "code",
      "source": [
        "mid = gdp_data['GDP']\n",
        "gdp_data.drop(labels=['GDP'], axis=1,inplace = True)\n",
        "gdp_data.insert(0, 'GDP', mid)\n",
        "\n",
        "corr = gdp_data.corr()\n",
        "corr.style.background_gradient().set_precision(3)\n"
      ],
      "execution_count": 0,
      "outputs": []
    },
    {
      "metadata": {
        "id": "vTrklXHdqI-7",
        "colab_type": "text"
      },
      "cell_type": "markdown",
      "source": [
        "## Simple scatter plots\n",
        "To plot one column against another:"
      ]
    },
    {
      "metadata": {
        "id": "lh33QlhhqI-7",
        "colab_type": "code",
        "colab": {}
      },
      "cell_type": "code",
      "source": [
        "import matplotlib.pyplot as plt\n",
        "plt.scatter(gdp_data['GDP'],gdp_data['Life satisfaction'])\n",
        "plt.show()\n"
      ],
      "execution_count": 0,
      "outputs": []
    },
    {
      "metadata": {
        "id": "a9nbkTpFqI--",
        "colab_type": "text"
      },
      "cell_type": "markdown",
      "source": [
        "## Making the scatter plots prettier\n",
        "We can do the same things, but lets make the size bigger"
      ]
    },
    {
      "metadata": {
        "id": "ol9QDs0fqI-_",
        "colab_type": "code",
        "colab": {}
      },
      "cell_type": "code",
      "source": [
        "plt.scatter(gdp_data['GDP'],gdp_data['Life satisfaction'],s=100)\n",
        "plt.show()\n"
      ],
      "execution_count": 0,
      "outputs": []
    },
    {
      "metadata": {
        "id": "SvneMOEQqI_C",
        "colab_type": "text"
      },
      "cell_type": "markdown",
      "source": [
        "If we want the size to depend on a column value, things get more complicated.   Lets use 'Personal earnings'.   Note the \"s=\" term at the end of the following line:"
      ]
    },
    {
      "metadata": {
        "id": "9Fq_-WWQqI_G",
        "colab_type": "code",
        "colab": {}
      },
      "cell_type": "code",
      "source": [
        "plt.scatter(gdp_data['GDP'],gdp_data['Life satisfaction'],s=gdp_data['Personal earnings'])"
      ],
      "execution_count": 0,
      "outputs": []
    },
    {
      "metadata": {
        "id": "0V_cGF9YqI_I",
        "colab_type": "text"
      },
      "cell_type": "markdown",
      "source": [
        "What is going on here?   The problem is that the scale of our column is too big.   We can fix this by making a new column which is *min-max* scaled.   The first time you run this the points will be tiny!   Try uncommenting (removing the '#') from the 3rd line and rerun the cell."
      ]
    },
    {
      "metadata": {
        "id": "NGOT0DrVqI_J",
        "colab_type": "code",
        "colab": {}
      },
      "cell_type": "code",
      "source": [
        "mn = gdp_data['Personal earnings'].min()\n",
        "mx = gdp_data['Personal earnings'].max()\n",
        "#gdp_data['Personal earnings Norm'] = (gdp_data['Personal earnings']-mn)/(mx-mn)  # this goes from 0-1.0\n",
        "gdp_data['Personal earnings Norm'] = 200.0*(gdp_data['Personal earnings']-mn)/(mx-mn)  # this goes from 0-200.0\n",
        "plt.scatter(gdp_data['GDP'],gdp_data['Life satisfaction'],s=gdp_data['Personal earnings Norm'])"
      ],
      "execution_count": 0,
      "outputs": []
    },
    {
      "metadata": {
        "id": "ZNXmGtyKqI_L",
        "colab_type": "text"
      },
      "cell_type": "markdown",
      "source": [
        "Now lets make a scatter plot where one axis is the country name.   We rotate the axis so that the country name is readable."
      ]
    },
    {
      "metadata": {
        "id": "f-4V9-Q_qI_M",
        "colab_type": "code",
        "colab": {}
      },
      "cell_type": "code",
      "source": [
        "plt.scatter(gdp_data['Country'],gdp_data['GDP'],s=gdp_data['Personal earnings Norm'])\n",
        "pltx = plt.xticks(rotation='vertical')"
      ],
      "execution_count": 0,
      "outputs": []
    },
    {
      "metadata": {
        "id": "XDqv75yBqI_P",
        "colab_type": "text"
      },
      "cell_type": "markdown",
      "source": [
        "## Histogramming our data\n",
        "Finally, we can make a histogram of the entire dataset (excluding categorical variables like Country) by using gdp_data.hist.    This is a built in feature of pandas (remember that #gdp_data# is a pandas dataframe).  \n",
        "\n",
        "Arguments allow us to control the binning, as well as the size of the resulting plots.\n",
        "\n",
        "See the documentation at this [link](https://pandas.pydata.org/pandas-docs/stable/generated/pandas.DataFrame.hist.html) for more information."
      ]
    },
    {
      "metadata": {
        "id": "lT-beQffqI_P",
        "colab_type": "code",
        "colab": {}
      },
      "cell_type": "code",
      "source": [
        "gdp_data.hist(bins=50,figsize=(20,15))\n",
        "plt.show()"
      ],
      "execution_count": 0,
      "outputs": []
    },
    {
      "metadata": {
        "id": "5abO18EjqI_T",
        "colab_type": "text"
      },
      "cell_type": "markdown",
      "source": [
        "# More sophisticated plotting.\n",
        "The plots above are nice, but it turns out that we can add an interactive aspect to our visualizations, which will be helpful especially in the early data exploration stages.   To do this, we (of course) have many options.   A good one which is reasonably simple is called *plotly*.\n"
      ]
    },
    {
      "metadata": {
        "id": "wOr8DTN2dBZF",
        "colab_type": "text"
      },
      "cell_type": "markdown",
      "source": [
        "\n",
        "Unfortunately, using plotly is not completely straightforward in google's colab environment (it is a little easier in a local jupyter enviroment).   But it is not that bad.   We need to first define a function called \"enable_plotly_in_cell\":"
      ]
    },
    {
      "metadata": {
        "id": "yfVBDmTGVBxP",
        "colab_type": "code",
        "colab": {}
      },
      "cell_type": "code",
      "source": [
        "def enable_plotly_in_cell():\n",
        "  import IPython\n",
        "  from plotly.offline import init_notebook_mode\n",
        "  display(IPython.core.display.HTML('''\n",
        "        <script src=\"/static/components/requirejs/require.js\"></script>\n",
        "  '''))\n",
        "  init_notebook_mode(connected=False)"
      ],
      "execution_count": 0,
      "outputs": []
    },
    {
      "metadata": {
        "id": "ZStyOwVEbU2o",
        "colab_type": "text"
      },
      "cell_type": "markdown",
      "source": [
        "We need to execute that once (so that the function is defined in our session).  Then anytime we want to make a plotly plot, we just need to call the above function in the cell where we want to make a plot.\n",
        "\n",
        "Below is an example from the plotly website using random data.\n",
        "After you run the cell below, use your mouse to hover over the plot and explore it a bit."
      ]
    },
    {
      "metadata": {
        "id": "Rcz-h2lyWpjf",
        "colab_type": "code",
        "colab": {}
      },
      "cell_type": "code",
      "source": [
        "import plotly.plotly as py\n",
        "import numpy as np\n",
        "from plotly.offline import iplot\n",
        "from plotly.graph_objs import Contours, Histogram2dContour, Marker, Scatter\n",
        "\n",
        "enable_plotly_in_cell()\n",
        "x = np.random.randn(2000)\n",
        "y = np.random.randn(2000)\n",
        "iplot([Histogram2dContour(x=x, y=y, contours=Contours(coloring='heatmap')),\n",
        "       Scatter(x=x, y=y, mode='markers', marker=Marker(color='white', size=3, opacity=0.3))], show_link=False)\n",
        "\n"
      ],
      "execution_count": 0,
      "outputs": []
    },
    {
      "metadata": {
        "id": "yCMPJ6ZTqI_b",
        "colab_type": "text"
      },
      "cell_type": "markdown",
      "source": [
        "\n",
        "\n",
        "---\n",
        "\n",
        "\n",
        "\n",
        "---\n",
        "\n",
        "\n",
        "Now lets use plotly to make plots of our data.   First lets make a bar plot of the GDP vs each country.   Again, use your mouse to hover over the plot.\n",
        "\n",
        "\n"
      ]
    },
    {
      "metadata": {
        "id": "aj5AlNIkV705",
        "colab_type": "code",
        "colab": {}
      },
      "cell_type": "code",
      "source": [
        "\n",
        "import plotly.graph_objs as go\n",
        "\n",
        "enable_plotly_in_cell()\n",
        "\n",
        "data = [\n",
        "    go.Bar(\n",
        "        y=gdp_data['GDP'], # assign x as the dataframe column 'x'\n",
        "        x=gdp_data['Country'],\n",
        "        text=gdp_data['Info']\n",
        "    )\n",
        "]\n",
        "iplot(data)\n",
        "\n"
      ],
      "execution_count": 0,
      "outputs": []
    },
    {
      "metadata": {
        "id": "hEdmZNIBY2YR",
        "colab_type": "text"
      },
      "cell_type": "markdown",
      "source": [
        "\n",
        "\n",
        "---\n",
        "\n",
        "Remember that we made a scatter plot of life satisfaction vs GDP earlier.   We can look at this another way: by splitting our data into groups and plotting those two groups as histograms on the same figure.   As we did earlier, lets split the data based on whether it is above or below the median GDP, and then plot the \"life satisfaction\" of those two agains one another.   The code I am using is based on examples from this plotly page: https://plot.ly/python/histograms/#overlaid-histogram"
      ]
    },
    {
      "metadata": {
        "id": "fG61SIATZkJd",
        "colab_type": "code",
        "colab": {}
      },
      "cell_type": "code",
      "source": [
        "import plotly.plotly as py\n",
        "import numpy as np\n",
        "from plotly.offline import iplot\n",
        "import plotly.graph_objs as go\n",
        "\n",
        "enable_plotly_in_cell()\n",
        "gdp_above_median = gdp_data.loc[(gdp_data['GDP'] >gdp_data['GDP'].median())]\n",
        "gdp_below_median = gdp_data.loc[(gdp_data['GDP'] <gdp_data['GDP'].median())]\n",
        "trace1 = go.Histogram(\n",
        "    x=gdp_above_median['Life satisfaction'],\n",
        "    opacity=0.75,\n",
        "    name=\"Above Median GDP\"\n",
        ")\n",
        "trace2 = go.Histogram(\n",
        "    x=gdp_below_median['Life satisfaction'],\n",
        "    opacity=0.75,\n",
        "    name=\"Below Median GDP\"\n",
        ")\n",
        "\n",
        "data = [trace1, trace2]\n",
        "layout = go.Layout(barmode='overlay')\n",
        "fig = go.Figure(data=data, layout=layout)\n",
        "\n",
        "iplot(fig, filename='overlaid histogram')"
      ],
      "execution_count": 0,
      "outputs": []
    },
    {
      "metadata": {
        "id": "om5Q71BPbH3U",
        "colab_type": "text"
      },
      "cell_type": "markdown",
      "source": [
        "Another cool way of visualizing this data is through the use of a \"box plot\"."
      ]
    },
    {
      "metadata": {
        "id": "MhJGMxosbO3d",
        "colab_type": "code",
        "colab": {}
      },
      "cell_type": "code",
      "source": [
        "import plotly.plotly as py\n",
        "import numpy as np\n",
        "from plotly.offline import iplot\n",
        "import plotly.graph_objs as go\n",
        "\n",
        "enable_plotly_in_cell()\n",
        "\n",
        "\n",
        "boxes = []\n",
        "labels = []\n",
        "\n",
        "boxes.append(gdp_above_median['Life satisfaction'])\n",
        "boxes.append(gdp_below_median['Life satisfaction'])\n",
        "labels.append('Above Median')\n",
        "labels.append('Below Median')\n",
        "\n",
        "data = [{\n",
        "    'y': boxes[i], \n",
        "    'name':labels[i],\n",
        "    'type':'box'\n",
        "    } for i in range(len(labels))]\n",
        "\n",
        "\n",
        "\n",
        "layout = dict(\n",
        "    title='Life Satisfactions vs GDP',\n",
        "    xaxis=dict(title='GDP'),\n",
        "    yaxis=dict(title='Life satisfaction')\n",
        ")\n",
        "\n",
        "iplot(dict(data=data))#,layout=layout))"
      ],
      "execution_count": 0,
      "outputs": []
    },
    {
      "metadata": {
        "id": "HqHF5Y9XqI_f",
        "colab_type": "text"
      },
      "cell_type": "markdown",
      "source": [
        "\n",
        "\n",
        "---\n",
        "\n",
        "\n",
        "\n",
        "---\n",
        "\n",
        "\n",
        "Now lets make a fancy bubble plot.   This is just a scatter plot of  one variable vs another.   But we can provide more information by using color to code another feature of each data point, and the size of the marker as yet another way to convey information about each data point.\n"
      ]
    },
    {
      "metadata": {
        "id": "Zku65TLYqI_g",
        "colab_type": "code",
        "colab": {}
      },
      "cell_type": "code",
      "source": [
        "import plotly.plotly as py\n",
        "from plotly.offline import iplot\n",
        "\n",
        "import plotly.graph_objs as go\n",
        "enable_plotly_in_cell()\n",
        "mn = gdp_data['Personal earnings'].min()\n",
        "mx = gdp_data['Personal earnings'].max()\n",
        "gdp_data['Personal earnings Norm2'] = 100.0*(gdp_data['Personal earnings']-mn)/(mx-mn)  \n",
        "trace0 = go.Scatter(\n",
        "    x=gdp_data['GDP'],\n",
        "    y=gdp_data['Life satisfaction'],\n",
        "    text=gdp_data['Info'],\n",
        "    mode='markers',\n",
        "    marker=dict(\n",
        "        size=gdp_data['Personal earnings Norm2'],\n",
        "        color=gdp_data['Country'].astype(\"category\").cat.codes,\n",
        "        colorscale='Jet',\n",
        "        colorbar=dict(thickness=20)\n",
        "    )\n",
        ")\n",
        "\n",
        "\n",
        "#layout = go.Layout(\n",
        "#    title='Life satisfaction VS GDP by Country',\n",
        "#    xaxis=dict(title='GDP'),\n",
        "#    yaxis=dict(title='Life satisfaction')\n",
        "#)\n",
        "\n",
        "data = [trace0]      #   this is a list because you might want to plot many data sets\n",
        "iplot(dict(data=data))#,layout=layout))"
      ],
      "execution_count": 0,
      "outputs": []
    },
    {
      "metadata": {
        "id": "z14j8FOvqI_n",
        "colab_type": "text"
      },
      "cell_type": "markdown",
      "source": [
        "## Maps\n",
        "Finally, lets make a map.   "
      ]
    },
    {
      "metadata": {
        "id": "YmKgjhRRqI_n",
        "colab_type": "code",
        "colab": {}
      },
      "cell_type": "code",
      "source": [
        "import pandas as pd\n",
        "enable_plotly_in_cell()\n",
        "plottingVar = 'Life satisfaction'\n",
        "plottingVar = 'GDP'\n",
        "data = [ dict(\n",
        "        type = 'choropleth',\n",
        "        locationmode = 'country names',\n",
        "        locations = gdp_data['Country'],\n",
        "        z = gdp_data[plottingVar],\n",
        "        text = gdp_data['Info'],\n",
        "        colorscale = [[0,\"rgb(5, 10, 172)\"],[0.35,\"rgb(40, 60, 190)\"],[0.5,\"rgb(70, 100, 245)\"],\\\n",
        "            [0.6,\"rgb(90, 120, 245)\"],[0.7,\"rgb(106, 137, 247)\"],[1,\"rgb(220, 220, 220)\"]],\n",
        "        autocolorscale = False,\n",
        "        reversescale = True,\n",
        "        marker = dict(\n",
        "            line = dict (\n",
        "                color = 'rgb(180,180,180)',\n",
        "                width = 0.5\n",
        "            ) ),\n",
        "        colorbar = dict(\n",
        "            autotick = False,\n",
        "            #tickprefix = '$',\n",
        "            title = 'plottingVar'),\n",
        "      ) ]\n",
        "\n",
        "layout = dict(\n",
        "    title = '2014 Global GDP<br>Source:\\\n",
        "            <a href=\"https://www.cia.gov/library/publications/the-world-factbook/fields/2195.html\">\\\n",
        "            CIA World Factbook</a>',\n",
        "    geo = dict(\n",
        "        showframe = False,\n",
        "        showcoastlines = False,\n",
        "        projection = dict(\n",
        "            type = 'Mercator'\n",
        "        )\n",
        "    )\n",
        ")\n",
        "\n",
        "fig = dict( data=data, layout=layout )\n",
        "iplot( fig, validate=False, filename='d3-world-map' )"
      ],
      "execution_count": 0,
      "outputs": []
    }
  ]
}