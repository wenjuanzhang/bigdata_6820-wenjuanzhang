{
  "nbformat": 4,
  "nbformat_minor": 0,
  "metadata": {
    "colab": {
      "name": "assignment6.ipynb",
      "version": "0.3.2",
      "provenance": [],
      "collapsed_sections": []
    },
    "kernelspec": {
      "name": "python3",
      "display_name": "Python 3"
    }
  },
  "cells": [
    {
      "metadata": {
        "id": "aDzC6RcatdQO",
        "colab_type": "text"
      },
      "cell_type": "markdown",
      "source": [
        "# Assignment 6\n",
        "In this assignment, I would like you to develop a random forest to classify the MNIST dataset.  Here are the basic requirements:\n",
        "1.  This is a multi-class problem: the random forest should classify all 10 digits.\n",
        "2.   As we did with the pulsar data, I want you to use k-fold validation, as well as the error curve, to determine the optimal depth for the trees used in the forest.\n",
        "3.  I want you to look at feature performance.   In the case of MNIST, the features are the pixels.   I would like you to determine the ranked importance of all of the pixels, and then make a heatmap (using plotly) along the lines of the plot in the book (Chapter 7, figure 7-6).\n",
        "\n",
        "This assignment is essentially a combination of parts of the \"multiclassV2.ipynb\" workbook, as well as the \"forest_mtru2.ipynb\" workbook. \n",
        "\n",
        "Use the structure below to craft your solution."
      ]
    },
    {
      "metadata": {
        "id": "MaKlGDN1t3LY",
        "colab_type": "text"
      },
      "cell_type": "markdown",
      "source": [
        "## Get the data"
      ]
    },
    {
      "metadata": {
        "id": "N38J0jI-v98V",
        "colab_type": "code",
        "colab": {}
      },
      "cell_type": "code",
      "source": [
        "# \n",
        "# Your code here"
      ],
      "execution_count": 0,
      "outputs": []
    },
    {
      "metadata": {
        "id": "Kngl5zZQt5zN",
        "colab_type": "text"
      },
      "cell_type": "markdown",
      "source": [
        "## The Performance Method.\n",
        "Get this from the multiclassV2 workbook.   Remember that the multiclass performance method does not return AUC as a performance metric.   I suggest using \"macro accuracy\"."
      ]
    },
    {
      "metadata": {
        "id": "9qq62d0xwBK1",
        "colab_type": "code",
        "colab": {}
      },
      "cell_type": "code",
      "source": [
        "# \n",
        "# Your code here"
      ],
      "execution_count": 0,
      "outputs": []
    },
    {
      "metadata": {
        "id": "7apzF2MZuOQP",
        "colab_type": "text"
      },
      "cell_type": "markdown",
      "source": [
        "## The Runfitter Method\n",
        "Get this from the multiclassV2 notebook."
      ]
    },
    {
      "metadata": {
        "id": "QOkRh3g8wCqp",
        "colab_type": "code",
        "colab": {}
      },
      "cell_type": "code",
      "source": [
        "# \n",
        "# Your code here"
      ],
      "execution_count": 0,
      "outputs": []
    },
    {
      "metadata": {
        "id": "0uiwclYZuKcW",
        "colab_type": "text"
      },
      "cell_type": "markdown",
      "source": [
        "## Prepare the data\n",
        "Remember that the features (X) are the first 784 columns, and the labels (y) are given by the \"digit\" column."
      ]
    },
    {
      "metadata": {
        "id": "5Pn-LlTgwX0x",
        "colab_type": "code",
        "colab": {}
      },
      "cell_type": "code",
      "source": [
        "# \n",
        "# Your code here"
      ],
      "execution_count": 0,
      "outputs": []
    },
    {
      "metadata": {
        "id": "cFvP2GHDwjET",
        "colab_type": "text"
      },
      "cell_type": "markdown",
      "source": [
        "## Run the fitter once\n",
        "Use a reasonable set of parameters for the forest estimator: for example, n_estimators=100, max_depth=5.  The perform one run of k-fold validation to see what sort of accuracy you get.   An average macro accuracy of 86% on the test set is reasonable with these parameters."
      ]
    },
    {
      "metadata": {
        "id": "gSllKaJhxC8L",
        "colab_type": "code",
        "colab": {}
      },
      "cell_type": "code",
      "source": [
        "# \n",
        "# Your code here"
      ],
      "execution_count": 0,
      "outputs": []
    },
    {
      "metadata": {
        "id": "ArlCTtBuxHqy",
        "colab_type": "text"
      },
      "cell_type": "markdown",
      "source": [
        "## Finding the Optimal max_depth\n",
        "Here you want to loop from max_depth=2 to 22.   You could do this in increments of 2 (2,4,6,8..,20,22) to save time.   Save the performance (macro_accuracy) at each max_depth."
      ]
    },
    {
      "metadata": {
        "id": "CqgL4MFxxfW7",
        "colab_type": "code",
        "colab": {}
      },
      "cell_type": "code",
      "source": [
        "# \n",
        "# Your code here"
      ],
      "execution_count": 0,
      "outputs": []
    },
    {
      "metadata": {
        "id": "vCF48Qr8xgpz",
        "colab_type": "text"
      },
      "cell_type": "markdown",
      "source": [
        "## Plot accuracy vs max_depth\n",
        "This plot should have both train and test results on it.   And it should be obvious what the final max_depth choice should be."
      ]
    },
    {
      "metadata": {
        "id": "HuB1GbyHxtip",
        "colab_type": "code",
        "colab": {}
      },
      "cell_type": "code",
      "source": [
        "# \n",
        "# Your code here"
      ],
      "execution_count": 0,
      "outputs": []
    },
    {
      "metadata": {
        "id": "Ip7LL-PExujE",
        "colab_type": "text"
      },
      "cell_type": "markdown",
      "source": [
        "## Feature importance\n",
        "As noted above, we want to find the feature importance of the pixels.   However, we want to do this with the **final** model.   What is the final model?   The model with the ideal max_depth that we determined above.   So you will want to re-train the model, using this max_depth, as well as the **full** data.   Look at how this is done at the end of \"forest_htru2.ipynb\".\n",
        "\n",
        "Also, to plot the feature importance of the pixels, you will have to reshape the returned importances (with are of length 784) to an array of shape (28,28).   Then you can plot them as a heatmap.   Use google to find the appropriate plotly commands (google \"plotly heatmap\").\n",
        "\n",
        "Also, are you sure that the orientation of the heatmap is correct?   Come up with a way of checking this."
      ]
    },
    {
      "metadata": {
        "id": "8Dk-ctNLzWVw",
        "colab_type": "code",
        "colab": {}
      },
      "cell_type": "code",
      "source": [
        "##\n",
        "# Your code here"
      ],
      "execution_count": 0,
      "outputs": []
    }
  ]
}