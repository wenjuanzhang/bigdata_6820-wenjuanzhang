{
  "nbformat": 4,
  "nbformat_minor": 0,
  "metadata": {
    "colab": {
      "name": "assignment7.ipynb",
      "version": "0.3.2",
      "provenance": [],
      "collapsed_sections": []
    },
    "kernelspec": {
      "name": "python3",
      "display_name": "Python 3"
    }
  },
  "cells": [
    {
      "metadata": {
        "id": "XFRQWLtQz3Fx",
        "colab_type": "text"
      },
      "cell_type": "markdown",
      "source": [
        "# Assignment 7\n",
        "Our goal in this assignment is to apply our logistic regression technique to some new samples\n",
        "1.  Apply the technique to the pulsar dataset, but using only two variables.   Plot the cost function and the decision boundary.   Compare the $theta$ values you obtain with your method with the results that you get using the scipy minimization methods.   **NOTE**: you may need to adjust your learning rate and delta parameters to get convergence.\n",
        "2. Apply the technique to the MINST dataset, using one digit (say 5) as the positive (y=1) class, and another digit (say 7) as the negative (y=0) class.\n",
        "3. **Extra**: Try to do a simple version of a multi-class classification problem using MNIST: use 3 digits.   Your primary output should be a confusion matrix.   Hint: you will want to loop over the 3 digits, in each case treating that digit as signal, and the others as background."
      ]
    },
    {
      "metadata": {
        "id": "LpKW8iKl1Ci8",
        "colab_type": "text"
      },
      "cell_type": "markdown",
      "source": [
        "# 1: Pulsar dataset"
      ]
    },
    {
      "metadata": {
        "id": "z_M4WF7i1NGP",
        "colab_type": "code",
        "colab": {}
      },
      "cell_type": "code",
      "source": [
        "import pandas as pd\n",
        "\n",
        "#\n",
        "# Get the feature data\n",
        "url = \"https://raw.githubusercontent.com/big-data-analytics-physics/data/master/HTRU2/HTRU_2a.csv\"\n",
        "dfAll=pd.read_csv(url)\n",
        "#\n",
        "# Make sure our dataset is balanced\n",
        "dfA = dfAll[dfAll['class']==1]\n",
        "dfB = dfAll[dfAll['class']==0]\n",
        "dfB_use = dfB.head(len(dfA))\n",
        "dfCombined = dfB_use\n",
        "dfCombined = pd.concat([dfCombined, dfA])\n"
      ],
      "execution_count": 0,
      "outputs": []
    },
    {
      "metadata": {
        "id": "-dT_CdExMPjG",
        "colab_type": "text"
      },
      "cell_type": "markdown",
      "source": [
        "# Pull in methods from logistic class"
      ]
    },
    {
      "metadata": {
        "id": "DaF6L5pxMRTv",
        "colab_type": "text"
      },
      "cell_type": "markdown",
      "source": [
        "#Code to run the fit"
      ]
    },
    {
      "metadata": {
        "id": "2c_gwETpMV2U",
        "colab_type": "text"
      },
      "cell_type": "markdown",
      "source": [
        "#Plot the decision boundary"
      ]
    },
    {
      "metadata": {
        "id": "7IPFJAf7MZ_9",
        "colab_type": "text"
      },
      "cell_type": "markdown",
      "source": [
        ""
      ]
    },
    {
      "metadata": {
        "id": "jGJ3EO54McR_",
        "colab_type": "text"
      },
      "cell_type": "markdown",
      "source": [
        "# Plot the cost"
      ]
    },
    {
      "metadata": {
        "id": "P0u9IEX6MkGY",
        "colab_type": "text"
      },
      "cell_type": "markdown",
      "source": [
        "# 2. Apply to MNIST dataset\n",
        "Here we will want to bring in two digits, then split into a train a test sample.   "
      ]
    },
    {
      "metadata": {
        "id": "PhLtak6CM0om",
        "colab_type": "code",
        "colab": {}
      },
      "cell_type": "code",
      "source": [
        "#\n",
        "# Form our test and train data\n",
        "from sklearn.model_selection import train_test_split\n",
        "\n",
        "#short = \"\"\n",
        "short = \"short_\"\n",
        "dfCombined = pd.DataFrame()\n",
        "#\n",
        "# Read in 5's\n",
        "digit = 9\n",
        "fname = 'https://raw.githubusercontent.com/big-data-analytics-physics/data/master/ch3/digit_' + short + str(digit) + '.csv'\n",
        "df = pd.read_csv(fname,header=None)\n",
        "df['signal'] = 0\n",
        "dfCombined = pd.concat([dfCombined, df])\n",
        "#\n",
        "# Read in 5's\n",
        "digit = 7\n",
        "fname = 'https://raw.githubusercontent.com/big-data-analytics-physics/data/master/ch3/digit_' + short + str(digit) + '.csv'\n",
        "df = pd.read_csv(fname,header=None)\n",
        "df['signal'] = 1\n",
        "dfCombined = pd.concat([dfCombined, df])\n"
      ],
      "execution_count": 0,
      "outputs": []
    },
    {
      "metadata": {
        "id": "HWCfbGL1NCyQ",
        "colab_type": "text"
      },
      "cell_type": "markdown",
      "source": [
        "# 3: Extra: Multi-class classification"
      ]
    },
    {
      "metadata": {
        "id": "fI-zKVm4NFzk",
        "colab_type": "code",
        "colab": {}
      },
      "cell_type": "code",
      "source": [
        "#\n",
        "# Form our test and train data\n",
        "from sklearn.model_selection import train_test_split\n",
        "from sklearn.utils import shuffle\n",
        "\n",
        "#short = \"\"\n",
        "short = \"short_\"\n",
        "dfCombined = pd.DataFrame()\n",
        "#\n",
        "# Read in 5's\n",
        "digit = 5\n",
        "fname = 'https://raw.githubusercontent.com/big-data-analytics-physics/data/master/ch3/digit_' + short + str(digit) + '.csv'\n",
        "df = pd.read_csv(fname,header=None)\n",
        "df['digit'] = 5\n",
        "dfCombined = pd.concat([dfCombined, df])\n",
        "#\n",
        "# Read in 5's\n",
        "digit = 6\n",
        "fname = 'https://raw.githubusercontent.com/big-data-analytics-physics/data/master/ch3/digit_' + short + str(digit) + '.csv'\n",
        "df = pd.read_csv(fname,header=None)\n",
        "df['digit'] = 6\n",
        "dfCombined = pd.concat([dfCombined, df])\n",
        "#\n",
        "# Read in 5's\n",
        "digit = 7\n",
        "fname = 'https://raw.githubusercontent.com/big-data-analytics-physics/data/master/ch3/digit_' + short + str(digit) + '.csv'\n",
        "df = pd.read_csv(fname,header=None)\n",
        "df['digit'] = 7\n",
        "dfCombined = pd.concat([dfCombined, df])\n",
        "\n",
        "#\n",
        "# Get a test and train sample\n",
        "train_digits,test_digits = train_test_split(dfCombined, test_size=0.3, random_state=42)\n",
        "\n",
        "#\n",
        "# Do you want to scale here?\n",
        "\n",
        "# loop over the 3 digits\n",
        "ThetaDigit = {}       # This is storage for your individual models\n",
        "digits = [5,6,7]\n",
        "for digit in digits:\n",
        "  \n",
        "  "
      ],
      "execution_count": 0,
      "outputs": []
    },
    {
      "metadata": {
        "id": "ADkcoPrAz2I9",
        "colab_type": "code",
        "colab": {}
      },
      "cell_type": "code",
      "source": [
        ""
      ],
      "execution_count": 0,
      "outputs": []
    }
  ]
}