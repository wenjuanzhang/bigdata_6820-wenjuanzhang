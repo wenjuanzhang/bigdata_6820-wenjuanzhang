{
  "nbformat": 4,
  "nbformat_minor": 0,
  "metadata": {
    "colab": {
      "name": "assignment5.ipynb",
      "version": "0.3.2",
      "provenance": []
    },
    "kernelspec": {
      "name": "python3",
      "display_name": "Python 3"
    }
  },
  "cells": [
    {
      "metadata": {
        "id": "FggU7Q2CI7Du",
        "colab_type": "text"
      },
      "cell_type": "markdown",
      "source": [
        "# Assignment 6: Multi-class classification\n",
        "\n",
        "For this assignment, there are two basic tasks and an open ended additional task for more challenges:\n",
        "1.  Add the \"macro\" averaged precision and recall to the **multiPerformance** method from the multicassv2 exercise (copy all of the relevant code to this module).\n",
        "2.  Add one more class - letters - to your multi-class classifier.   So your classifier will have a total of 11 classes.   The letters data sample is here:\n",
        "            *  Shorter (1000 samples): https://raw.githubusercontent.com/big-data-analytics-physics/data/master/emnist/emnist_letters_shuffled_1k.csv\n",
        "            *  Longer (7000 samples): https://raw.githubusercontent.com/big-data-analytics-physics/data/master/emnist/emnist_letters_shuffled_7k.csv\n",
        "      Note that each of these files has a random sample of 26 upper and lower case english letters.\n",
        "      \n",
        "3.  Extra stuff: if you have time and are looking to expand your abilities, try your hand at data augmentation of the MNIST dataset.   The idea is to examine how to increase (or augment) your data sample, by resampling your existing data sample.  Here are some ideas:\n",
        "             * shift randomly, by 1-2 pixels, the images up/down/left/right\n",
        "             * random rotations by a few degrees.\n",
        "             \n",
        "      First verify that your modifications are working (by displaying the images), then make a \"test\" set using the augmented images only, and compare how it performs using a training set drawn from the original (non-augmented) data set"
      ]
    }
  ]
}